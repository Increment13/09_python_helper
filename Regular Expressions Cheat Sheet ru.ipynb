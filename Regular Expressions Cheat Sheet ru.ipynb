{
 "cells": [
  {
   "cell_type": "code",
   "execution_count": 1,
   "id": "c671f91a-9098-4210-ab0a-08489ff5ac88",
   "metadata": {},
   "outputs": [],
   "source": [
    "import re "
   ]
  },
  {
   "cell_type": "markdown",
   "id": "fd6d7f61-1af8-471b-998b-c6674310201c",
   "metadata": {},
   "source": [
    "Регулярные выражения (regex или regexp) представляют собой набор символов, описывающий объем текста. Регулярные выражения являются одним из наиболее широко используемых инструментов обработки естественного языка и позволяют выполнять общие задачи по манипулированию текстовыми данными."
   ]
  },
  {
   "cell_type": "markdown",
   "id": "8b40b3d0-c662-41fb-8470-5560b7bdba0d",
   "metadata": {
    "tags": []
   },
   "source": [
    "# Функции RE"
   ]
  },
  {
   "cell_type": "markdown",
   "id": "3cf35350-b1ad-405c-a8c3-6773734ff272",
   "metadata": {},
   "source": [
    "Функции для работы с регулярками живут в модуле re. Основные функции:"
   ]
  },
  {
   "cell_type": "markdown",
   "id": "a564b471-50d7-45a1-8b22-20b60d951fa8",
   "metadata": {},
   "source": [
    "- `re.search(pattern, string)`   Найти в строке string первую строчку, подходящую под шаблон pattern;\n",
    "- `re.fullmatch(pattern, string)`   Проверить, подходит ли строка string под шаблон pattern;\n",
    "- `re.split(pattern, string, maxsplit=0)`   Аналог str.split(), только разделение происходит по подстрокам, подходящим под шаблон pattern;\n",
    "- `re.findall(pattern, string)`\tНайти в строке string все непересекающиеся шаблоны pattern;\n",
    "- `re.finditer(pattern, string)`   Итератор всем непересекающимся шаблонам pattern в строке string (выдаются match-объекты);\n",
    "- `re.sub(pattern, repl, string, count=0)`   Заменить в строке string все непересекающиеся шаблоны pattern на repl;"
   ]
  },
  {
   "cell_type": "markdown",
   "id": "d4372f75-5940-49bb-940f-90af02dbdc11",
   "metadata": {},
   "source": [
    "### re.search(pattern, string)"
   ]
  },
  {
   "cell_type": "code",
   "execution_count": 2,
   "id": "fef7a6cd-d49f-48e4-a5aa-9e767e2f1741",
   "metadata": {},
   "outputs": [
    {
     "name": "stdout",
     "output_type": "stream",
     "text": [
      "30.11.1987\n"
     ]
    }
   ],
   "source": [
    "match = re.search(r'\\d{2}\\D\\d{2}\\D\\d{4}', 'Дата рождения 30.11.1987') \n",
    "print(match[0] if match else 'Not found')"
   ]
  },
  {
   "cell_type": "code",
   "execution_count": 3,
   "id": "d89c729f-8aad-43d4-ab8f-001756ff50cc",
   "metadata": {},
   "outputs": [
    {
     "name": "stdout",
     "output_type": "stream",
     "text": [
      "Not found\n"
     ]
    }
   ],
   "source": [
    "match = re.search(r'\\d{2}\\D\\d{2}\\D\\d{4}', 'Дата рождения 1986-11-30') \n",
    "print(match[0] if match else 'Not found')"
   ]
  },
  {
   "cell_type": "markdown",
   "id": "4a1c816b-5978-4054-8b5b-b182d52ae736",
   "metadata": {},
   "source": [
    "### re.fullmatch(pattern, string)"
   ]
  },
  {
   "cell_type": "code",
   "execution_count": 4,
   "id": "fca0c800-1bc5-414d-8129-899359eab5ee",
   "metadata": {},
   "outputs": [
    {
     "name": "stdout",
     "output_type": "stream",
     "text": [
      "Not found\n"
     ]
    }
   ],
   "source": [
    "match = re.fullmatch(r'\\d{2}\\D\\d{2}\\D\\d{4}', '30.11.1987г') \n",
    "print(match[0] if match else 'Not found')"
   ]
  },
  {
   "cell_type": "code",
   "execution_count": 5,
   "id": "35988c8e-7f63-48c5-81e5-0cca04a30228",
   "metadata": {},
   "outputs": [
    {
     "name": "stdout",
     "output_type": "stream",
     "text": [
      "30.11.1987\n"
     ]
    }
   ],
   "source": [
    "match = re.fullmatch(r'\\d{2}\\D\\d{2}\\D\\d{4}', '30.11.1987') \n",
    "print(match[0] if match else 'Not found')"
   ]
  },
  {
   "cell_type": "markdown",
   "id": "ca70715d-1e43-4173-9b01-a924aa5ea490",
   "metadata": {},
   "source": [
    "### re.split(pattern, string, maxsplit=0)"
   ]
  },
  {
   "cell_type": "code",
   "execution_count": 6,
   "id": "af4df242-1677-4edc-9b0d-7fa9d3eea1d6",
   "metadata": {},
   "outputs": [
    {
     "name": "stdout",
     "output_type": "stream",
     "text": [
      "['Где', 'деньги', 'Лебовски', '']\n"
     ]
    }
   ],
   "source": [
    "print(re.split('\\W+', 'Где деньги, Лебовски?!')) "
   ]
  },
  {
   "cell_type": "code",
   "execution_count": 7,
   "id": "c9733192-ef23-4087-92e0-ea5faf9d8d6d",
   "metadata": {},
   "outputs": [
    {
     "name": "stdout",
     "output_type": "stream",
     "text": [
      "['Где деньги', ' Лебовски?!']\n"
     ]
    }
   ],
   "source": [
    "print(re.split(',', 'Где деньги, Лебовски?!')) "
   ]
  },
  {
   "cell_type": "markdown",
   "id": "2e531930-ab28-4e09-b620-e495ffa34001",
   "metadata": {},
   "source": [
    "### re.findall(pattern, string)"
   ]
  },
  {
   "cell_type": "code",
   "execution_count": 8,
   "id": "0e51b230-b332-4788-9cef-33e320461b02",
   "metadata": {},
   "outputs": [
    {
     "name": "stdout",
     "output_type": "stream",
     "text": [
      "['01.12.2023', '10.12.2023']\n"
     ]
    }
   ],
   "source": [
    "print(re.findall('\\d{2}\\D\\d{2}\\D\\d{4}', 'Дедлайн по задаче был 01.12.2023, но ее здали только 10.12.2023. Странно, ведь по jire видно что все готово было к 2023-11-20. Видимо была найдена ошибка')) "
   ]
  },
  {
   "cell_type": "markdown",
   "id": "4a050dc9-2529-4af1-b4aa-7cb38f8f3b0a",
   "metadata": {},
   "source": [
    "### re.finditer(pattern, string)"
   ]
  },
  {
   "cell_type": "code",
   "execution_count": 9,
   "id": "08bd25ab-075e-49a6-960c-8beb9df5e24c",
   "metadata": {},
   "outputs": [
    {
     "name": "stdout",
     "output_type": "stream",
     "text": [
      "01.12.2023 start row in 22\n",
      "10.12.2023 start row in 53\n"
     ]
    }
   ],
   "source": [
    "# в array.start() хранится позиция, данные лучше доставать из цикла \n",
    "for n in re.finditer(r'\\d\\d\\.\\d\\d\\.\\d{4}', 'Дедлайн по задаче был 01.12.2023, но ее здали только 10.12.2023'):\n",
    "    print(n[0], 'start row in', n.start())"
   ]
  },
  {
   "cell_type": "code",
   "execution_count": 10,
   "id": "12d74bf1-a4db-412e-8548-8321528577d9",
   "metadata": {},
   "outputs": [
    {
     "name": "stdout",
     "output_type": "stream",
     "text": [
      "14\n",
      "36\n"
     ]
    }
   ],
   "source": [
    "match = re.finditer(r'\\d{2}\\D\\d{2}\\D\\d{4}', 'Дата рождения 30.11.1987, а у Марии 08.02.1990') \n",
    "for n in match:\n",
    "    print(n.start())"
   ]
  },
  {
   "cell_type": "markdown",
   "id": "d28b4669-ed77-4dd8-8546-57ee329eaefe",
   "metadata": {},
   "source": [
    "### re.sub(pattern, repl, string, count=0)"
   ]
  },
  {
   "cell_type": "code",
   "execution_count": 11,
   "id": "dc38f7b9-8659-4ad9-8b08-0daccb72092b",
   "metadata": {},
   "outputs": [
    {
     "name": "stdout",
     "output_type": "stream",
     "text": [
      "Дедлайн по задаче был DD.MM.YYYY, но ее здали только DD.MM.YYYY\n"
     ]
    }
   ],
   "source": [
    "print(re.sub(r'\\d{2}\\D\\d{2}\\D\\d{4}', \n",
    "             'DD.MM.YYYY', \n",
    "             'Дедлайн по задаче был 01.12.2023, но ее здали только 10.12.2023')) "
   ]
  },
  {
   "cell_type": "markdown",
   "id": "7c3f5de1-b3b2-4aaa-addc-106a3a6d2795",
   "metadata": {
    "tags": []
   },
   "source": [
    "# Определения"
   ]
  },
  {
   "cell_type": "markdown",
   "id": "a74762db-a1c5-4b11-a9ca-ac4f0b3c60c1",
   "metadata": {},
   "source": [
    "- `Буквальный символ` — это самое простое регулярное выражение, которое вы можете использовать. Он просто соответствует реальному символу, который вы пишете. Итак, если вы пытаетесь представить букву «r», вы должны написать r. \n",
    "- `Метасимволы` сообщают механизму регулярных выражений, что следующий символ имеет особое значение. Обычно вы включаете \\ перед метасимволом, и они могут выполнять такие действия, как обозначение начала строки, конец строки или соответствие любому отдельному символу. \n",
    "- `Класс символов:` (или набор символов) сообщает движку искать один из списка символов. Это обозначается символами [ и ] с искомыми символами в середине скобок. \n",
    "- `Группа захвата` обозначается открывающей и закрывающей круглой скобкой. Они позволяют группировать регулярные выражения вместе, чтобы применить к группе другие функции регулярных выражений, такие как квантификаторы"
   ]
  },
  {
   "cell_type": "markdown",
   "id": "f7bb536e-da4d-4763-953d-a3f23cb2e9a9",
   "metadata": {},
   "source": [
    "## Anchors"
   ]
  },
  {
   "cell_type": "markdown",
   "id": "c5a0a329-9376-4440-aafa-022568f5e10f",
   "metadata": {},
   "source": [
    "Anchors match a position before or after other characters."
   ]
  },
  {
   "cell_type": "markdown",
   "id": "66a4eed5-c429-4013-a3be-fdfc32393e79",
   "metadata": {},
   "source": [
    "<img src=\"./pictures_regex/1.png\"  \n",
    "  width=\"600\"\n",
    "/>"
   ]
  },
  {
   "cell_type": "markdown",
   "id": "899b1113-982b-4ba3-9e4a-fff20ef26481",
   "metadata": {},
   "source": [
    "## Matching types of character"
   ]
  },
  {
   "cell_type": "markdown",
   "id": "b4e2637f-9088-4a66-bb5e-6ad10c00915c",
   "metadata": {},
   "source": [
    "Rather than matching specific characters, you can match specific types of characters such as letters, numbers, and more."
   ]
  },
  {
   "cell_type": "markdown",
   "id": "4bb28830-1a8b-4618-a046-45cbfb9dfae7",
   "metadata": {},
   "source": [
    "<img src=\"./pictures_regex/2.png\"  \n",
    "  width=\"600\"\n",
    "/>"
   ]
  },
  {
   "cell_type": "markdown",
   "id": "78c8ccef-80c7-427c-97ee-96a4f45f3696",
   "metadata": {},
   "source": [
    "## Character classes"
   ]
  },
  {
   "cell_type": "markdown",
   "id": "4c530b1e-5327-42ef-9c3a-3fa033e8c9c1",
   "metadata": {},
   "source": [
    "Character classes are sets or ranges of characters."
   ]
  },
  {
   "cell_type": "markdown",
   "id": "6587007a-fd39-4b84-a03e-123e0c73a436",
   "metadata": {},
   "source": [
    "<img src=\"./pictures_regex/3.png\"  \n",
    "  width=\"600\"\n",
    "/>"
   ]
  },
  {
   "cell_type": "markdown",
   "id": "4249b7dc-bed2-4c4f-85d5-de445b16327d",
   "metadata": {},
   "source": [
    "## Repetition"
   ]
  },
  {
   "cell_type": "markdown",
   "id": "f7deb3a9-f1d9-460e-8e7c-b4cad073cdc0",
   "metadata": {},
   "source": [
    "Rather than matching single instances of characters, you can match repeated characters. "
   ]
  },
  {
   "cell_type": "markdown",
   "id": "6c6e9585-00cb-437b-be9f-1af1865b7d2b",
   "metadata": {},
   "source": [
    "<img src=\"./pictures_regex/4.png\"  \n",
    "  width=\"600\"\n",
    "/>"
   ]
  },
  {
   "cell_type": "markdown",
   "id": "67417448-5efb-4722-9dfa-3f52acc9caa7",
   "metadata": {},
   "source": [
    "## Capturing, alternation & backreferences"
   ]
  },
  {
   "cell_type": "markdown",
   "id": "a6d337e2-ea2d-4144-bdb5-c8061258aae7",
   "metadata": {},
   "source": [
    "In order to extract specific parts of a string, you can capture those parts, and even name the parts that you captured."
   ]
  },
  {
   "cell_type": "markdown",
   "id": "d079b451-8fe8-4fe2-82ac-f2b37694444c",
   "metadata": {},
   "source": [
    "<img src=\"./pictures_regex/5.png\"  \n",
    "  width=\"600\"\n",
    "/>"
   ]
  },
  {
   "cell_type": "markdown",
   "id": "a300ce49-6ef6-4f6f-9a6e-7571271237b7",
   "metadata": {},
   "source": [
    "## Lookahead "
   ]
  },
  {
   "cell_type": "markdown",
   "id": "07c43170-2717-4d7d-804a-1f60b1d838d4",
   "metadata": {},
   "source": [
    "You can specify that specific characters must appear before or after you match, without including those characters in the match."
   ]
  },
  {
   "cell_type": "markdown",
   "id": "d5d417b4-de44-4257-b1c9-121bcfc227de",
   "metadata": {},
   "source": [
    "<img src=\"./pictures_regex/6.png\"  \n",
    "  width=\"600\"\n",
    "/>"
   ]
  },
  {
   "cell_type": "markdown",
   "id": "2f9a58db-9912-4dbe-87d1-30f47b8709d6",
   "metadata": {},
   "source": [
    "## Literal matches and modifiers"
   ]
  },
  {
   "cell_type": "markdown",
   "id": "06bdc08e-e0b7-48dd-88e2-dd03082c070d",
   "metadata": {},
   "source": [
    "Modifiers are settings that change the way the matching rules work."
   ]
  },
  {
   "cell_type": "markdown",
   "id": "5a09393d-2913-498f-874d-6443797b2383",
   "metadata": {},
   "source": [
    "<img src=\"./pictures_regex/7.png\"  \n",
    "  width=\"600\"\n",
    "/>"
   ]
  },
  {
   "cell_type": "markdown",
   "id": "0e0a2efb-3c29-4be8-accf-eb9bc2ff35be",
   "metadata": {},
   "source": [
    "## Unicode"
   ]
  },
  {
   "cell_type": "markdown",
   "id": "99f170ff-8743-47a8-81ba-225415a9d354",
   "metadata": {},
   "source": [
    "Regular expressions can work beyond the Roman alphabet, with things like Chinese characters or emoji."
   ]
  },
  {
   "cell_type": "markdown",
   "id": "04ffd58b-5055-450c-9571-e456f48d1c92",
   "metadata": {},
   "source": [
    "<img src=\"./pictures_regex/8.png\"  \n",
    "  width=\"600\"\n",
    "/>"
   ]
  },
  {
   "cell_type": "markdown",
   "id": "9a0cc63c-0480-4850-a078-90490e08491c",
   "metadata": {},
   "source": [
    "# Примеры использования "
   ]
  },
  {
   "cell_type": "code",
   "execution_count": 12,
   "id": "55622e6d-d5a6-4a4c-b646-b8adca8f6174",
   "metadata": {},
   "outputs": [
    {
     "data": {
      "text/plain": [
       "['bilyko@englishdom.com']"
      ]
     },
     "execution_count": 12,
     "metadata": {},
     "output_type": "execute_result"
    }
   ],
   "source": [
    "# пример проверка почты\n",
    "mail_pattern = r'[a-zA-Z0-9._%+-]+@[a-zA-Z0-9.-]+\\.[a-zA-Z]{2,}'\n",
    "\n",
    "txt = '''Звикли дивитися багато відео? - Робіть це з користю і вчіть мову! \n",
    "         Пропонуємо провести дозвілля переглядом відео-блогу для вивчення англійської за фільмами, шоу, серіалів і пісням у нашому YouTube-каналі https://www.youtube.com/@EnglishdomUA\n",
    "         \n",
    "         Залишились питання, пишіть на bilyko@englishdom.com'''\n",
    "\n",
    "mail = re.findall(mail_pattern, txt) \n",
    "mail"
   ]
  },
  {
   "cell_type": "code",
   "execution_count": 13,
   "id": "6768e71c-8308-47f9-b3fb-7ffbda54b123",
   "metadata": {},
   "outputs": [
    {
     "data": {
      "text/plain": [
       "['https://www.youtube.com/@EnglishdomUA']"
      ]
     },
     "execution_count": 13,
     "metadata": {},
     "output_type": "execute_result"
    }
   ],
   "source": [
    "# Из этого же текста достанем сайт \n",
    "\n",
    "http_patern = r'\\bhttps?:\\/\\/\\S+\\b'\n",
    "\n",
    "http = re.findall(http_patern, txt) \n",
    "http"
   ]
  },
  {
   "cell_type": "code",
   "execution_count": 14,
   "id": "175faf53-bbbc-4057-b965-c460c27f098c",
   "metadata": {},
   "outputs": [
    {
     "name": "stdout",
     "output_type": "stream",
     "text": [
      "['кода.']\n",
      "['Регулярные']\n"
     ]
    }
   ],
   "source": [
    "# последнее слово в тексте или первое\n",
    "\n",
    "txt = '''Регулярные выражения — это чрезвычайно важная часть деятельности программиста и полезный инструмент в рабочем арсенале. \n",
    "         Они избавляют от необходимости часами сидеть за написанием неоправданно длинного кода.'''\n",
    "\n",
    "last_word_pattern = '\\w+\\W$'\n",
    "first_word_pattern = '^\\w+'\n",
    "\n",
    "last_word = re.findall(last_word_pattern, txt) \n",
    "print(last_word)\n",
    "\n",
    "first_word = re.findall(first_word_pattern, txt) \n",
    "print(first_word)"
   ]
  },
  {
   "cell_type": "code",
   "execution_count": 15,
   "id": "a4e4b869-7f63-4774-b5b4-9743f262e1c3",
   "metadata": {},
   "outputs": [
    {
     "name": "stdout",
     "output_type": "stream",
     "text": [
      "['21 декабря 2007', '30 марта 2008', '1 января 2014']\n"
     ]
    }
   ],
   "source": [
    "# даты в разных стилях\n",
    "txt = '''21 декабря 2007 года Латвия вошла в состав, а с 30 марта 2008 года полностью применяет правила Шенгенской зоны. 1 января 2014 года Латвия стала 18-м членом Еврозоны.'''\n",
    "\n",
    "date_pattern = '\\d{1,2}\\D\\S+\\D\\d{4}'\n",
    "\n",
    "date= re.findall(date_pattern, txt) \n",
    "print(date)"
   ]
  },
  {
   "cell_type": "code",
   "execution_count": 16,
   "id": "71645e4c-02a6-4c7c-a0aa-9c241e7a476f",
   "metadata": {},
   "outputs": [
    {
     "name": "stdout",
     "output_type": "stream",
     "text": [
      "['250 км', '450 км']\n"
     ]
    }
   ],
   "source": [
    "# чило c приставками\n",
    "\n",
    "txt = '''Протяжённость страны с севера на юг составляет 250 км, а с запада на восток — 450 км. \n",
    "         Латвия граничит с Эстонией на севере, Россией — на востоке, с Белоруссией — на юго-востоке и Литвой — на юге.'''\n",
    "\n",
    "\n",
    "number_pattern = r'\\d{1,}\\Wкм'\n",
    "\n",
    "number = re.findall(number_pattern, txt) \n",
    "print(number)"
   ]
  },
  {
   "cell_type": "code",
   "execution_count": 17,
   "id": "f21d3e0b-722c-49dc-8415-5911c47ff19f",
   "metadata": {},
   "outputs": [
    {
     "data": {
      "text/plain": [
       "{'Sylvie': '20', 'Christoph': '55', 'Johannes': '100'}"
      ]
     },
     "execution_count": 17,
     "metadata": {},
     "output_type": "execute_result"
    }
   ],
   "source": [
    "## пример Необходимо из текста достать имя и возраст \n",
    "\n",
    "txt =  '''Sylvie is 20 years old, her father, Christoph, is 55.\n",
    "        Her grandfather Johannes was born at the end of WW-1 in 1918.\n",
    "        He was 100 years old when he died in 2018'''\n",
    "\n",
    "# Поскольку указанный в тексте возраст состоит из 2 или 3 цифр, то используется регулярное выражение \\d{2,3}. \n",
    "# Оно с двух сторон ограничено \\b, поскольку нам не нужны группы из 2 или 3 цифр, полученные из числа 1918. \n",
    "ages = re.findall(r'\\b\\d{2,3}\\b', txt)  \n",
    "\n",
    "\n",
    "# С именами в данном тексте все просто. \n",
    "# Вполне сработает поиск всех слов, начинающихся с заглавных букв и содержащих более 3 символов. Делаем это также с границами.\n",
    "names = re.findall (r'\\b[A-Z][a-z]{3,}\\b',txt)\n",
    "\n",
    "dict(zip(names, ages))"
   ]
  }
 ],
 "metadata": {
  "kernelspec": {
   "display_name": "Python 3 (ipykernel)",
   "language": "python",
   "name": "python3"
  },
  "language_info": {
   "codemirror_mode": {
    "name": "ipython",
    "version": 3
   },
   "file_extension": ".py",
   "mimetype": "text/x-python",
   "name": "python",
   "nbconvert_exporter": "python",
   "pygments_lexer": "ipython3",
   "version": "3.10.9"
  }
 },
 "nbformat": 4,
 "nbformat_minor": 5
}
