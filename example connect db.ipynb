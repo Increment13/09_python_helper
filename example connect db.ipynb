{
 "cells": [
  {
   "cell_type": "code",
   "execution_count": 1,
   "id": "59212e87-f0a3-4990-9b69-afe86c190c6b",
   "metadata": {},
   "outputs": [
    {
     "data": {
      "text/plain": [
       "['./config.ini']"
      ]
     },
     "execution_count": 1,
     "metadata": {},
     "output_type": "execute_result"
    }
   ],
   "source": [
    "import pandas as pd\n",
    "import configparser # for read config.ini\n",
    "import sqlalchemy # for connect to db\n",
    "from sqlalchemy import create_engine # for create engine\n",
    "\n",
    "config = configparser.ConfigParser()\n",
    "config.read('./config.ini')"
   ]
  },
  {
   "cell_type": "code",
   "execution_count": 4,
   "id": "6260096e-6f9a-4771-a5a2-946f9a3b63b5",
   "metadata": {},
   "outputs": [
    {
     "data": {
      "text/plain": [
       "'DWH_SYBASE_PROD'"
      ]
     },
     "execution_count": 4,
     "metadata": {},
     "output_type": "execute_result"
    }
   ],
   "source": [
    "config.get('SYBASE_PROD', 'dns')"
   ]
  },
  {
   "cell_type": "code",
   "execution_count": 8,
   "id": "c008a806-a73a-48bf-ad2e-2fef013d8402",
   "metadata": {},
   "outputs": [],
   "source": [
    "## Need created ODBC connect x64 before start\n",
    "def connected_bd(db):\n",
    "    if db == 'ORA':\n",
    "        user = config.get('ORA_DB', 'user')\n",
    "        pwd = config.get('ORA_DB', 'pwd')\n",
    "        dsn = cx_Oracle.makedsn(\n",
    "            'dwh.ukr',\n",
    "            '1525',\n",
    "            service_name='dwh.ukr')\n",
    "        conn_ora = cx_Oracle.connect(\n",
    "            user=user,\n",
    "            password=pwd,\n",
    "            dsn=dsn)\n",
    "        return conn_ora\n",
    "    \n",
    "    if db == 'sysprod':\n",
    "        user = config.get('SYBASE_PROD', 'user')\n",
    "        pwd = config.get('SYBASE_PROD', 'pwd')\n",
    "        dns = config.get('SYBASE_PROD', 'dns')\n",
    "        engine = create_engine(f\"sybase+pyodbc://{user}:{pwd}@{dns}\")\n",
    "        return engine\n",
    "    \n",
    "    if db == 'systest':\n",
    "        user = config.get('SYBASE_TEST', 'user')\n",
    "        pwd = config.get('SYBASE_TEST', 'pwd')\n",
    "        dns = config.get('SYBASE_TEST', 'dns')\n",
    "        engine = create_engine(f\"sybase+pyodbc://{user}:{pwd}@{dns}\")\n",
    "        return engine"
   ]
  },
  {
   "cell_type": "code",
   "execution_count": 9,
   "id": "c444d839-e90e-40bb-8d69-69953bc5e692",
   "metadata": {},
   "outputs": [],
   "source": [
    "engine_prod = connected_bd('sysprod')"
   ]
  },
  {
   "cell_type": "code",
   "execution_count": 17,
   "id": "cd0be4e2-efc3-4375-a2db-6ea23065ca3a",
   "metadata": {},
   "outputs": [],
   "source": [
    "ddate = \"convert(datetime, '2022-09-30', 121)\"\n",
    "\n",
    "\n",
    "field = \"\"\"a.CUSTOMER,\n",
    "           a.CUST_LOAN_GROUP,\n",
    "           a.DESCRIPTION,\n",
    "           a.CREATE_PRINCIPLE,\n",
    "           a.VALID_FROM,\n",
    "           a.VALID_TO,\n",
    "           a.MAIN_CUSTOMER,\n",
    "           b.CUSTOMER_STATUS, \n",
    "           b.SHORT_NAME_LNG\"\"\"\n",
    "\n",
    "exp = \"\"\",SUM( \n",
    "                db.DISCOUNT_EUR  \n",
    "                + db.DEFF_EXPENSE_EUR \n",
    "                + db.DEFF_INCOME_EUR  \n",
    "                + db.INTEREST_RES_EUR  \n",
    "                + db.OVERDUE_RES_INTEREST_EUR  \n",
    "                + db.INTEREST_PNLT_RES_EUR  \n",
    "                + db.INTEREST_SP_PNLT_RES_EUR  \n",
    "                + db.OVERDUE_SP_RES_INTEREST_EUR  \n",
    "                + db.INTEREST_EUR  \n",
    "                + db.INTEREST_SUSP_EUR  \n",
    "                + db.OFF_BALANCE_EUR  \n",
    "                + CASE WHEN (db.PRINCIPAL_EUR  \n",
    "                + db.PART_WOFF_EUR  \n",
    "                + db.OVERDUE_PRINCIPAL_EUR  \n",
    "                + db.OTHER_CHARGES_EUR) > 0 THEN 0  \n",
    "                ELSE (db.PRINCIPAL_EUR  \n",
    "                + db.PART_WOFF_EUR  \n",
    "                + db.OVERDUE_PRINCIPAL_EUR  \n",
    "                + db.OTHER_CHARGES_EUR) END  \n",
    "                ) AS EXPOSURE\"\"\"\n",
    "\n",
    "\n",
    "query = f\"\"\"select {field} {exp}\n",
    "                from  DWH_OWNER.D_FL_CUSTOMER_LOAN_GROUP a join DWH_OWNER.D_FL_CUSTOMER b \n",
    "             on a.CUSTOMER = b.CUSTOMER_CODE \n",
    "             and b.CUSTOMER_STATUS = 900 \n",
    "             and b.VALID_TO > {ddate}\n",
    "             and a.VALID_TO > {ddate}\n",
    "             and a.CUSTOMER != '-1'\n",
    "                left join DWH_OWNER.F_FL_DAILY_BALANCE db \n",
    "             on db.D_DATE = {ddate}\n",
    "             and db.CUSTOMER = a.CUSTOMER\n",
    "             AND db.APP_CODE != 'SC' \n",
    "             AND db.CATEGORY NOT IN (21074, 21076, 8016, 5000, 1150) \n",
    "             AND db.INF_POSITION = 'IFRS' \n",
    "             AND db.IMP_STAGE != '-1'\n",
    "              group by {field} \"\"\"\n"
   ]
  },
  {
   "cell_type": "code",
   "execution_count": 18,
   "id": "118b834f-9c62-4b4c-9c76-d1fc5fd56715",
   "metadata": {},
   "outputs": [
    {
     "name": "stdout",
     "output_type": "stream",
     "text": [
      "CPU times: total: 46.9 ms\n",
      "Wall time: 840 ms\n"
     ]
    }
   ],
   "source": [
    "%%time\n",
    "df = pd.read_sql(query, engine_prod)"
   ]
  },
  {
   "cell_type": "code",
   "execution_count": 19,
   "id": "b21542b9-0fb0-41c7-9227-00cf6de6bf17",
   "metadata": {},
   "outputs": [
    {
     "data": {
      "text/html": [
       "<div>\n",
       "<style scoped>\n",
       "    .dataframe tbody tr th:only-of-type {\n",
       "        vertical-align: middle;\n",
       "    }\n",
       "\n",
       "    .dataframe tbody tr th {\n",
       "        vertical-align: top;\n",
       "    }\n",
       "\n",
       "    .dataframe thead th {\n",
       "        text-align: right;\n",
       "    }\n",
       "</style>\n",
       "<table border=\"1\" class=\"dataframe\">\n",
       "  <thead>\n",
       "    <tr style=\"text-align: right;\">\n",
       "      <th></th>\n",
       "      <th>CUSTOMER</th>\n",
       "      <th>CUST_LOAN_GROUP</th>\n",
       "      <th>DESCRIPTION</th>\n",
       "      <th>CREATE_PRINCIPLE</th>\n",
       "      <th>VALID_FROM</th>\n",
       "      <th>VALID_TO</th>\n",
       "      <th>MAIN_CUSTOMER</th>\n",
       "      <th>CUSTOMER_STATUS</th>\n",
       "      <th>SHORT_NAME_LNG</th>\n",
       "      <th>EXPOSURE</th>\n",
       "    </tr>\n",
       "  </thead>\n",
       "  <tbody>\n",
       "    <tr>\n",
       "      <th>0</th>\n",
       "      <td>103239</td>\n",
       "      <td>10</td>\n",
       "      <td>ADG</td>\n",
       "      <td>1</td>\n",
       "      <td>2019-09-10</td>\n",
       "      <td>9999-01-01 00:00:00</td>\n",
       "      <td>-1</td>\n",
       "      <td>900</td>\n",
       "      <td>ADG GROUP SIA</td>\n",
       "      <td>NaN</td>\n",
       "    </tr>\n",
       "    <tr>\n",
       "      <th>1</th>\n",
       "      <td>107068</td>\n",
       "      <td>2808</td>\n",
       "      <td>Loputevs Aleksandrs</td>\n",
       "      <td>1</td>\n",
       "      <td>2019-09-10</td>\n",
       "      <td>9999-01-01 00:00:00</td>\n",
       "      <td>-1</td>\n",
       "      <td>900</td>\n",
       "      <td>ELIONS LA SIA</td>\n",
       "      <td>NaN</td>\n",
       "    </tr>\n",
       "    <tr>\n",
       "      <th>2</th>\n",
       "      <td>109437</td>\n",
       "      <td>2517</td>\n",
       "      <td>Voronkova Antonina</td>\n",
       "      <td>2</td>\n",
       "      <td>2019-09-10</td>\n",
       "      <td>9999-01-01 00:00:00</td>\n",
       "      <td>-1</td>\n",
       "      <td>900</td>\n",
       "      <td>VORONKOVA ANTOŅINA</td>\n",
       "      <td>-51032.38</td>\n",
       "    </tr>\n",
       "    <tr>\n",
       "      <th>3</th>\n",
       "      <td>1100736</td>\n",
       "      <td>617</td>\n",
       "      <td>MOOSUS</td>\n",
       "      <td>1</td>\n",
       "      <td>2019-09-10</td>\n",
       "      <td>9999-01-01 00:00:00</td>\n",
       "      <td>-1</td>\n",
       "      <td>900</td>\n",
       "      <td>MOOSUS MÄRT</td>\n",
       "      <td>NaN</td>\n",
       "    </tr>\n",
       "    <tr>\n",
       "      <th>4</th>\n",
       "      <td>1101199</td>\n",
       "      <td>5421</td>\n",
       "      <td>EfTEN Kinnisvarafond II group</td>\n",
       "      <td>1</td>\n",
       "      <td>2022-02-17</td>\n",
       "      <td>9999-01-01 00:00:00</td>\n",
       "      <td>-1</td>\n",
       "      <td>900</td>\n",
       "      <td>ASTLANDA HOTELLI AS</td>\n",
       "      <td>NaN</td>\n",
       "    </tr>\n",
       "  </tbody>\n",
       "</table>\n",
       "</div>"
      ],
      "text/plain": [
       "  CUSTOMER  CUST_LOAN_GROUP                    DESCRIPTION  CREATE_PRINCIPLE  \\\n",
       "0   103239               10                            ADG                 1   \n",
       "1   107068             2808            Loputevs Aleksandrs                 1   \n",
       "2   109437             2517             Voronkova Antonina                 2   \n",
       "3  1100736              617                         MOOSUS                 1   \n",
       "4  1101199             5421  EfTEN Kinnisvarafond II group                 1   \n",
       "\n",
       "  VALID_FROM             VALID_TO MAIN_CUSTOMER  CUSTOMER_STATUS  \\\n",
       "0 2019-09-10  9999-01-01 00:00:00            -1              900   \n",
       "1 2019-09-10  9999-01-01 00:00:00            -1              900   \n",
       "2 2019-09-10  9999-01-01 00:00:00            -1              900   \n",
       "3 2019-09-10  9999-01-01 00:00:00            -1              900   \n",
       "4 2022-02-17  9999-01-01 00:00:00            -1              900   \n",
       "\n",
       "        SHORT_NAME_LNG  EXPOSURE  \n",
       "0        ADG GROUP SIA       NaN  \n",
       "1        ELIONS LA SIA       NaN  \n",
       "2   VORONKOVA ANTOŅINA -51032.38  \n",
       "3          MOOSUS MÄRT       NaN  \n",
       "4  ASTLANDA HOTELLI AS       NaN  "
      ]
     },
     "execution_count": 19,
     "metadata": {},
     "output_type": "execute_result"
    }
   ],
   "source": [
    "df.head()"
   ]
  },
  {
   "cell_type": "code",
   "execution_count": 1,
   "id": "c99230b0-a239-4d88-927d-cbc9e25d1fd8",
   "metadata": {},
   "outputs": [
    {
     "data": {
      "text/plain": [
       "260.38462143"
      ]
     },
     "execution_count": 1,
     "metadata": {},
     "output_type": "execute_result"
    }
   ],
   "source": [
    "260384621.43 / 10**6"
   ]
  }
 ],
 "metadata": {
  "kernelspec": {
   "display_name": "Python 3 (ipykernel)",
   "language": "python",
   "name": "python3"
  },
  "language_info": {
   "codemirror_mode": {
    "name": "ipython",
    "version": 3
   },
   "file_extension": ".py",
   "mimetype": "text/x-python",
   "name": "python",
   "nbconvert_exporter": "python",
   "pygments_lexer": "ipython3",
   "version": "3.9.12"
  }
 },
 "nbformat": 4,
 "nbformat_minor": 5
}
