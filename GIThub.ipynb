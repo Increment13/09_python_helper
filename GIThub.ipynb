{
 "cells": [
  {
   "cell_type": "markdown",
   "id": "ae9a2eba-223e-4a25-9db1-c8f1fc749c4e",
   "metadata": {},
   "source": [
    "# Git introduction"
   ]
  },
  {
   "cell_type": "markdown",
   "id": "ed835d7f-7c76-4dff-90ad-de6fc5a2771d",
   "metadata": {},
   "source": [
    "## Version control"
   ]
  },
  {
   "cell_type": "markdown",
   "id": "0d9470e6-e516-4d4e-bc1e-34bcea919375",
   "metadata": {},
   "source": [
    "Imagine you made code for a customer. Everything is working. The customer asked you to rework some of the functionality. He thinks that such functionality is necessary. You made changes, updated everything and forgot about it for a while.\n",
    "\n",
    "A month later, the customer wrote that his assumption was wrong and he would like to return everything as it was. But you don’t have the previous version of the files saved and you have to rewrite everything again.\n",
    "\n",
    "\n",
    "This would not happen if versions of files from different times could be saved. We would just go back to the previous version and not have to do anything again. Imagine that all history is saved and you can return to the code from the past"
   ]
  },
  {
   "cell_type": "markdown",
   "id": "142e7559-e8a4-4019-8036-52f94a543d6f",
   "metadata": {},
   "source": [
    "As code is written and revised, different versions can be saved. This is why Git is called a version control system."
   ]
  },
  {
   "cell_type": "markdown",
   "id": "f38e41d2-daa8-4c59-a91c-d0c418ecbe8e",
   "metadata": {},
   "source": [
    "## Teamwork"
   ]
  },
  {
   "cell_type": "markdown",
   "id": "1c1986ac-5259-4a7e-9317-4eef2ad752e8",
   "metadata": {},
   "source": [
    "In real work, you don't need to write code in a team. Several people can work on one project.\n",
    "\n",
    "For example, you are creating functionality with a friend. Every time you make changes to the code, you send your friend an updated archive. A friend downloads it, makes his own changes, and sends it to you. Next time, you didn’t wait for your friend to complete his part of the work, and made changes, because working in parallel is faster.\n",
    "\n",
    "As a result, you simultaneously sent each other archives with changes. But how to combine them? There are a lot of changes and you don’t really remember what they changed. You'll have to open your code on the left, your friend's code on the right, and check everything manually. Git will do this automatically."
   ]
  },
  {
   "cell_type": "markdown",
   "id": "34bb40cb-191d-46a0-be93-0844f4d01600",
   "metadata": {},
   "source": [
    "# Install Git"
   ]
  },
  {
   "cell_type": "markdown",
   "id": "c01482ab-1eac-469d-a44e-f74503381cd5",
   "metadata": {},
   "source": [
    "Download and install Git on your computer. https://git-scm.com/download/\n",
    "\n",
    "When you run the installer, you will be prompted to use GitBash - this is another program for fully working with Git. Be sure to check the box to install it. Also check the box: Use Git... from the Command Prompt"
   ]
  },
  {
   "cell_type": "markdown",
   "id": "772615f0-6b84-423c-9260-4f7e494f263c",
   "metadata": {},
   "source": [
    "# Command line"
   ]
  },
  {
   "cell_type": "markdown",
   "id": "c1d3e3cc-3971-4334-9dfd-6f0778e09db2",
   "metadata": {},
   "source": [
    "The command line is also an interface, only text-based. You need to enter commands in it to interact with programs. For example, usually, to create a folder, you right-click and select the desired item from the graphical menu. But you can also create a folder through the command line by entering the appropriate command and folder name."
   ]
  },
  {
   "cell_type": "markdown",
   "id": "38148dd2-8a10-4747-822b-72978aaf181f",
   "metadata": {},
   "source": [
    "## Navigation"
   ]
  },
  {
   "cell_type": "markdown",
   "id": "3fd50750-8ff5-4bcf-beb4-ee14908292de",
   "metadata": {},
   "source": [
    "The GUI always makes it clear where exactly you are in the file system. If you have a desktop in front of you, then you are in the “Desktop” folder. If the Documents folder is open, you are in it.\n",
    "\n",
    "In the command line, you are also always in some folder, it’s just not visible. The `pwd` (Print Working Directory) command allows you to find out where you are now. Type pwd into the command line and press Enter:"
   ]
  },
  {
   "cell_type": "raw",
   "id": "caa3fa7e-d668-4e1a-a937-c126ba2e0370",
   "metadata": {},
   "source": [
    "pwd"
   ]
  },
  {
   "cell_type": "markdown",
   "id": "9d06fe24-37bd-4add-86e3-bf7c86760c6d",
   "metadata": {},
   "source": [
    "<img src=\"./pictures/9.png\"  \n",
    "  width=\"600\"\n",
    "/>"
   ]
  },
  {
   "cell_type": "markdown",
   "id": "17e829e9-326e-4d13-b43d-cee7b1557e3c",
   "metadata": {},
   "source": [
    "The command line displayed the answer - this is the path to the folder in which we are now. Instead of `MSI` you will have your username. This is the home directory - the directory with user files."
   ]
  },
  {
   "cell_type": "markdown",
   "id": "6168d019-a73c-43f6-9d6c-d51a2f262e57",
   "metadata": {},
   "source": [
    "In the GUI you simply see the contents of the open folder. To do this on the command line, there is the `ls` command. This is short for `list directory contents`"
   ]
  },
  {
   "cell_type": "raw",
   "id": "663c971f-097b-487d-966b-d1a051978bfe",
   "metadata": {},
   "source": [
    "ls"
   ]
  },
  {
   "cell_type": "markdown",
   "id": "f4d08cd3-be40-4c30-9a76-f9907ccc3e9b",
   "metadata": {},
   "source": [
    "<img src=\"./pictures/10.png\"  \n",
    "  width=\"600\"\n",
    "/>"
   ]
  },
  {
   "cell_type": "markdown",
   "id": "f536f708-505b-496f-9c46-f86fb8502d53",
   "metadata": {},
   "source": [
    "We realized where we were and looked around, it’s time to learn to walk. To move from one folder to another, use the `cd` command. This is short for change directory. The command syntax is: `cd folder_name:`"
   ]
  },
  {
   "cell_type": "raw",
   "id": "6c1c33c7-0602-4fdb-92fd-719dcad59125",
   "metadata": {},
   "source": [
    "cd Desktop"
   ]
  },
  {
   "cell_type": "markdown",
   "id": "85c3a9f9-287f-4845-9c66-7052544471b4",
   "metadata": {},
   "source": [
    "<img src=\"./pictures/11.png\"  \n",
    "  width=\"600\"\n",
    "/>"
   ]
  },
  {
   "cell_type": "markdown",
   "id": "df574909-9342-491c-875e-f9a8f8d77664",
   "metadata": {},
   "source": [
    "If there are spaces in the folder name, use quotes:"
   ]
  },
  {
   "cell_type": "raw",
   "id": "307c8738-0716-4bfb-aff3-2c20111ff77a",
   "metadata": {},
   "source": [
    "cd Desktop/\"check data\""
   ]
  },
  {
   "cell_type": "markdown",
   "id": "ec98f925-c2a4-403b-b6f6-1c9f2eeab5ca",
   "metadata": {},
   "source": [
    "To return to the parent directory - that is, to a higher level - instead of the folder name, you need to write two dots: `..`:"
   ]
  },
  {
   "cell_type": "markdown",
   "id": "6fcd7326-cb7f-4e98-9612-8705a2883543",
   "metadata": {},
   "source": [
    "## Creating folders and files"
   ]
  },
  {
   "cell_type": "markdown",
   "id": "da30bc99-59d6-4751-8ce5-4839283c3749",
   "metadata": {},
   "source": [
    "It's time to act. The `mkdir` command creates a folder. The command needs to be passed the name of the new folder.\n",
    "\n",
    "Create a folder `py_proj` in your home directory - it will become the place for your educational projects:"
   ]
  },
  {
   "cell_type": "raw",
   "id": "537e83ea-7076-4160-9622-645544f82976",
   "metadata": {},
   "source": [
    "mkdir py_proj"
   ]
  },
  {
   "cell_type": "markdown",
   "id": "24eceb04-d977-474d-b950-85d93230bb03",
   "metadata": {},
   "source": [
    "Let's move to the `py_proj` folder, create a `kaggle_riga` folder in it and move to it:"
   ]
  },
  {
   "cell_type": "markdown",
   "id": "a77f53b9-0996-4a9d-850a-d40e051e2bde",
   "metadata": {},
   "source": [
    "Let's create the necessary files. This is done with the `touch` command, passing it the file name, for example:"
   ]
  },
  {
   "cell_type": "raw",
   "id": "14f41a8b-177a-47c9-988a-b03b15d4b087",
   "metadata": {},
   "source": [
    "touch parse_data.py"
   ]
  },
  {
   "cell_type": "markdown",
   "id": "87ef384f-90d7-4dbc-b5ff-7597c3f83b76",
   "metadata": {},
   "source": [
    "<img src=\"./pictures/12.png\"  \n",
    "  width=\"700\"\n",
    "/>"
   ]
  },
  {
   "cell_type": "markdown",
   "id": "e22c1b18-e9b5-4dee-bb19-5be7c2659191",
   "metadata": {},
   "source": [
    "## Deleting folders and files"
   ]
  },
  {
   "cell_type": "markdown",
   "id": "d6858fa3-7ad3-4b73-983e-ee9c57b2e34e",
   "metadata": {},
   "source": [
    "Finally, let's learn how to delete files and folders via the command line. To remove files use the `rm`(remove) command:"
   ]
  },
  {
   "cell_type": "raw",
   "id": "54ea9cf4-d126-4109-8850-6ece8d720ee6",
   "metadata": {},
   "source": [
    "rm parse_data.py"
   ]
  },
  {
   "cell_type": "markdown",
   "id": "f05e60fb-0f4d-4224-8ab0-1017077d44c4",
   "metadata": {},
   "source": [
    "You can delete a folder with the command `rmdir`"
   ]
  },
  {
   "cell_type": "markdown",
   "id": "36746434-d5e4-4bc7-be70-75960fa0313c",
   "metadata": {},
   "source": [
    "But if there are any files in the folder you are trying to delete, the command line will not delete it and will display a message that the folder is not empty:"
   ]
  },
  {
   "cell_type": "raw",
   "id": "20734e78-1aa7-4e1a-a416-122140848dcb",
   "metadata": {},
   "source": [
    "rmdir kaggle_riga"
   ]
  },
  {
   "cell_type": "markdown",
   "id": "adb09514-7969-43e3-8269-149e04ddc2a7",
   "metadata": {},
   "source": [
    "<img src=\"./pictures/13.png\"  \n",
    "  width=\"600\"\n",
    "/>"
   ]
  },
  {
   "cell_type": "markdown",
   "id": "5380ceb4-4f0e-4090-8cce-7e0f340eaed4",
   "metadata": {},
   "source": [
    "This is protection against accidental deletion of necessary files. If you still need to delete the folder, you can use the `rm` command like this:"
   ]
  },
  {
   "cell_type": "raw",
   "id": "b6c6cc33-a156-4192-9eb5-ef8d9525f354",
   "metadata": {},
   "source": [
    "rm -r kaggle_riga"
   ]
  },
  {
   "cell_type": "markdown",
   "id": "90b81c4f-e200-4128-b2ce-6ee61809c270",
   "metadata": {},
   "source": [
    "In this case, `-r` is called a switch. They say, \"we called the rm command with the r option.\" This key is responsible for recursively deleting files and folders. This means that the deletion process will be applied to the entire contents of the directory. Be careful, deleting files with the `rm` and `rmdir` commands is irreversible - they go past the recycle bin and are deleted forever."
   ]
  },
  {
   "cell_type": "markdown",
   "id": "3bd570b5-4a17-4066-96c7-0eca4d3298f3",
   "metadata": {},
   "source": [
    "# Git setup"
   ]
  },
  {
   "cell_type": "markdown",
   "id": "f9c05df5-a3e6-49e1-94a9-af5b4e202b11",
   "metadata": {},
   "source": [
    "## Settings"
   ]
  },
  {
   "cell_type": "markdown",
   "id": "619c6e47-7f41-4234-b5a6-a677b78709f0",
   "metadata": {},
   "source": [
    "To make it clear to other developers who made what changes, you need to choose a name for yourself - just like in a computer game. Let's do this and start using Git to its full potential.\n",
    "\n",
    "To do this, run the git config command on the command line with the --global option. Enter your data as user.name and user.email:"
   ]
  },
  {
   "cell_type": "raw",
   "id": "d77d0013-78f7-4c38-a442-5ac7e0282e5f",
   "metadata": {},
   "source": [
    "git config --global user.name \"Oleksandr Talanov\"\n",
    "# enter your name or nickname in quotes\n",
    "\n",
    "git config --global user.email \"alekstalanov@gmail.com\"\n",
    "# here you need to enter your real e-mail"
   ]
  },
  {
   "cell_type": "markdown",
   "id": "960706ef-2cc7-4273-ba83-633311248d06",
   "metadata": {},
   "source": [
    "Now check what happened: run the `git config` command with the `--list` option."
   ]
  },
  {
   "cell_type": "markdown",
   "id": "0ba56a07-bd37-439e-bc53-1dd6b84ddc24",
   "metadata": {},
   "source": [
    "<img src=\"./pictures/14.png\"  \n",
    "  width=\"600\"\n",
    "/>"
   ]
  },
  {
   "cell_type": "markdown",
   "id": "b46e6d2d-fc0e-49ec-99ac-48c47481090d",
   "metadata": {},
   "source": [
    "# Connect Git to the project"
   ]
  },
  {
   "cell_type": "markdown",
   "id": "02d8c2ef-ec0a-406a-b7dd-1f60fe7bda29",
   "metadata": {},
   "source": [
    "In order for Git to start working in a project, the folder with it needs to be made a git repository. This means that Git will start tracking all changes within this directory. To do this, go to the project folder and enter the command:"
   ]
  },
  {
   "cell_type": "raw",
   "id": "7dfa50f2-59b6-4f24-a503-7e3daea1d3fa",
   "metadata": {},
   "source": [
    "git init"
   ]
  },
  {
   "cell_type": "markdown",
   "id": "5f048be4-122e-460d-81fe-284d1850cde7",
   "metadata": {},
   "source": [
    "The command line will tell you that the repository has been initialized.\n",
    "Make the `project` folder your git repository. To do this, go to the `project` folder with the `cd` command and write `git init` to the terminal."
   ]
  },
  {
   "cell_type": "markdown",
   "id": "255ec315-215a-4349-a6b7-c6f53ec8474a",
   "metadata": {},
   "source": [
    "Run the git status command. Git will report that there are two files in this folder: `riga.ipynb`, `riga.csv` and the `data` folder:"
   ]
  },
  {
   "cell_type": "markdown",
   "id": "de0dd459-a8c1-4088-bb6d-d97cfcd7c1f6",
   "metadata": {},
   "source": [
    "<img src=\"./pictures/15.png\"  \n",
    "  width=\"600\"\n",
    "/>"
   ]
  },
  {
   "cell_type": "markdown",
   "id": "bbf31dda-64cc-4c3f-8e72-674f77d93eae",
   "metadata": {},
   "source": [
    "Git calls these files “Untracked files”. This means that Git sees them, but if you try to save their version now, Git won't do it.\n",
    "\n",
    "This is not what we wanted, our goal is to learn how to save versions. To do this, the files need to be prepared for saving. The `git add` command is responsible for this.\n",
    "\n",
    "When using it, you need to specify the name of the file whose fate we want to record in its current form, for example: `git add riga.ipynb`."
   ]
  },
  {
   "cell_type": "markdown",
   "id": "ea149812-19ab-4fe1-8544-5775f0a6cb55",
   "metadata": {},
   "source": [
    "If we want to save the state of all files, we can use the `--all` option. `git add --all` or shorter `git add -A`:"
   ]
  },
  {
   "cell_type": "markdown",
   "id": "c2584d92-a5b0-4104-9849-8e2a900fe272",
   "metadata": {},
   "source": [
    "<img src=\"./pictures/16.png\"  \n",
    "  width=\"600\"\n",
    "/>"
   ]
  },
  {
   "cell_type": "markdown",
   "id": "5d032a3e-ab96-4c5a-9841-a4e604de9225",
   "metadata": {},
   "source": [
    "Files marked in green are ready to be saved in their current states. This is exactly what the git add command told Git. But saving has not happened yet - first we need to tell Git what we want to save, and only then save.\n",
    "\n",
    "Saving a version of files in Git is called a “commit.” Making a commit means saving the current state of the files."
   ]
  },
  {
   "cell_type": "markdown",
   "id": "d43f5c6c-f949-4834-8fcf-b2f0e1b5918b",
   "metadata": {},
   "source": [
    "If you edit any of the files now, they will turn red again:"
   ]
  },
  {
   "cell_type": "markdown",
   "id": "5f707f7c-a5c8-4e41-8c85-bd41c1d72eb1",
   "metadata": {},
   "source": [
    "<img src=\"./pictures/17.png\"  \n",
    "  width=\"600\"\n",
    "/>"
   ]
  },
  {
   "cell_type": "markdown",
   "id": "c73f7fc5-c00c-4080-8a0f-1eedf924e03d",
   "metadata": {},
   "source": [
    "In order for its updated version to be included in the commit, you need to use `git add` again"
   ]
  },
  {
   "cell_type": "markdown",
   "id": "f95dfd6d-34c3-4ce4-b34a-9dde0aa4a249",
   "metadata": {},
   "source": [
    "# Make the first commit"
   ]
  },
  {
   "cell_type": "markdown",
   "id": "baee9b6d-226f-435f-852c-8937bcd22463",
   "metadata": {},
   "source": [
    "When all the files are ready to be saved, we will make our first commit - we will record all the changes made in the “combat version”.\n",
    "\n",
    "This is done with the `git commit` command with the `-m` option. After `-m` comes the name of the commit in quotes:"
   ]
  },
  {
   "cell_type": "raw",
   "id": "69d7105a-1866-4c1d-9d33-c05021cb0045",
   "metadata": {},
   "source": [
    "git commit -m \"first commit\" "
   ]
  },
  {
   "cell_type": "markdown",
   "id": "2cf15d35-bbb6-4024-b076-6038fdec5123",
   "metadata": {},
   "source": [
    "\"first commit\" is not a good name. Commits should be named so that you can later understand what changes were made.\n",
    "\n",
    "For example:\n",
    "- 20230801 data preparation\n",
    "- 20230912 add linearregressor model"
   ]
  },
  {
   "cell_type": "markdown",
   "id": "688f8cbe-c9dc-4b0f-95c1-e8c62e0eedb8",
   "metadata": {},
   "source": [
    "The `git log` command will show the commit history:"
   ]
  },
  {
   "cell_type": "markdown",
   "id": "0a4e11aa-701a-4c16-a095-b9b221f70343",
   "metadata": {},
   "source": [
    "<img src=\"./pictures/18.png\"  \n",
    "  width=\"600\"\n",
    "/>"
   ]
  },
  {
   "cell_type": "markdown",
   "id": "0d72ab8a-fc47-4ef0-8ca9-61c9a48d41b3",
   "metadata": {},
   "source": [
    "# Teamwork. GitHub"
   ]
  },
  {
   "cell_type": "markdown",
   "id": "4652b8f9-cdd5-4095-9a42-a6cb78e0c95a",
   "metadata": {},
   "source": [
    "Up to this point we have been using Git locally. But to share the repository, you need to create a remote version of it. There are several platforms that allow you to do this. The most popular is `GitHub`, which is what we will use.\n",
    "To start using Github, you need to register on it."
   ]
  },
  {
   "cell_type": "markdown",
   "id": "b0afaf0b-84b6-4648-8ed1-fac90ea9c0f3",
   "metadata": {},
   "source": [
    "## Registration"
   ]
  },
  {
   "cell_type": "markdown",
   "id": "815c83dc-e342-4381-9f39-e93e987808b3",
   "metadata": {},
   "source": [
    "https://github.com/signup?ref_cta=Sign+up&ref_loc=header+logged+out&ref_page=%2F&source=header-home"
   ]
  },
  {
   "cell_type": "markdown",
   "id": "ec75454c-1d85-4385-8980-b1ff64a9e5dd",
   "metadata": {},
   "source": [
    "Everything is simple here, enter your email, login and password and you will be taken to the Github interface. Choose a free account “Choose free”. You will be asked to take a short survey: what knowledge do you have, what do you do. You can skip the questionnaire - to do this, scroll to the bottom of the page and click the “Complete setup” button. All that remains is to confirm your registration. An email with a link to activate your account has been sent to the email address you entered - follow it."
   ]
  },
  {
   "cell_type": "markdown",
   "id": "c4b9801f-c798-43a4-b93b-cd3b542e4284",
   "metadata": {},
   "source": [
    "## Generate SSH keys"
   ]
  },
  {
   "cell_type": "markdown",
   "id": "66298399-8847-4b17-997e-a8ff63c04dec",
   "metadata": {},
   "source": [
    "GitHub is a service where code is stored in “safety deposit boxes” - repositories. And when they try to take away this code or make changes to it, GitHub must make sure that the computer from which the service is accessed has rights to make changes or read data. To create a “passport” on the computer from which you will interact with GitHub, you need to create an SSH key and add it to your GitHub account."
   ]
  },
  {
   "cell_type": "markdown",
   "id": "6b9ab697-79b7-481a-ae10-03e56df32353",
   "metadata": {},
   "source": [
    "The transport `SSH protocol` is like a “toll highway”. Through the protocol, you can receive data from a remote computer or write it to it. The protocol encrypts traffic and is therefore secure."
   ]
  },
  {
   "cell_type": "markdown",
   "id": "28dc0aff-8d79-4663-989c-ec5a17f1f1c4",
   "metadata": {},
   "source": [
    "### Checking for an SSH key"
   ]
  },
  {
   "cell_type": "markdown",
   "id": "82368a91-a036-4d6b-8b27-e6c487443841",
   "metadata": {},
   "source": [
    "Make sure you don't already have a pass.\n",
    "\n",
    "By default, the directory with SSH keys is located in the user's home directory, let's go there:"
   ]
  },
  {
   "cell_type": "raw",
   "id": "487d56bd-c52e-4efc-90df-ce9c0be78989",
   "metadata": {},
   "source": [
    "cd ~ "
   ]
  },
  {
   "cell_type": "markdown",
   "id": "24af1a19-34a7-4961-bcb9-2fa22005654a",
   "metadata": {},
   "source": [
    "Typically, SSH keys are located in the `.ssh/` directory; you can check the presence of this directory and the files in it using the following command:"
   ]
  },
  {
   "cell_type": "raw",
   "id": "bb6bcf86-b4a9-4e64-9278-10af4c48985d",
   "metadata": {},
   "source": [
    "ls -la .ssh/"
   ]
  },
  {
   "cell_type": "markdown",
   "id": "31cd0ac0-2faf-4ab2-828a-eca0f50121bc",
   "metadata": {},
   "source": [
    "If the folder is empty or does not exist, then everything is fine.\n",
    "\n",
    "If there are files with a similar name (id_dsa.pub, id_ecdsa.pub, id_ed25519.pub), SSH keys have already been created"
   ]
  },
  {
   "cell_type": "markdown",
   "id": "7ebf050f-0d44-4943-a3ca-b299991e652e",
   "metadata": {},
   "source": [
    "<img src=\"./pictures/19.png\"  \n",
    "  width=\"600\"\n",
    "/>"
   ]
  },
  {
   "cell_type": "markdown",
   "id": "d5bab6ce-08c3-41fb-b8e0-50c6d789d2e7",
   "metadata": {},
   "source": [
    "### Generating an SSH key"
   ]
  },
  {
   "cell_type": "markdown",
   "id": "8f38f101-c5ec-4306-a05a-7ef5bc6331d1",
   "metadata": {},
   "source": [
    "1. Generate private and public keys in the terminal. The public extension has .pub, the private extension does not. Both keys will be saved on your computer. Public is needed to link to Git. In the e-mail line, be sure to indicate the email address that is linked to Github:"
   ]
  },
  {
   "cell_type": "raw",
   "id": "cc9a7157-e9c4-47f2-b6ad-11698f6e02de",
   "metadata": {},
   "source": [
    "ssh-keygen -t ed25519 -C \"alekstalanov@gmail.com\""
   ]
  },
  {
   "cell_type": "markdown",
   "id": "c4cb0782-fe42-42c0-ba32-d5299966b31a",
   "metadata": {},
   "source": [
    "If you receive an error message, your system most likely does not support the ed25519 encryption algorithm. Everything is fine, in this case it is enough to use another algorithm:"
   ]
  },
  {
   "cell_type": "raw",
   "id": "14f3e331-503a-4c52-ad53-05284dd5ae22",
   "metadata": {},
   "source": [
    "ssh-keygen -t rsa -b 4096 -C \"alekstalanov@gmail.com\""
   ]
  },
  {
   "cell_type": "markdown",
   "id": "4eb4ebca-744a-4c68-a540-1be68ea628c0",
   "metadata": {},
   "source": [
    "2. Specify the location where the keys are stored. A simple option is to make the user's home directory the default path. To do this, press Enter:"
   ]
  },
  {
   "cell_type": "raw",
   "id": "8cffbdbf-45fb-4eca-bb74-a0cf0153155d",
   "metadata": {},
   "source": [
    "Enter a file in which to save the key (C:\\Users\\MSI\\.ssh\\):[Press enter]"
   ]
  },
  {
   "cell_type": "markdown",
   "id": "a79ca7ff-c8c9-4912-a426-baf0652001de",
   "metadata": {},
   "source": [
    "3. Create an access password for the SSH key. It must be entered every time you connect via the protocol. So remember it or write it down:"
   ]
  },
  {
   "cell_type": "raw",
   "id": "597e6c38-1645-4f08-b657-16adb837ede3",
   "metadata": {},
   "source": [
    "> Enter passphrase (empty for no passphrase): [Type a passphrase]\n",
    "> Enter same passphrase again: [Type passphrase again]"
   ]
  },
  {
   "cell_type": "markdown",
   "id": "95225666-681d-40ca-a7bb-0893c3dac15b",
   "metadata": {},
   "source": [
    "When you enter a password, the characters will not appear on the screen, but in fact, the password is being entered. But you can leave the field blank so you never enter a password. To do this, press Enter"
   ]
  },
  {
   "cell_type": "markdown",
   "id": "5b8ffc68-02c5-4050-a8d1-3a7a5ed944d4",
   "metadata": {},
   "source": [
    "<img src=\"./pictures/20.png\"  \n",
    "  width=\"600\"\n",
    "/>"
   ]
  },
  {
   "cell_type": "markdown",
   "id": "383815fa-9064-484a-8c66-fd75875a7613",
   "metadata": {},
   "source": [
    "4. Run the ssh-agent command in the background. It looks for the SSH key on your computer:"
   ]
  },
  {
   "cell_type": "markdown",
   "id": "01823642-b392-4702-9715-b7f6acff4528",
   "metadata": {},
   "source": [
    "Bind the private key to ssh-agent. Then you will not have to enter a password every time you work with the repository. Please note that it is the private key that needs to be bound to the agent - this is a file without the `.pub` extension:"
   ]
  },
  {
   "cell_type": "raw",
   "id": "93fc55ff-342a-48e8-b4bc-7f79ccbcbfc8",
   "metadata": {},
   "source": [
    "# для ed25519:\n",
    "ssh-add ~/.ssh/id_ed25519\n",
    "\n",
    "# для rsa:\n",
    "ssh-add ~/.ssh/id_rsa"
   ]
  },
  {
   "cell_type": "markdown",
   "id": "41705044-80d2-45b5-92d2-57f24fafe483",
   "metadata": {},
   "source": [
    "### Linking an SSH key to a GitHub account"
   ]
  },
  {
   "cell_type": "markdown",
   "id": "04cbf7a9-760d-40c8-89db-294823001dcd",
   "metadata": {},
   "source": [
    "1. Copy the public key to the clipboard:"
   ]
  },
  {
   "cell_type": "raw",
   "id": "2493dc0b-c9fb-4395-8986-e948d0096468",
   "metadata": {},
   "source": [
    "# for ed25519:\n",
    "clip < ~/.ssh/id_ed25519.pub\n",
    "\n",
    "# for rsa:\n",
    "clip < ~/.ssh/id_rsa.pub"
   ]
  },
  {
   "cell_type": "markdown",
   "id": "2e4b31f4-d561-477e-b18c-21c5c91884b8",
   "metadata": {},
   "source": [
    "If clip doesn't work, find the hidden .ssh folder, open the id_rsa.pub or id_ed25519.pub file in any text editor. Copy its contents to the clipboard."
   ]
  },
  {
   "cell_type": "markdown",
   "id": "3869752d-044d-4bd7-b8f4-827abaa3ea0f",
   "metadata": {},
   "source": [
    "2. Go to Github and open your account settings:"
   ]
  },
  {
   "cell_type": "markdown",
   "id": "eec99435-b632-45b5-8adf-c7d95926887e",
   "metadata": {},
   "source": [
    "<img src=\"./pictures/21.png\"  \n",
    "  width=\"1000\"\n",
    "/>"
   ]
  },
  {
   "cell_type": "markdown",
   "id": "fd970824-fc09-4d2b-ad2b-dae1eb7adc86",
   "metadata": {},
   "source": [
    "3. In the left menu, select ″SSH and GPG keys″:"
   ]
  },
  {
   "cell_type": "markdown",
   "id": "a1273489-b768-4001-acab-db4d52c5859b",
   "metadata": {},
   "source": [
    "<img src=\"./pictures/22.png\"  \n",
    "  width=\"1000\"\n",
    "/>"
   ]
  },
  {
   "cell_type": "markdown",
   "id": "99f69a66-bde5-437b-aac2-dd7cf3abb6dc",
   "metadata": {},
   "source": [
    "4. In the tab that opens, select ″New SSH key or Add SSH key″"
   ]
  },
  {
   "cell_type": "markdown",
   "id": "2ba34c1d-4c2c-447d-b02c-1ffa92d4d241",
   "metadata": {},
   "source": [
    "5. In the ″Title″ field, write a title. For example, ″Personal key″."
   ]
  },
  {
   "cell_type": "markdown",
   "id": "b851b1f3-917f-47a7-8d7e-6eb8c2d8b735",
   "metadata": {},
   "source": [
    "6. In the ″key″ field, copy your key from the clipboard"
   ]
  },
  {
   "cell_type": "markdown",
   "id": "a6226999-1551-46bb-9de2-df373986f018",
   "metadata": {},
   "source": [
    "7. Click the ″Add SSH key″ button:"
   ]
  },
  {
   "cell_type": "markdown",
   "id": "84944b00-3a74-487d-a74a-ef8ed187016f",
   "metadata": {},
   "source": [
    "<img src=\"./pictures/23.png\"  \n",
    "  width=\"1000\"\n",
    "/>"
   ]
  },
  {
   "cell_type": "markdown",
   "id": "0ce3f3de-9948-4639-a57b-3d15f4d87565",
   "metadata": {},
   "source": [
    "That's it, your key is linked to Github. If you have set a password for the SSH key, you will have to enter it to work with the repository."
   ]
  },
  {
   "cell_type": "markdown",
   "id": "4e985c87-76a0-40f7-9622-901683347d74",
   "metadata": {},
   "source": [
    "# Link local and remote repositories"
   ]
  },
  {
   "cell_type": "markdown",
   "id": "bce1c7c7-4cee-42b4-8b52-3f34c98c6bda",
   "metadata": {},
   "source": [
    "## Creating a repository on Github"
   ]
  },
  {
   "cell_type": "markdown",
   "id": "49171f48-17e5-4f3f-974e-eec69c194590",
   "metadata": {},
   "source": [
    "Go to your profile using the link: `https://github.com/your-username`. This is a presentation of you and your projects, other users can see it."
   ]
  },
  {
   "cell_type": "markdown",
   "id": "ae045c16-6f01-4dd3-86c6-6dab89180344",
   "metadata": {},
   "source": [
    "1. Let's create a repository. Click on the “Repositories” link"
   ]
  },
  {
   "cell_type": "markdown",
   "id": "bdcd68f5-fb4b-4c84-8f2d-1c978f4a045e",
   "metadata": {},
   "source": [
    "<img src=\"./pictures/24.png\"  \n",
    "  width=\"1000\"\n",
    "/>"
   ]
  },
  {
   "cell_type": "markdown",
   "id": "6b777576-3ccb-4872-84a0-9c31c3fb843e",
   "metadata": {},
   "source": [
    "2. The window for creating a new repository opens. Give it the name kaggle_riga.\n",
    "\n",
    "The name of the remote repository does not have to match the name of the project folder on your computer. But to avoid confusion, we will call them the same.\n",
    "\n",
    "After entering the name, click “Create Repository”. We are not interested in other fields yet."
   ]
  },
  {
   "cell_type": "markdown",
   "id": "8886e82a-fcad-40db-903c-e51d8a327b6f",
   "metadata": {},
   "source": [
    "Immediately switch to the SSH tab (next to HTTPS) and copy the remote repository address, you will need it in the next step."
   ]
  },
  {
   "cell_type": "markdown",
   "id": "6105578e-7a29-4c25-8e0b-c8e4beba013e",
   "metadata": {},
   "source": [
    "<img src=\"./pictures/25.png\"  \n",
    "  width=\"1000\"\n",
    "/>"
   ]
  },
  {
   "cell_type": "markdown",
   "id": "cfec83c9-9f16-4fa7-a990-a15c705b384a",
   "metadata": {},
   "source": [
    "## Linking local and remote repositories"
   ]
  },
  {
   "cell_type": "markdown",
   "id": "f855a57e-a426-4262-81a5-6e56bc284dd1",
   "metadata": {},
   "source": [
    "Once the GitHub repository has been created, you will see instructions with commands for uploading your code.\n",
    "\n",
    "Note the command `git push -u origin **main**`. Here `main` is the name of the branch to which you are offered to upload the code, remember it."
   ]
  },
  {
   "cell_type": "markdown",
   "id": "38aa349c-1f59-478b-a48d-c63546c77161",
   "metadata": {},
   "source": [
    "Now move to the project folder with the `cd` command. To link a remote repository to a local one, you need to use the `git remote add` command. This command needs to pass two parameters: the name of the remote repository and its address (from the SSH tab). Like this (just replace SSH with yours):"
   ]
  },
  {
   "cell_type": "raw",
   "id": "e4a2a586-8a48-4681-8bcb-f6c75a22b89b",
   "metadata": {},
   "source": [
    "git remote add origin git@github.com:Increment13/kaggle_riga.git"
   ]
  },
  {
   "cell_type": "markdown",
   "id": "b453f64d-d15d-416f-aff3-ab4ced1fb5ba",
   "metadata": {},
   "source": [
    "By default, your local repository's main branch name is master, so if the remote repository uses any other name, for example main as in Github, then you will need to rename the local branch with the command:"
   ]
  },
  {
   "cell_type": "raw",
   "id": "9a2aa7b8-52fb-4205-b670-3171abceb264",
   "metadata": {},
   "source": [
    "git branch -M main"
   ]
  },
  {
   "cell_type": "markdown",
   "id": "3f1e737b-f502-4eb1-9718-b977499fec8b",
   "metadata": {},
   "source": [
    "Everything is clear with the address, but why is the repository name `origin` and not `kaggle_riga`? This is where things get a little confusing. In this case, the name of the repository may not coincide with its name on Github.\n",
    "\n",
    "We will use this name to refer to the remote repository locally when entering commands into the command line. We could give the name `kaggle_riga`, but the name `origin` is the standard name of the remote repository. In the future, this will allow us to omit it in commands, Git will by default look for a remote repository named `origin`."
   ]
  },
  {
   "cell_type": "markdown",
   "id": "c27b92db-86aa-406a-9947-b499252c3735",
   "metadata": {},
   "source": [
    "The repositories are linked, all that remains is to upload the code to GitHub. The `git push` command does this. Call it like this:"
   ]
  },
  {
   "cell_type": "raw",
   "id": "1069e94a-8ba1-4747-9003-0d9d3cef6095",
   "metadata": {},
   "source": [
    "git push -u origin main "
   ]
  },
  {
   "cell_type": "markdown",
   "id": "9e82a387-6729-49f2-94ef-9aea4bf0091b",
   "metadata": {},
   "source": [
    "We will discuss the git push command in detail in the next lesson. In the next sprint we will look in more detail at what the word main means. In the meantime, go to the remote repository on Github and refresh the page"
   ]
  },
  {
   "cell_type": "markdown",
   "id": "ca777568-2fa7-4c2e-8add-ad583616b30b",
   "metadata": {},
   "source": [
    "<img src=\"./pictures/26.png\"  \n",
    "  width=\"1000\"\n",
    "/>"
   ]
  },
  {
   "cell_type": "markdown",
   "id": "a2de460a-449c-4001-a627-3dec3967a883",
   "metadata": {},
   "source": [
    "# Synchronize local and remote repositories"
   ]
  },
  {
   "cell_type": "markdown",
   "id": "be5b160e-8c66-4eff-baa5-d5f05d21f143",
   "metadata": {},
   "source": [
    "You have registered, created and linked a local repository to a remote one. The hardest part is over, well done. All that remains is to figure out how to take changes from a remote repository and upload your own. This is what we will talk about."
   ]
  },
  {
   "cell_type": "markdown",
   "id": "2f167ed1-1504-48d2-911d-569b9d47b145",
   "metadata": {},
   "source": [
    "## git push"
   ]
  },
  {
   "cell_type": "markdown",
   "id": "e28dc001-2510-43cd-8261-de15ffc7fff3",
   "metadata": {},
   "source": [
    "You have already gone through the entire “commit cycle”: preparing files with the `git add` command, committing them with a comment using `git commit`. After you linked the local repository with the remote one, another command was added to this cycle - `git push` - to send changes, or simply “push”."
   ]
  },
  {
   "cell_type": "raw",
   "id": "74f9f7f8-5ed3-4115-bf3a-7501ab4fee8b",
   "metadata": {},
   "source": [
    "git push -u origin main "
   ]
  },
  {
   "cell_type": "markdown",
   "id": "06949c8d-80bc-49ae-b158-e787305b6e91",
   "metadata": {},
   "source": [
    "Add data loading to the `riga.ipynb` file. Prepare the files for the commit and commit. If everything is correct, the command line window after git status should look like this:"
   ]
  },
  {
   "cell_type": "markdown",
   "id": "35c40ff6-945a-4629-b271-8299e4aadb3b",
   "metadata": {},
   "source": [
    "<img src=\"./pictures/27.png\"  \n",
    "  width=\"600\"\n",
    "/>"
   ]
  },
  {
   "cell_type": "markdown",
   "id": "554ade74-3fe9-422c-ad43-3ada514c98b2",
   "metadata": {},
   "source": [
    "Go to your GitHub account in the kaggle_riga repository. You will see the changed files in the Github interface."
   ]
  },
  {
   "cell_type": "markdown",
   "id": "9eb7ae5f-9d16-4716-963f-f053b09c5a1b",
   "metadata": {},
   "source": [
    "<img src=\"./pictures/28.png\"  \n",
    "  width=\"=800\"\n",
    "/>"
   ]
  },
  {
   "cell_type": "markdown",
   "id": "5d910798-3c71-47ac-9a35-e639e1ed3cd8",
   "metadata": {},
   "source": [
    "## git pull"
   ]
  },
  {
   "cell_type": "markdown",
   "id": "c1ec69b0-63d8-4023-89c4-f863a935cf69",
   "metadata": {},
   "source": [
    "Now you are working on the repository alone, but on “combat” projects there are usually at least two of you. Imagine that your colleague has been working on a project all weekend, and you come in on Monday and want to publish the changes made on Friday. But the project already has a new version. To take back the changes made by your colleague, there is the `git pull` command - pull, or “pulse” the changes.\n",
    "\n",
    "If you are not working on a repository alone, always type `git pull` before publishing changes. While you were writing code, someone could publish new changes."
   ]
  },
  {
   "cell_type": "markdown",
   "id": "c9f6bcaa-63e2-4ad6-9bbc-bf82bf18f6e9",
   "metadata": {},
   "source": [
    "# Cloning the repository"
   ]
  },
  {
   "cell_type": "markdown",
   "id": "32593af3-0a00-4a10-9225-06d81307a6f6",
   "metadata": {},
   "source": [
    "## git clone"
   ]
  },
  {
   "cell_type": "markdown",
   "id": "57b258e8-76fa-4eb1-af59-8cdef748bd05",
   "metadata": {},
   "source": [
    "Cloning a repository is usually the first thing a developer does at a new job. Let's simulate this situation. Create a second repository in your account and name it `ML practice`."
   ]
  },
  {
   "cell_type": "markdown",
   "id": "70525796-8458-4281-80fc-b0c74fabd924",
   "metadata": {},
   "source": [
    "<img src=\"./pictures/29.png\"  \n",
    "  width=\"=600\"\n",
    "/>"
   ]
  },
  {
   "cell_type": "raw",
   "id": "241bd54e-f7e2-40a1-a130-adb34b5b87de",
   "metadata": {},
   "source": [
    "# do not copy this repository address - specify yours\n",
    "\n",
    "git clone git@github.com:Increment13/ML_practice.git"
   ]
  },
  {
   "cell_type": "markdown",
   "id": "6e25dea9-2705-4203-a034-e8bcfc7dfc65",
   "metadata": {},
   "source": [
    "Once cloning is complete, go inside the repository with the `cd` command, create the `lyb.py` and `ml_proj.ipynb` files and commit. After committing, push the changes to the remote repository with the command `git push -u origin main`. Then open an account on Github, select the `ML_practice` repository and you will see the published commit:"
   ]
  },
  {
   "cell_type": "markdown",
   "id": "0b3a92c3-e48d-422d-99e8-d6f5d0cdf28e",
   "metadata": {},
   "source": [
    "<img src=\"./pictures/30.png\"  \n",
    "  width=\"=600\"\n",
    "/>"
   ]
  },
  {
   "cell_type": "markdown",
   "id": "7bad96bd-316c-47a3-83a3-3944b6ee2c59",
   "metadata": {},
   "source": [
    "You now have two ways to create a repository. But there is a nuance. You can clone absolutely any public repository, but you can only push it into one you created. Or if you received push rights from the repository owner."
   ]
  }
 ],
 "metadata": {
  "kernelspec": {
   "display_name": "Python 3 (ipykernel)",
   "language": "python",
   "name": "python3"
  },
  "language_info": {
   "codemirror_mode": {
    "name": "ipython",
    "version": 3
   },
   "file_extension": ".py",
   "mimetype": "text/x-python",
   "name": "python",
   "nbconvert_exporter": "python",
   "pygments_lexer": "ipython3",
   "version": "3.10.9"
  },
  "toc-autonumbering": false
 },
 "nbformat": 4,
 "nbformat_minor": 5
}
