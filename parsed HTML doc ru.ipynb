{
 "cells": [
  {
   "cell_type": "markdown",
   "id": "6e5c4c07-63bb-4348-8473-720b4d183c4b",
   "metadata": {
    "toc-hr-collapsed": true
   },
   "source": [
    "# Parsing HTML documents"
   ]
  },
  {
   "cell_type": "markdown",
   "id": "d199bfd2-62c0-4230-b04a-35a27b07a67f",
   "metadata": {},
   "source": [
    "Для начала необходимо понять что такое HTML документ и как из него можно читать данные"
   ]
  },
  {
   "cell_type": "markdown",
   "id": "954cbe0d-dcce-40a8-ab9c-0d1d93de1de1",
   "metadata": {},
   "source": [
    "HTML (HyperText Markup Language) — стандартизированный язык гипертекстовой разметки документов для просмотра веб-страниц в браузере. Веб-браузеры получают HTML документ от сервера по протоколам HTTP/HTTPS или открывают с локального диска, далее интерпретируют код в интерфейс, который будет отображаться на экране монитора.\n",
    "\n",
    "Элементы HTML являются строительными блоками HTML страниц. С помощью HTML разные конструкции, изображения и другие объекты, такие как интерактивная веб-форма, могут быть встроены в отображаемую страницу. HTML предоставляет средства для создания заголовков, абзацев, списков, ссылок, цитат и других элементов. Элементы HTML выделяются тегами, записанными с использованием угловых скобок. Браузеры не отображают HTML-теги, но используют их для интерпретации содержимого страницы."
   ]
  },
  {
   "cell_type": "markdown",
   "id": "09bd96a4-a63d-4436-a8c6-38fe7a9c4121",
   "metadata": {},
   "source": [
    "## DOM-tree и поиск значений"
   ]
  },
  {
   "cell_type": "markdown",
   "id": "14b4e809-5960-4415-9841-ee18f2ef8783",
   "metadata": {},
   "source": [
    "DOM – это представление HTML-документа в виде дерева тегов.\n",
    "\n",
    "Начнём с такого, простого, документа:"
   ]
  },
  {
   "cell_type": "raw",
   "id": "28cbda37-56a4-4a89-a898-7a23943a38ec",
   "metadata": {},
   "source": [
    "<!DOCTYPE HTML>\n",
    "<html>\n",
    "<head>\n",
    "  <title>Citadele LV</title>\n",
    "</head>\n",
    "<body>\n",
    "  here is an interesting text\n",
    "</body>\n",
    "</html>"
   ]
  },
  {
   "cell_type": "markdown",
   "id": "b41c95bf-238b-4939-9610-a089947b7e06",
   "metadata": {},
   "source": [
    "<img src=\"./pictures/1.png\"  \n",
    "  width=\"600\"\n",
    "/>"
   ]
  },
  {
   "cell_type": "markdown",
   "id": "48936417-c7ce-49da-a278-133892952ed4",
   "metadata": {},
   "source": [
    "Все, что есть в HTML, даже комментарии, является частью DOM.\n",
    "Даже директива <!DOCTYPE...>, тоже является DOM-узлом. Она находится в дереве DOM прямо перед html. Мы не будем рассматривать этот узел, мы даже не рисуем его на наших диаграммах, но он существует.\n",
    "Даже объект document, представляющий весь документ, формально является DOM-узлом.\n",
    "\n",
    "В реальности DOM дерево выглядит сложнее, каждый елемент в дереве имеет свой тег и соотноситься с другими как дочерний или родитель:"
   ]
  },
  {
   "cell_type": "markdown",
   "id": "9ed3dd3b-80ba-4fee-99ad-b2964068748e",
   "metadata": {},
   "source": [
    "<img src=\"./pictures/2.png\"  \n",
    "  width=\"1200\"\n",
    "/>"
   ]
  },
  {
   "cell_type": "markdown",
   "id": "0cd5d508-9b9e-40ed-a8b0-98e1038ede57",
   "metadata": {},
   "source": [
    " "
   ]
  },
  {
   "cell_type": "markdown",
   "id": "e342a6ba-4793-4d59-a256-6e11a2417445",
   "metadata": {},
   "source": [
    " "
   ]
  },
  {
   "cell_type": "markdown",
   "id": "83a8da17-72dd-46a6-b0e8-fecedaf24c2c",
   "metadata": {},
   "source": [
    "При такой схеме выгрузить необходимые данные было бы просто, но DOM документов обычно выглядит сложнее, дочерние елементы и родители могут иметь одинаковый тег(как на примере ниже div он же контейнер): "
   ]
  },
  {
   "cell_type": "markdown",
   "id": "62fd033e-52a1-4507-9153-e2c0772722dc",
   "metadata": {},
   "source": [
    "<img src=\"./pictures/3.png\"  \n",
    "  width=\"600\"\n",
    "/>"
   ]
  },
  {
   "cell_type": "markdown",
   "id": "400ac9d1-4d61-4749-bcbf-300e3be79118",
   "metadata": {},
   "source": [
    " "
   ]
  },
  {
   "cell_type": "markdown",
   "id": "55c97bb8-608c-4b53-90b7-f86bffbe00fc",
   "metadata": {},
   "source": [
    " "
   ]
  },
  {
   "cell_type": "markdown",
   "id": "ea401851-5f1f-4578-8613-094526607ad1",
   "metadata": {},
   "source": [
    " "
   ]
  },
  {
   "cell_type": "markdown",
   "id": "aeea5d92-659e-4dee-a533-119a1bc00919",
   "metadata": {},
   "source": [
    "## Class and Id"
   ]
  },
  {
   "cell_type": "markdown",
   "id": "c8ef94ba-1244-4fdc-ab56-ce996af6f7ee",
   "metadata": {},
   "source": [
    "<b>Class</b> - универсальный атрибут тега, с помощью которого можно задать имя любому элементу на странице. Имя элемента в дальнейшем используется в качестве селектора в CSS и позволяет управлять стилями элемента. К тому же по имени класса удобно искать и манипулировать элементами на странице"
   ]
  },
  {
   "cell_type": "markdown",
   "id": "71a5b1df-f817-4444-8abf-5859603b4314",
   "metadata": {},
   "source": [
    "<b>Id</b> - определяет уникальный идентификатор HTML-элемента. Значение атрибута <b>Id</b> должно быть уникальным в пределах HTML-документа.\n",
    "Атрибут <b>Id</b> используется для указания определенного объявления стиля в таблице стилей. Он также используется для доступа к элементу с определенным идентификатором и управления им."
   ]
  },
  {
   "cell_type": "markdown",
   "id": "34e27a88-16b6-468b-a8b7-36cc5fd2f65b",
   "metadata": {},
   "source": [
    "<img src=\"./pictures/4.png\"  \n",
    "  width=\"1400\"\n",
    "/>"
   ]
  },
  {
   "cell_type": "markdown",
   "id": "c9e4cca5-2892-4886-972d-1ed76047fb3e",
   "metadata": {},
   "source": [
    "В некоторых случаях DOM дерево может генерироваться на \"лету\" и использовать данные в зависимости от загруженной части сайта или переходах. \n",
    "В таких случаях использование парсинга будет затруднительной, т.к. в текущем варианте мы будем опираться на готовый \"слепок\" страницы и парсить ее."
   ]
  },
  {
   "cell_type": "markdown",
   "id": "e1782061-bc3f-4e90-8428-25d406617620",
   "metadata": {},
   "source": [
    "## Ошибки со стороны веб приложения"
   ]
  },
  {
   "cell_type": "markdown",
   "id": "3ca179ed-e632-46db-a9e0-cf2dba18b1e7",
   "metadata": {},
   "source": [
    "- 400 — Bad Request. Обычно этот статус связан с ошибкой ввода, например, если пользователь вводит некорректный адрес электронной почты.\n",
    "- 401 — Unauthorized. Этот статус связан с ситуацией, когда пользователь пытается получить доступ к чему-либо без авторизации там, где авторизация требуется. Также этот код ошибки подходит в ситуации, когда пользователь пытается выполнить действие, на которое у него нет прав.\n",
    "- 403 — Forbidden. Разница между этим статусом и статусом 400 незначительная. Обычно код 403 говорит о том, что сервер понял запрос, но не может его выполнить. Например, такой статус можно возвращать, если пользователь ввёл номер акционного купона с истекшим сроком действия.\n",
    "- 404 — Not Found. Это самый известный из «ошибочных» кодов ответа. Он сообщает, что запрошенный ресурс не найден. Это может произойти из-за некорректного URL, удалённой или перемещённой страницы.\n",
    "- 409 — Conflict. В большинстве случаев этот статус говорит о конфликте управления версиями. Например, такое происходит, если пользователь пробует загрузить версию файла, которая старше загруженной ранее версии этого файла. Также этот код может говорить об ограничениях уникальности, например, если пользователь пытается повторно отправить электронное письмо (второй раз нажимает кнопку «Отправить», не дождавшись завершения действия).\n",
    "- 500 — Internal Server Error. Этот статус говорит об ошибке, которую можно описать так: «Что-то пошло не так, но мы не знаем, что именно».\n",
    "- 503 — Unavailable. Сервер вышел из строя, ошибка может быть запланированной или незапланированной."
   ]
  },
  {
   "cell_type": "markdown",
   "id": "98192703-4613-4b1c-8e76-93fd68605a6d",
   "metadata": {},
   "source": [
    "## Статус ОК"
   ]
  },
  {
   "cell_type": "markdown",
   "id": "098b2db9-0177-4e5c-bccc-6e8dc6e171b1",
   "metadata": {},
   "source": [
    "- 200 ОК — самый популярный и нужный код ответа от сервера. Означает, что запрос со стороны клиента корректный и со стороны сервера выполняется без проблем. Все страницы, которые индексируются поисковыми системами, должны выдавать 200 ОК. \n",
    "- 301 Moved Permanently — указывает на перенаправление с одной страницы на другую."
   ]
  },
  {
   "cell_type": "markdown",
   "id": "75e4185c-351a-421d-8886-28d1e1872b9b",
   "metadata": {
    "toc-hr-collapsed": true
   },
   "source": [
    "# Новые библиотеки"
   ]
  },
  {
   "cell_type": "markdown",
   "id": "73a51bf0-87ce-4978-9c01-ab315ebc30bb",
   "metadata": {},
   "source": [
    "## requests"
   ]
  },
  {
   "cell_type": "markdown",
   "id": "d0549d56-4e01-4253-914f-db99c0a4015a",
   "metadata": {},
   "source": [
    "requests библиотека позволяет нам легко и с минимальным количеством кода взаимодействовать с веб-приложениями. Это необходимо нам для решения любых задач, связанных с передачей информации от пользователя к серверу и обратно"
   ]
  },
  {
   "cell_type": "markdown",
   "id": "bf25e87b-68c9-496a-8a19-56bc37471599",
   "metadata": {},
   "source": [
    "загрузим библиотеку и посмотрим основные методы "
   ]
  },
  {
   "cell_type": "code",
   "execution_count": 1,
   "id": "0956b924-1571-4e7d-966e-61917926db84",
   "metadata": {},
   "outputs": [],
   "source": [
    "import requests"
   ]
  },
  {
   "cell_type": "markdown",
   "id": "078c9d4a-5ca1-4c3e-a38f-14780b64ebc5",
   "metadata": {},
   "source": [
    "- Uniform Resource Locator. \n",
    "\n",
    "URL-адрес — это не что иное, как адрес данного уникального ресурса в Интернете. Теоретически каждый действительный URL-адрес указывает на уникальный ресурс."
   ]
  },
  {
   "cell_type": "markdown",
   "id": "4b8921b8-606e-4aeb-a5c8-12ba43855881",
   "metadata": {},
   "source": [
    "зная что такое URL загрузим нашу страницу и посмотрим на результат "
   ]
  },
  {
   "cell_type": "code",
   "execution_count": 2,
   "id": "a783ec98-2393-4da7-978e-cc7c40ebe87e",
   "metadata": {},
   "outputs": [],
   "source": [
    "URL_TEMPLATE = \"https://www.ss.lv/lv/real-estate/flats/riga/all/hand_over/page48.html\""
   ]
  },
  {
   "cell_type": "code",
   "execution_count": 3,
   "id": "f3d64f68-0824-4d6b-acad-d92421d95f95",
   "metadata": {},
   "outputs": [
    {
     "name": "stdout",
     "output_type": "stream",
     "text": [
      "200\n"
     ]
    }
   ],
   "source": [
    "r = requests.get(URL_TEMPLATE)\n",
    "print(r.status_code)"
   ]
  },
  {
   "cell_type": "code",
   "execution_count": 4,
   "id": "26ea7e77-f109-408a-b0ce-a3ad4bf0003c",
   "metadata": {},
   "outputs": [
    {
     "data": {
      "text/plain": [
       "'<!DOCTYPE html>\\r\\n<HTML><HEAD>\\r\\n<title>SS.LV Dzīvokļi - Rīga, Cenas. Blakus, caurstaigājama..., Izīrē - Visi sludinājumi</title>\\r\\n<meta http-equiv=\"Content-Type\" CONTENT=\"text/html; charset=UTF-8\">\\r\\n<m'"
      ]
     },
     "execution_count": 4,
     "metadata": {},
     "output_type": "execute_result"
    }
   ],
   "source": [
    "r.text[:200]"
   ]
  },
  {
   "cell_type": "markdown",
   "id": "4850735f-f78f-4fa8-828f-e76abc65f4a0",
   "metadata": {},
   "source": [
    "мы полностью загрузили слепок страницы по URL адресу, теперь нужно вытащить необходимые нам данные, для этого воспользуемся библиотекой Beautiful Soup"
   ]
  },
  {
   "cell_type": "markdown",
   "id": "82ade315-08da-4f0b-96eb-60ec8f8277dc",
   "metadata": {},
   "source": [
    "## bs4"
   ]
  },
  {
   "cell_type": "markdown",
   "id": "915bf17b-c1dc-405b-88d0-b256bac14b7d",
   "metadata": {},
   "source": [
    "Beautiful Soup — это пакет Python для анализа документов HTML и XML. Он создает дерево синтаксического анализа для проанализированных страниц, которое можно использовать для извлечения данных из HTML, что полезно для очистки веб-страниц."
   ]
  },
  {
   "cell_type": "markdown",
   "id": "3b8a0f27-4ab3-4a35-9715-768a3026927c",
   "metadata": {},
   "source": [
    "https://www.crummy.com/software/BeautifulSoup/bs4/doc/"
   ]
  },
  {
   "cell_type": "code",
   "execution_count": 2,
   "id": "56c0472d-cc78-4df5-bc75-64cde6fcc4bd",
   "metadata": {},
   "outputs": [],
   "source": [
    "from bs4 import BeautifulSoup as bs"
   ]
  },
  {
   "cell_type": "markdown",
   "id": "fe4a2601-72e1-4559-bc3a-7d6c98f17e5f",
   "metadata": {},
   "source": [
    "Запуск документа «requests» через Beautiful Soup дает нам объект BeautifulSoup, который представляет документ как вложенную структуру данных:"
   ]
  },
  {
   "cell_type": "code",
   "execution_count": 6,
   "id": "c2fa8b04-7c1d-4507-bcad-48e367ad27c1",
   "metadata": {},
   "outputs": [],
   "source": [
    "soup = bs(r.text, \"html.parser\")"
   ]
  },
  {
   "cell_type": "code",
   "execution_count": 7,
   "id": "cdb7051f-6ed7-463e-b6a1-f67290c5caef",
   "metadata": {},
   "outputs": [],
   "source": [
    "# тут можно увидеть данную структуру \n",
    "# soup"
   ]
  },
  {
   "cell_type": "markdown",
   "id": "a431eeee-cf17-4749-9f51-9067feb10342",
   "metadata": {},
   "source": [
    "<img src=\"./pictures/5.png\"  \n",
    "  width=\"1200\"\n",
    "/>"
   ]
  },
  {
   "cell_type": "markdown",
   "id": "d44006eb-3b8f-463f-8c9e-039f5ed56d31",
   "metadata": {},
   "source": [
    "Вот несколько простых способов навигации по этой структуре данных:"
   ]
  },
  {
   "cell_type": "code",
   "execution_count": 8,
   "id": "665ce0b4-792a-4411-8637-1a4f39050845",
   "metadata": {},
   "outputs": [
    {
     "data": {
      "text/plain": [
       "<title>SS.LV Dzīvokļi - Rīga, Cenas. Blakus, caurstaigājama..., Izīrē - Visi sludinājumi</title>"
      ]
     },
     "execution_count": 8,
     "metadata": {},
     "output_type": "execute_result"
    }
   ],
   "source": [
    "soup.title"
   ]
  },
  {
   "cell_type": "code",
   "execution_count": 9,
   "id": "a40c6f28-4322-43f9-987d-e59744ebadde",
   "metadata": {},
   "outputs": [
    {
     "data": {
      "text/plain": [
       "'title'"
      ]
     },
     "execution_count": 9,
     "metadata": {},
     "output_type": "execute_result"
    }
   ],
   "source": [
    "soup.title.name"
   ]
  },
  {
   "cell_type": "code",
   "execution_count": 10,
   "id": "f8d91d0b-8891-488a-873d-7c5dd5d38077",
   "metadata": {},
   "outputs": [
    {
     "data": {
      "text/plain": [
       "'SS.LV Dzīvokļi - Rīga, Cenas. Blakus, caurstaigājama..., Izīrē - Visi sludinājumi'"
      ]
     },
     "execution_count": 10,
     "metadata": {},
     "output_type": "execute_result"
    }
   ],
   "source": [
    "soup.title.string"
   ]
  },
  {
   "cell_type": "code",
   "execution_count": 11,
   "id": "4be2a847-4920-437e-9f33-9791ab278ddd",
   "metadata": {},
   "outputs": [
    {
     "data": {
      "text/plain": [
       "'head'"
      ]
     },
     "execution_count": 11,
     "metadata": {},
     "output_type": "execute_result"
    }
   ],
   "source": [
    "soup.title.parent.name"
   ]
  },
  {
   "cell_type": "code",
   "execution_count": 12,
   "id": "7889b7a5-4104-404a-8d80-34e25538b50d",
   "metadata": {},
   "outputs": [
    {
     "data": {
      "text/plain": [
       "<a href=\"/lv/\" title=\"Sludinājumi\"><img alt=\"Sludinājumi\" border=\"0\" class=\"page_header_logo_ss\" src=\"https://i.ss.lv/img/p.gif\"/></a>"
      ]
     },
     "execution_count": 12,
     "metadata": {},
     "output_type": "execute_result"
    }
   ],
   "source": [
    "soup.a"
   ]
  },
  {
   "cell_type": "code",
   "execution_count": 13,
   "id": "9e8ba3b0-1260-4994-b875-efcaf3024a4e",
   "metadata": {},
   "outputs": [
    {
     "data": {
      "text/plain": [
       "[<a href=\"/lv/\" title=\"Sludinājumi\"><img alt=\"Sludinājumi\" border=\"0\" class=\"page_header_logo_ss\" src=\"https://i.ss.lv/img/p.gif\"/></a>,\n",
       " <a class=\"a_menu\" href=\"/lv/real-estate/flats/new/\" title=\"Iesniegt Sludinājumu\">Iesniegt Sludinājumu</a>,\n",
       " <a class=\"a_menu\" href=\"/lv/login/\" title=\"Mani Sludinājumi\">Mani Sludinājumi</a>,\n",
       " <a class=\"a_menu\" href=\"/lv/real-estate/flats/riga/search/\" title=\"Meklēt sludinājumus\">Meklēšana</a>,\n",
       " <a class=\"a_menu\" href=\"/lv/favorites/\" title=\"Memo\">Memo</a>]"
      ]
     },
     "execution_count": 13,
     "metadata": {},
     "output_type": "execute_result"
    }
   ],
   "source": [
    "soup.find_all('a')[:5]"
   ]
  },
  {
   "cell_type": "code",
   "execution_count": 14,
   "id": "ae2d1f8c-6555-4d2f-acc6-8287ef63a591",
   "metadata": {},
   "outputs": [],
   "source": [
    "soup.find(id=\"tr_53431909\")"
   ]
  },
  {
   "cell_type": "markdown",
   "id": "82743b50-5c68-4d41-a0f8-1f7dea56ce30",
   "metadata": {},
   "source": [
    "       "
   ]
  },
  {
   "cell_type": "markdown",
   "id": "96018ed9-5755-4758-9a6d-9c39ebfc731e",
   "metadata": {},
   "source": [
    "    "
   ]
  },
  {
   "cell_type": "markdown",
   "id": "a3ed0895-d3ed-4083-b858-3c759b463f5e",
   "metadata": {},
   "source": [
    "\n",
    "\n",
    "\n",
    "\n",
    "\n",
    "  "
   ]
  },
  {
   "cell_type": "markdown",
   "id": "223b9aa4-aa62-44af-8f6f-8c814ff51d95",
   "metadata": {},
   "source": [
    "метод <b>.find_all</b> принимает в себя параметры поиска по тегам, классам, id и другим параметрам тега. В нашем случае воспользуемся поиском по тегу + классу"
   ]
  },
  {
   "cell_type": "code",
   "execution_count": 15,
   "id": "da082c0f-c35f-48df-9e44-42fcee0f09fc",
   "metadata": {},
   "outputs": [],
   "source": [
    "parsed_data = soup.find_all('td', class_='msga2-o pp6')"
   ]
  },
  {
   "cell_type": "markdown",
   "id": "75c7ff87-b0a7-4fdf-8b6a-9b65b66eb658",
   "metadata": {},
   "source": [
    "посмотрим на результат"
   ]
  },
  {
   "cell_type": "code",
   "execution_count": 16,
   "id": "10233271-11cc-4b7e-941d-943d505b4de4",
   "metadata": {},
   "outputs": [
    {
     "data": {
      "text/plain": [
       "[<td c=\"1\" class=\"msga2-o pp6\" nowrap=\"\">centrs<br/>Čaka 44</td>,\n",
       " <td c=\"1\" class=\"msga2-o pp6\" nowrap=\"\">1</td>,\n",
       " <td c=\"1\" class=\"msga2-o pp6\" nowrap=\"\">30</td>,\n",
       " <td c=\"1\" class=\"msga2-o pp6\" nowrap=\"\">1/6</td>,\n",
       " <td c=\"1\" class=\"msga2-o pp6\" nowrap=\"\">P. kara</td>,\n",
       " <td c=\"1\" class=\"msga2-o pp6\" nowrap=\"\">55  €/dienā</td>,\n",
       " <td c=\"1\" class=\"msga2-o pp6\" nowrap=\"\">centrs<br/>Barona 88</td>,\n",
       " <td c=\"1\" class=\"msga2-o pp6\" nowrap=\"\">2</td>,\n",
       " <td c=\"1\" class=\"msga2-o pp6\" nowrap=\"\">80</td>,\n",
       " <td c=\"1\" class=\"msga2-o pp6\" nowrap=\"\">1/4</td>,\n",
       " <td c=\"1\" class=\"msga2-o pp6\" nowrap=\"\">Specpr.</td>,\n",
       " <td c=\"1\" class=\"msga2-o pp6\" nowrap=\"\">60  €/dienā</td>]"
      ]
     },
     "execution_count": 16,
     "metadata": {},
     "output_type": "execute_result"
    }
   ],
   "source": [
    "parsed_data[:12]"
   ]
  },
  {
   "cell_type": "markdown",
   "id": "34dab75b-7931-43d9-9227-dc9ecdde12fb",
   "metadata": {},
   "source": [
    "  \n",
    "    \n",
    "    \n",
    "      "
   ]
  },
  {
   "cell_type": "markdown",
   "id": "0d5b37b1-abec-429c-a872-5d5427a4e434",
   "metadata": {},
   "source": [
    "Другая распространенная задача — извлечение всего текста со страницы:"
   ]
  },
  {
   "cell_type": "markdown",
   "id": "1780ef64-16e3-4354-bd98-fbb88973a581",
   "metadata": {},
   "source": [
    "<img src=\"./pictures/6.png\"  \n",
    "  width=\"1000\"\n",
    "/>"
   ]
  },
  {
   "cell_type": "code",
   "execution_count": 17,
   "id": "4043201f-8ef5-4592-b802-4b25ffa31004",
   "metadata": {},
   "outputs": [
    {
     "data": {
      "text/plain": [
       "'centrsČaka 44'"
      ]
     },
     "execution_count": 17,
     "metadata": {},
     "output_type": "execute_result"
    }
   ],
   "source": [
    "parsed_data[0].get_text()"
   ]
  },
  {
   "cell_type": "markdown",
   "id": "c063c3f2-5622-47be-9fff-c23bafed1817",
   "metadata": {},
   "source": [
    "get_text() удалил все теги и их параметры, при этом используемый тег br (служит для переноса строки) также был сьеден и привел к тому что наш текст \"слипился\""
   ]
  },
  {
   "cell_type": "markdown",
   "id": "e91e7d10-e9a0-4baa-ad8d-d40a6cc5f8ae",
   "metadata": {},
   "source": [
    "для избежания таких ситуаций проставим сепаратор который в дальнейшем будет легко удалить/заменить для разрыва текста"
   ]
  },
  {
   "cell_type": "code",
   "execution_count": 18,
   "id": "1975260e-06bc-4653-b557-0d134651d29a",
   "metadata": {},
   "outputs": [
    {
     "data": {
      "text/plain": [
       "'centrs|Čaka 44'"
      ]
     },
     "execution_count": 18,
     "metadata": {},
     "output_type": "execute_result"
    }
   ],
   "source": [
    "parsed_data[0].get_text(\"|\")"
   ]
  },
  {
   "cell_type": "code",
   "execution_count": 19,
   "id": "367e55c5-c19b-4a70-999e-55233ecf32d3",
   "metadata": {},
   "outputs": [
    {
     "name": "stdout",
     "output_type": "stream",
     "text": [
      "centrs|Čaka 44\n",
      "1\n",
      "30\n",
      "1/6\n",
      "P. kara\n",
      "55  €/dienā\n",
      "centrs|Barona 88\n"
     ]
    }
   ],
   "source": [
    "for i in range(0,7):\n",
    "    print(parsed_data[i].get_text(\"|\"))"
   ]
  },
  {
   "cell_type": "markdown",
   "id": "b1192faa-224c-4a60-aad9-10d5eadb46b7",
   "metadata": {},
   "source": [
    "# Example "
   ]
  },
  {
   "cell_type": "markdown",
   "id": "a1983b55-bf1f-427a-ae26-c02651355722",
   "metadata": {},
   "source": [
    "## Variant 1"
   ]
  },
  {
   "cell_type": "code",
   "execution_count": 20,
   "id": "a94b67b6-4317-4a07-8aa0-db3dd61ce871",
   "metadata": {},
   "outputs": [],
   "source": [
    "import pandas as pd\n",
    "import numpy as np"
   ]
  },
  {
   "cell_type": "code",
   "execution_count": 21,
   "id": "d1cc2e85-7e1c-40f0-abd1-dd763b8816fa",
   "metadata": {},
   "outputs": [
    {
     "name": "stdout",
     "output_type": "stream",
     "text": [
      "200\n"
     ]
    }
   ],
   "source": [
    "URL_TEMPLATE = \"https://www.ss.lv/lv/real-estate/flats/riga/all/sell/\"\n",
    "r = requests.get(URL_TEMPLATE)\n",
    "print(r.status_code)"
   ]
  },
  {
   "cell_type": "code",
   "execution_count": 22,
   "id": "834be227-1dec-4cfa-84b2-590d44d400c2",
   "metadata": {},
   "outputs": [],
   "source": [
    "soup = bs(r.text, \"html.parser\")\n",
    "parsed_data = soup.find_all('td', class_='msga2-o pp6')"
   ]
  },
  {
   "cell_type": "code",
   "execution_count": 23,
   "id": "9223bf99-8a28-45de-84e8-93cf262e3801",
   "metadata": {},
   "outputs": [
    {
     "data": {
      "text/plain": [
       "[<td c=\"1\" class=\"msga2-o pp6\" nowrap=\"\">Čiekurkalns<br/>Rusova 28</td>,\n",
       " <td c=\"1\" class=\"msga2-o pp6\" nowrap=\"\">1</td>,\n",
       " <td c=\"1\" class=\"msga2-o pp6\" nowrap=\"\">43</td>,\n",
       " <td c=\"1\" class=\"msga2-o pp6\" nowrap=\"\">5/5</td>,\n",
       " <td c=\"1\" class=\"msga2-o pp6\" nowrap=\"\">M. ģim.</td>,\n",
       " <td c=\"1\" class=\"msga2-o pp6\" nowrap=\"\">34,000  €</td>,\n",
       " <td c=\"1\" class=\"msga2-o pp6\" nowrap=\"\">Ķengarags<br/>Maskavas 260</td>,\n",
       " <td c=\"1\" class=\"msga2-o pp6\" nowrap=\"\">2</td>,\n",
       " <td c=\"1\" class=\"msga2-o pp6\" nowrap=\"\">48</td>,\n",
       " <td c=\"1\" class=\"msga2-o pp6\" nowrap=\"\">2/5</td>,\n",
       " <td c=\"1\" class=\"msga2-o pp6\" nowrap=\"\">LT proj.</td>,\n",
       " <td c=\"1\" class=\"msga2-o pp6\" nowrap=\"\">41,000  €</td>]"
      ]
     },
     "execution_count": 23,
     "metadata": {},
     "output_type": "execute_result"
    }
   ],
   "source": [
    "parsed_data[:12]"
   ]
  },
  {
   "cell_type": "markdown",
   "id": "6dad7172-a288-4c30-8963-5b153f60e380",
   "metadata": {},
   "source": [
    "<img src=\"./pictures/7.png\"  \n",
    "  width=\"1000\"\n",
    "/>"
   ]
  },
  {
   "cell_type": "code",
   "execution_count": 24,
   "id": "78b0c5ae-5b5a-4a1e-8f29-f33587e97c90",
   "metadata": {},
   "outputs": [],
   "source": [
    "page_array = []\n",
    "\n",
    "i = 0\n",
    "for data in parsed_data:\n",
    "    page_array.append([i, data.get_text(\"|\")])\n",
    "    i += 1\n",
    "    \n",
    "df_tmp = pd.DataFrame(page_array, columns=['line', 'data'])    "
   ]
  },
  {
   "cell_type": "markdown",
   "id": "4b04748b-ad27-462a-b4eb-f914ccf92a5c",
   "metadata": {},
   "source": [
    "тут мы получили нумерованный массив данных. \n",
    "\n",
    "Как показано на рисунке выше, все даннные (даже табличные) превратились в строки, что б исправить эту ситуацию возьмем сделаем индекс столбца, для этого воспользуемся делением без остатка"
   ]
  },
  {
   "cell_type": "code",
   "execution_count": 25,
   "id": "2bac5d46-f671-4e9f-b12f-3ec412ff222d",
   "metadata": {},
   "outputs": [],
   "source": [
    "df_tmp['head'] = df_tmp['line']%6"
   ]
  },
  {
   "cell_type": "code",
   "execution_count": 26,
   "id": "0115e13b-1271-4f2b-ab0b-e57b0e472745",
   "metadata": {},
   "outputs": [
    {
     "data": {
      "text/html": [
       "<div>\n",
       "<style scoped>\n",
       "    .dataframe tbody tr th:only-of-type {\n",
       "        vertical-align: middle;\n",
       "    }\n",
       "\n",
       "    .dataframe tbody tr th {\n",
       "        vertical-align: top;\n",
       "    }\n",
       "\n",
       "    .dataframe thead th {\n",
       "        text-align: right;\n",
       "    }\n",
       "</style>\n",
       "<table border=\"1\" class=\"dataframe\">\n",
       "  <thead>\n",
       "    <tr style=\"text-align: right;\">\n",
       "      <th></th>\n",
       "      <th>line</th>\n",
       "      <th>data</th>\n",
       "      <th>head</th>\n",
       "    </tr>\n",
       "  </thead>\n",
       "  <tbody>\n",
       "    <tr>\n",
       "      <th>0</th>\n",
       "      <td>0</td>\n",
       "      <td>Čiekurkalns|Rusova 28</td>\n",
       "      <td>0</td>\n",
       "    </tr>\n",
       "    <tr>\n",
       "      <th>1</th>\n",
       "      <td>1</td>\n",
       "      <td>1</td>\n",
       "      <td>1</td>\n",
       "    </tr>\n",
       "    <tr>\n",
       "      <th>2</th>\n",
       "      <td>2</td>\n",
       "      <td>43</td>\n",
       "      <td>2</td>\n",
       "    </tr>\n",
       "    <tr>\n",
       "      <th>3</th>\n",
       "      <td>3</td>\n",
       "      <td>5/5</td>\n",
       "      <td>3</td>\n",
       "    </tr>\n",
       "    <tr>\n",
       "      <th>4</th>\n",
       "      <td>4</td>\n",
       "      <td>M. ģim.</td>\n",
       "      <td>4</td>\n",
       "    </tr>\n",
       "    <tr>\n",
       "      <th>5</th>\n",
       "      <td>5</td>\n",
       "      <td>34,000  €</td>\n",
       "      <td>5</td>\n",
       "    </tr>\n",
       "    <tr>\n",
       "      <th>6</th>\n",
       "      <td>6</td>\n",
       "      <td>Ķengarags|Maskavas 260</td>\n",
       "      <td>0</td>\n",
       "    </tr>\n",
       "    <tr>\n",
       "      <th>7</th>\n",
       "      <td>7</td>\n",
       "      <td>2</td>\n",
       "      <td>1</td>\n",
       "    </tr>\n",
       "    <tr>\n",
       "      <th>8</th>\n",
       "      <td>8</td>\n",
       "      <td>48</td>\n",
       "      <td>2</td>\n",
       "    </tr>\n",
       "    <tr>\n",
       "      <th>9</th>\n",
       "      <td>9</td>\n",
       "      <td>2/5</td>\n",
       "      <td>3</td>\n",
       "    </tr>\n",
       "  </tbody>\n",
       "</table>\n",
       "</div>"
      ],
      "text/plain": [
       "   line                    data  head\n",
       "0     0   Čiekurkalns|Rusova 28     0\n",
       "1     1                       1     1\n",
       "2     2                      43     2\n",
       "3     3                     5/5     3\n",
       "4     4                 M. ģim.     4\n",
       "5     5               34,000  €     5\n",
       "6     6  Ķengarags|Maskavas 260     0\n",
       "7     7                       2     1\n",
       "8     8                      48     2\n",
       "9     9                     2/5     3"
      ]
     },
     "execution_count": 26,
     "metadata": {},
     "output_type": "execute_result"
    }
   ],
   "source": [
    "df_tmp.head(10)"
   ]
  },
  {
   "cell_type": "markdown",
   "id": "f6e24112-1cf5-40a6-84ca-047f62aa3dcc",
   "metadata": {},
   "source": [
    "отлично! у нас в таблице появился индекс столбца, осталось добавить индекс строки, для этого воспользуемся методом `.cumcount()`, он выполняет аналогичные действия оконным функциям SQL `count() over (partition by column1 group by column1)`"
   ]
  },
  {
   "cell_type": "code",
   "execution_count": 27,
   "id": "c433f98b-b986-46ec-aa33-0b730b604cfb",
   "metadata": {},
   "outputs": [],
   "source": [
    "df_tmp['group'] = df_tmp.groupby('head').cumcount()"
   ]
  },
  {
   "cell_type": "code",
   "execution_count": 28,
   "id": "6c6fa967-efa5-4639-b27c-d3c5b6c60980",
   "metadata": {},
   "outputs": [
    {
     "data": {
      "text/html": [
       "<div>\n",
       "<style scoped>\n",
       "    .dataframe tbody tr th:only-of-type {\n",
       "        vertical-align: middle;\n",
       "    }\n",
       "\n",
       "    .dataframe tbody tr th {\n",
       "        vertical-align: top;\n",
       "    }\n",
       "\n",
       "    .dataframe thead th {\n",
       "        text-align: right;\n",
       "    }\n",
       "</style>\n",
       "<table border=\"1\" class=\"dataframe\">\n",
       "  <thead>\n",
       "    <tr style=\"text-align: right;\">\n",
       "      <th></th>\n",
       "      <th>line</th>\n",
       "      <th>data</th>\n",
       "      <th>head</th>\n",
       "      <th>group</th>\n",
       "    </tr>\n",
       "  </thead>\n",
       "  <tbody>\n",
       "    <tr>\n",
       "      <th>0</th>\n",
       "      <td>0</td>\n",
       "      <td>Čiekurkalns|Rusova 28</td>\n",
       "      <td>0</td>\n",
       "      <td>0</td>\n",
       "    </tr>\n",
       "    <tr>\n",
       "      <th>1</th>\n",
       "      <td>1</td>\n",
       "      <td>1</td>\n",
       "      <td>1</td>\n",
       "      <td>0</td>\n",
       "    </tr>\n",
       "    <tr>\n",
       "      <th>2</th>\n",
       "      <td>2</td>\n",
       "      <td>43</td>\n",
       "      <td>2</td>\n",
       "      <td>0</td>\n",
       "    </tr>\n",
       "    <tr>\n",
       "      <th>3</th>\n",
       "      <td>3</td>\n",
       "      <td>5/5</td>\n",
       "      <td>3</td>\n",
       "      <td>0</td>\n",
       "    </tr>\n",
       "    <tr>\n",
       "      <th>4</th>\n",
       "      <td>4</td>\n",
       "      <td>M. ģim.</td>\n",
       "      <td>4</td>\n",
       "      <td>0</td>\n",
       "    </tr>\n",
       "    <tr>\n",
       "      <th>5</th>\n",
       "      <td>5</td>\n",
       "      <td>34,000  €</td>\n",
       "      <td>5</td>\n",
       "      <td>0</td>\n",
       "    </tr>\n",
       "    <tr>\n",
       "      <th>6</th>\n",
       "      <td>6</td>\n",
       "      <td>Ķengarags|Maskavas 260</td>\n",
       "      <td>0</td>\n",
       "      <td>1</td>\n",
       "    </tr>\n",
       "    <tr>\n",
       "      <th>7</th>\n",
       "      <td>7</td>\n",
       "      <td>2</td>\n",
       "      <td>1</td>\n",
       "      <td>1</td>\n",
       "    </tr>\n",
       "    <tr>\n",
       "      <th>8</th>\n",
       "      <td>8</td>\n",
       "      <td>48</td>\n",
       "      <td>2</td>\n",
       "      <td>1</td>\n",
       "    </tr>\n",
       "    <tr>\n",
       "      <th>9</th>\n",
       "      <td>9</td>\n",
       "      <td>2/5</td>\n",
       "      <td>3</td>\n",
       "      <td>1</td>\n",
       "    </tr>\n",
       "  </tbody>\n",
       "</table>\n",
       "</div>"
      ],
      "text/plain": [
       "   line                    data  head  group\n",
       "0     0   Čiekurkalns|Rusova 28     0      0\n",
       "1     1                       1     1      0\n",
       "2     2                      43     2      0\n",
       "3     3                     5/5     3      0\n",
       "4     4                 M. ģim.     4      0\n",
       "5     5               34,000  €     5      0\n",
       "6     6  Ķengarags|Maskavas 260     0      1\n",
       "7     7                       2     1      1\n",
       "8     8                      48     2      1\n",
       "9     9                     2/5     3      1"
      ]
     },
     "execution_count": 28,
     "metadata": {},
     "output_type": "execute_result"
    }
   ],
   "source": [
    "df_tmp.head(10)"
   ]
  },
  {
   "cell_type": "markdown",
   "id": "4915adac-887b-4207-8027-871616760d51",
   "metadata": {},
   "source": [
    "соберем читаемый вид нашей таблицы"
   ]
  },
  {
   "cell_type": "code",
   "execution_count": 29,
   "id": "0b3446bf-8dad-41ac-8493-93bc72ed1196",
   "metadata": {},
   "outputs": [],
   "source": [
    "df = df_tmp.loc[df_tmp['head']==0][['group', 'data']]"
   ]
  },
  {
   "cell_type": "code",
   "execution_count": 30,
   "id": "336a06cb-f4c5-4c83-9864-e67eeaf72534",
   "metadata": {},
   "outputs": [],
   "source": [
    "df = df.merge(df_tmp.loc[df_tmp['head']==1][['group', 'data']], how='left', on='group', suffixes=('','_rooms'))\n",
    "df = df.merge(df_tmp.loc[df_tmp['head']==2][['group', 'data']], how='left', on='group', suffixes=('','_m2'))\n",
    "df = df.merge(df_tmp.loc[df_tmp['head']==3][['group', 'data']], how='left', on='group', suffixes=('','_floor'))\n",
    "df = df.merge(df_tmp.loc[df_tmp['head']==4][['group', 'data']], how='left', on='group', suffixes=('','_seria'))\n",
    "df = df.merge(df_tmp.loc[df_tmp['head']==5][['group', 'data']], how='left', on='group', suffixes=('','_price'))"
   ]
  },
  {
   "cell_type": "code",
   "execution_count": 31,
   "id": "0a7b91f7-cc42-4024-b863-731e492c77d9",
   "metadata": {},
   "outputs": [
    {
     "data": {
      "text/html": [
       "<div>\n",
       "<style scoped>\n",
       "    .dataframe tbody tr th:only-of-type {\n",
       "        vertical-align: middle;\n",
       "    }\n",
       "\n",
       "    .dataframe tbody tr th {\n",
       "        vertical-align: top;\n",
       "    }\n",
       "\n",
       "    .dataframe thead th {\n",
       "        text-align: right;\n",
       "    }\n",
       "</style>\n",
       "<table border=\"1\" class=\"dataframe\">\n",
       "  <thead>\n",
       "    <tr style=\"text-align: right;\">\n",
       "      <th></th>\n",
       "      <th>group</th>\n",
       "      <th>data</th>\n",
       "      <th>data_rooms</th>\n",
       "      <th>data_m2</th>\n",
       "      <th>data_floor</th>\n",
       "      <th>data_seria</th>\n",
       "      <th>data_price</th>\n",
       "    </tr>\n",
       "  </thead>\n",
       "  <tbody>\n",
       "    <tr>\n",
       "      <th>0</th>\n",
       "      <td>0</td>\n",
       "      <td>Čiekurkalns|Rusova 28</td>\n",
       "      <td>1</td>\n",
       "      <td>43</td>\n",
       "      <td>5/5</td>\n",
       "      <td>M. ģim.</td>\n",
       "      <td>34,000  €</td>\n",
       "    </tr>\n",
       "    <tr>\n",
       "      <th>1</th>\n",
       "      <td>1</td>\n",
       "      <td>Ķengarags|Maskavas 260</td>\n",
       "      <td>2</td>\n",
       "      <td>48</td>\n",
       "      <td>2/5</td>\n",
       "      <td>LT proj.</td>\n",
       "      <td>41,000  €</td>\n",
       "    </tr>\n",
       "    <tr>\n",
       "      <th>2</th>\n",
       "      <td>2</td>\n",
       "      <td>Vecmīlgrāvis|Emmas 28</td>\n",
       "      <td>2</td>\n",
       "      <td>40</td>\n",
       "      <td>2/4</td>\n",
       "      <td>Renov.</td>\n",
       "      <td>48,000  €</td>\n",
       "    </tr>\n",
       "    <tr>\n",
       "      <th>3</th>\n",
       "      <td>3</td>\n",
       "      <td>Vecmīlgrāvis|Emmas 28</td>\n",
       "      <td>2</td>\n",
       "      <td>33</td>\n",
       "      <td>3/4</td>\n",
       "      <td>Specpr.</td>\n",
       "      <td>38,000  €</td>\n",
       "    </tr>\n",
       "    <tr>\n",
       "      <th>4</th>\n",
       "      <td>4</td>\n",
       "      <td>Purvciems|Staiceles 19</td>\n",
       "      <td>2</td>\n",
       "      <td>44</td>\n",
       "      <td>3/5</td>\n",
       "      <td>LT proj.</td>\n",
       "      <td>48,000  €</td>\n",
       "    </tr>\n",
       "  </tbody>\n",
       "</table>\n",
       "</div>"
      ],
      "text/plain": [
       "   group                    data data_rooms data_m2 data_floor data_seria  \\\n",
       "0      0   Čiekurkalns|Rusova 28          1      43        5/5    M. ģim.   \n",
       "1      1  Ķengarags|Maskavas 260          2      48        2/5   LT proj.   \n",
       "2      2   Vecmīlgrāvis|Emmas 28          2      40        2/4     Renov.   \n",
       "3      3   Vecmīlgrāvis|Emmas 28          2      33        3/4    Specpr.   \n",
       "4      4  Purvciems|Staiceles 19          2      44        3/5   LT proj.   \n",
       "\n",
       "  data_price  \n",
       "0  34,000  €  \n",
       "1  41,000  €  \n",
       "2  48,000  €  \n",
       "3  38,000  €  \n",
       "4  48,000  €  "
      ]
     },
     "execution_count": 31,
     "metadata": {},
     "output_type": "execute_result"
    }
   ],
   "source": [
    "df.head()"
   ]
  },
  {
   "cell_type": "markdown",
   "id": "41147615-181a-4b17-8485-eac15a4f1382",
   "metadata": {},
   "source": [
    "Мы выгрузили наши первые данные из страницы html, но есть проблема, страниц на сайте больше. \n",
    "\n",
    "Значит мы напишем функцию для обработки и выгрузки данных со всем страниц"
   ]
  },
  {
   "cell_type": "markdown",
   "id": "7cca4ff2-21fa-4647-ba8c-93f986a5feff",
   "metadata": {},
   "source": [
    "### update script"
   ]
  },
  {
   "cell_type": "markdown",
   "id": "386cce84-4df9-40c9-88ed-763751639f72",
   "metadata": {},
   "source": [
    "наверняка вы слышали и такой вещи как `DDoS` атаки, это тип атаки хакеров на ресурс, при котором киберпреступники создают непрерывный поток запросов из разных источников, который мешают серверу работать.\n",
    "\n",
    "Один из самых простых способов защиты от таких атак является лимитирование запросов которые мы можем направить на сайт, иногда этот обьем лимитируеться 500 запросами в секунду, а иногда 50 в минуту (в зависимости от русерсов сервера).\n",
    "\n",
    "Мы в нашем случае не будет проверять сайты на прочность, наша задача достать данные и при этом не навредить работе сайта. Для этого воспользуемся новой библиотекой `time`, с ее помощью мы можем python просить замедлить запросы делая между каждым паузу"
   ]
  },
  {
   "cell_type": "code",
   "execution_count": 11,
   "id": "25ac5266-19e8-40a9-85ee-b19288e9d336",
   "metadata": {},
   "outputs": [],
   "source": [
    "import time\n",
    "from tqdm.notebook import tqdm"
   ]
  },
  {
   "cell_type": "code",
   "execution_count": 33,
   "id": "7efee930-eaa6-4083-b1f0-49700451373d",
   "metadata": {},
   "outputs": [],
   "source": [
    "def load_data(link, time_sleep, page_num):\n",
    "    \n",
    "    # метод принимает в себя время для ождания в секундах\n",
    "    time.sleep(time_sleep)\n",
    "    \n",
    "    # тут будет генерироваться новая страница \n",
    "    # если вы обратите внимание чем отличаються страницы, сделать цикл по ним не будет проблемой \n",
    "    # https://www.ss.lv/lv/real-estate/flats/riga/all/hand_over/page48.html\n",
    "    # https://www.ss.lv/lv/real-estate/flats/riga/all/hand_over/page49.html\n",
    "    \n",
    "    link = link + 'page' + str(page_num) + '.html'\n",
    "    \n",
    "    # получаем реквест \n",
    "    r = requests.get(URL_TEMPLATE)\n",
    "    \n",
    "    # важно, если вернулся статус не 200, то из функции можно выходить \n",
    "    if r.status_code!=200:\n",
    "        print('Error status', r.status_code)\n",
    "        return \n",
    "    \n",
    "    # парсим наши данные, все проводимые ранее операции \n",
    "    soup = bs(r.text, \"html.parser\")\n",
    "    parsed_data = soup.find_all('td', class_='msga2-o pp6')\n",
    "    \n",
    "    page_array = []\n",
    "\n",
    "    i = 0\n",
    "    for data in parsed_data:\n",
    "        page_array.append([i, data.get_text(\"|\")])\n",
    "        i += 1\n",
    "\n",
    "    df_tmp = pd.DataFrame(page_array, columns=['line', 'data'])\n",
    "    df_tmp['head'] = df_tmp['line']%6\n",
    "    df_tmp['group'] = df_tmp.groupby('head').cumcount()\n",
    "    \n",
    "    \n",
    "    # собираем наши данные в единный датафрейм  \n",
    "    df_page = df_tmp.loc[df_tmp['head']==0][['group', 'data']]       \n",
    "    df_page = df_page.merge(df_tmp.loc[df_tmp['head']==1][['group', 'data']], how='left', on='group', suffixes=('','_rooms'))\n",
    "    df_page = df_page.merge(df_tmp.loc[df_tmp['head']==2][['group', 'data']], how='left', on='group', suffixes=('','_m2'))\n",
    "    df_page = df_page.merge(df_tmp.loc[df_tmp['head']==3][['group', 'data']], how='left', on='group', suffixes=('','_floor'))\n",
    "    df_page = df_page.merge(df_tmp.loc[df_tmp['head']==4][['group', 'data']], how='left', on='group', suffixes=('','_seria'))\n",
    "    df_page = df_page.merge(df_tmp.loc[df_tmp['head']==5][['group', 'data']], how='left', on='group', suffixes=('','_price'))\n",
    "    \n",
    "    return df_page"
   ]
  },
  {
   "cell_type": "code",
   "execution_count": 34,
   "id": "c4f2fe28-a68f-49e5-92b9-aded2e7708b7",
   "metadata": {},
   "outputs": [],
   "source": [
    "# устанавливем стартовый URL \n",
    "URL_TEMPLATE = \"https://www.ss.lv/lv/real-estate/flats/riga/all/sell/\""
   ]
  },
  {
   "cell_type": "code",
   "execution_count": 35,
   "id": "c9225fdd-7c57-4701-af36-f7eaa9974847",
   "metadata": {},
   "outputs": [],
   "source": [
    "# делаем пробный запуск, из праметров\n",
    "# наш URL\n",
    "# время ожидания между запросами устанавливаем в 1 сек\n",
    "# выбираем первую страницу\n",
    "\n",
    "df = load_data(URL_TEMPLATE, 1, 1)"
   ]
  },
  {
   "cell_type": "code",
   "execution_count": 36,
   "id": "c0c538b5-20e9-4f27-87dc-4e5b20b4e743",
   "metadata": {},
   "outputs": [
    {
     "data": {
      "text/html": [
       "<div>\n",
       "<style scoped>\n",
       "    .dataframe tbody tr th:only-of-type {\n",
       "        vertical-align: middle;\n",
       "    }\n",
       "\n",
       "    .dataframe tbody tr th {\n",
       "        vertical-align: top;\n",
       "    }\n",
       "\n",
       "    .dataframe thead th {\n",
       "        text-align: right;\n",
       "    }\n",
       "</style>\n",
       "<table border=\"1\" class=\"dataframe\">\n",
       "  <thead>\n",
       "    <tr style=\"text-align: right;\">\n",
       "      <th></th>\n",
       "      <th>group</th>\n",
       "      <th>data</th>\n",
       "      <th>data_rooms</th>\n",
       "      <th>data_m2</th>\n",
       "      <th>data_floor</th>\n",
       "      <th>data_seria</th>\n",
       "      <th>data_price</th>\n",
       "    </tr>\n",
       "  </thead>\n",
       "  <tbody>\n",
       "    <tr>\n",
       "      <th>0</th>\n",
       "      <td>0</td>\n",
       "      <td>Čiekurkalns|Rusova 28</td>\n",
       "      <td>1</td>\n",
       "      <td>43</td>\n",
       "      <td>5/5</td>\n",
       "      <td>M. ģim.</td>\n",
       "      <td>34,000  €</td>\n",
       "    </tr>\n",
       "    <tr>\n",
       "      <th>1</th>\n",
       "      <td>1</td>\n",
       "      <td>Ķengarags|Maskavas 260</td>\n",
       "      <td>2</td>\n",
       "      <td>48</td>\n",
       "      <td>2/5</td>\n",
       "      <td>LT proj.</td>\n",
       "      <td>41,000  €</td>\n",
       "    </tr>\n",
       "    <tr>\n",
       "      <th>2</th>\n",
       "      <td>2</td>\n",
       "      <td>Vecmīlgrāvis|Emmas 28</td>\n",
       "      <td>2</td>\n",
       "      <td>40</td>\n",
       "      <td>2/4</td>\n",
       "      <td>Renov.</td>\n",
       "      <td>48,000  €</td>\n",
       "    </tr>\n",
       "    <tr>\n",
       "      <th>3</th>\n",
       "      <td>3</td>\n",
       "      <td>Vecmīlgrāvis|Emmas 28</td>\n",
       "      <td>2</td>\n",
       "      <td>33</td>\n",
       "      <td>3/4</td>\n",
       "      <td>Specpr.</td>\n",
       "      <td>38,000  €</td>\n",
       "    </tr>\n",
       "    <tr>\n",
       "      <th>4</th>\n",
       "      <td>4</td>\n",
       "      <td>Purvciems|Staiceles 19</td>\n",
       "      <td>2</td>\n",
       "      <td>44</td>\n",
       "      <td>3/5</td>\n",
       "      <td>LT proj.</td>\n",
       "      <td>48,000  €</td>\n",
       "    </tr>\n",
       "  </tbody>\n",
       "</table>\n",
       "</div>"
      ],
      "text/plain": [
       "   group                    data data_rooms data_m2 data_floor data_seria  \\\n",
       "0      0   Čiekurkalns|Rusova 28          1      43        5/5    M. ģim.   \n",
       "1      1  Ķengarags|Maskavas 260          2      48        2/5   LT proj.   \n",
       "2      2   Vecmīlgrāvis|Emmas 28          2      40        2/4     Renov.   \n",
       "3      3   Vecmīlgrāvis|Emmas 28          2      33        3/4    Specpr.   \n",
       "4      4  Purvciems|Staiceles 19          2      44        3/5   LT proj.   \n",
       "\n",
       "  data_price  \n",
       "0  34,000  €  \n",
       "1  41,000  €  \n",
       "2  48,000  €  \n",
       "3  38,000  €  \n",
       "4  48,000  €  "
      ]
     },
     "execution_count": 36,
     "metadata": {},
     "output_type": "execute_result"
    }
   ],
   "source": [
    "# данные выглядят отлично, повторяем операцию для 48 страниц \n",
    "df.head()"
   ]
  },
  {
   "cell_type": "code",
   "execution_count": 37,
   "id": "37a593c1-5c18-4d23-a17c-ee4d08771135",
   "metadata": {},
   "outputs": [
    {
     "data": {
      "application/vnd.jupyter.widget-view+json": {
       "model_id": "b787d47acfa44aa1b3f71de64b8c15c4",
       "version_major": 2,
       "version_minor": 0
      },
      "text/plain": [
       "  0%|          | 0/48 [00:00<?, ?it/s]"
      ]
     },
     "metadata": {},
     "output_type": "display_data"
    }
   ],
   "source": [
    "# обратите внимание. лимит стоит на +1 страницу\n",
    "for i in tqdm(range(2,50)):\n",
    "    df  = pd.concat([df, load_data(URL_TEMPLATE, 1, i)])"
   ]
  },
  {
   "cell_type": "code",
   "execution_count": 38,
   "id": "c8e4b75f-7fd7-4038-ad1a-918ae37f8a6e",
   "metadata": {},
   "outputs": [
    {
     "data": {
      "text/plain": [
       "1470"
      ]
     },
     "execution_count": 38,
     "metadata": {},
     "output_type": "execute_result"
    }
   ],
   "source": [
    "# выгрузка данных по продажам 1400+ данных\n",
    "len(df)"
   ]
  },
  {
   "cell_type": "markdown",
   "id": "b1f7cb0b-aff9-4461-b0d9-c9e60bcdef6e",
   "metadata": {},
   "source": [
    "модифицируем результаты "
   ]
  },
  {
   "cell_type": "code",
   "execution_count": 39,
   "id": "8abf94e7-89c6-4d10-8f7e-c2adc6ff2e8b",
   "metadata": {},
   "outputs": [
    {
     "data": {
      "text/html": [
       "<div>\n",
       "<style scoped>\n",
       "    .dataframe tbody tr th:only-of-type {\n",
       "        vertical-align: middle;\n",
       "    }\n",
       "\n",
       "    .dataframe tbody tr th {\n",
       "        vertical-align: top;\n",
       "    }\n",
       "\n",
       "    .dataframe thead th {\n",
       "        text-align: right;\n",
       "    }\n",
       "</style>\n",
       "<table border=\"1\" class=\"dataframe\">\n",
       "  <thead>\n",
       "    <tr style=\"text-align: right;\">\n",
       "      <th></th>\n",
       "      <th>group</th>\n",
       "      <th>data</th>\n",
       "      <th>data_rooms</th>\n",
       "      <th>data_m2</th>\n",
       "      <th>data_floor</th>\n",
       "      <th>data_seria</th>\n",
       "      <th>data_price</th>\n",
       "    </tr>\n",
       "  </thead>\n",
       "  <tbody>\n",
       "    <tr>\n",
       "      <th>0</th>\n",
       "      <td>0</td>\n",
       "      <td>Čiekurkalns|Rusova 28</td>\n",
       "      <td>1</td>\n",
       "      <td>43</td>\n",
       "      <td>5/5</td>\n",
       "      <td>M. ģim.</td>\n",
       "      <td>34,000  €</td>\n",
       "    </tr>\n",
       "    <tr>\n",
       "      <th>1</th>\n",
       "      <td>1</td>\n",
       "      <td>Ķengarags|Maskavas 260</td>\n",
       "      <td>2</td>\n",
       "      <td>48</td>\n",
       "      <td>2/5</td>\n",
       "      <td>LT proj.</td>\n",
       "      <td>41,000  €</td>\n",
       "    </tr>\n",
       "    <tr>\n",
       "      <th>2</th>\n",
       "      <td>2</td>\n",
       "      <td>Vecmīlgrāvis|Emmas 28</td>\n",
       "      <td>2</td>\n",
       "      <td>40</td>\n",
       "      <td>2/4</td>\n",
       "      <td>Renov.</td>\n",
       "      <td>48,000  €</td>\n",
       "    </tr>\n",
       "    <tr>\n",
       "      <th>3</th>\n",
       "      <td>3</td>\n",
       "      <td>Vecmīlgrāvis|Emmas 28</td>\n",
       "      <td>2</td>\n",
       "      <td>33</td>\n",
       "      <td>3/4</td>\n",
       "      <td>Specpr.</td>\n",
       "      <td>38,000  €</td>\n",
       "    </tr>\n",
       "    <tr>\n",
       "      <th>4</th>\n",
       "      <td>4</td>\n",
       "      <td>Purvciems|Staiceles 19</td>\n",
       "      <td>2</td>\n",
       "      <td>44</td>\n",
       "      <td>3/5</td>\n",
       "      <td>LT proj.</td>\n",
       "      <td>48,000  €</td>\n",
       "    </tr>\n",
       "  </tbody>\n",
       "</table>\n",
       "</div>"
      ],
      "text/plain": [
       "   group                    data data_rooms data_m2 data_floor data_seria  \\\n",
       "0      0   Čiekurkalns|Rusova 28          1      43        5/5    M. ģim.   \n",
       "1      1  Ķengarags|Maskavas 260          2      48        2/5   LT proj.   \n",
       "2      2   Vecmīlgrāvis|Emmas 28          2      40        2/4     Renov.   \n",
       "3      3   Vecmīlgrāvis|Emmas 28          2      33        3/4    Specpr.   \n",
       "4      4  Purvciems|Staiceles 19          2      44        3/5   LT proj.   \n",
       "\n",
       "  data_price  \n",
       "0  34,000  €  \n",
       "1  41,000  €  \n",
       "2  48,000  €  \n",
       "3  38,000  €  \n",
       "4  48,000  €  "
      ]
     },
     "execution_count": 39,
     "metadata": {},
     "output_type": "execute_result"
    }
   ],
   "source": [
    "df.head()"
   ]
  },
  {
   "cell_type": "code",
   "execution_count": 40,
   "id": "e29add35-b0e2-4c52-8a05-dff80edad1f9",
   "metadata": {},
   "outputs": [],
   "source": [
    "# почистим данные в data_price, удалим ' €','|' и ','\n",
    "df['data_price'] = df['data_price'].apply(lambda x: x.replace(' €','').replace('|','').replace(',',''))\n",
    "df['data_price'] = df['data_price'].astype('int64')"
   ]
  },
  {
   "cell_type": "code",
   "execution_count": 41,
   "id": "74998de0-9e2c-47ac-80b0-df555e76915c",
   "metadata": {},
   "outputs": [],
   "source": [
    "# разделим дистрикт и улицу на два столбца\n",
    "df[['data_district', 'data_street']] = df['data'].str.split(pat='|', n=1 , expand=True )"
   ]
  },
  {
   "cell_type": "code",
   "execution_count": 42,
   "id": "7611633d-d1b5-4af2-a863-2303a8d48b0d",
   "metadata": {},
   "outputs": [],
   "source": [
    "# разделим этаж и максимальный этаж на два столбца\n",
    "df[['data_cur_floor', 'data_max_floor']] = df['data_floor'].str.split(pat='/', n=1 , expand=True )\n",
    "\n",
    "df['data_cur_floor'] = df['data_cur_floor'].astype('int64')\n",
    "df['data_max_floor'] = df['data_max_floor'].astype('int64')"
   ]
  },
  {
   "cell_type": "code",
   "execution_count": 43,
   "id": "aeed39d8-1d9f-4480-9482-9f454e110c94",
   "metadata": {},
   "outputs": [],
   "source": [
    "df['data_rooms'] = df['data_rooms'].astype('int64')"
   ]
  },
  {
   "cell_type": "code",
   "execution_count": 44,
   "id": "7cff350e-3145-4323-9e93-7e912f07ee21",
   "metadata": {},
   "outputs": [],
   "source": [
    "df = df[['data_district','data_street','data_rooms','data_cur_floor','data_max_floor','data_m2','data_seria','data_price']]"
   ]
  },
  {
   "cell_type": "code",
   "execution_count": 45,
   "id": "361f2515-040b-455d-be13-812e7aea6665",
   "metadata": {},
   "outputs": [
    {
     "name": "stdout",
     "output_type": "stream",
     "text": [
      "<class 'pandas.core.frame.DataFrame'>\n",
      "Int64Index: 1470 entries, 0 to 29\n",
      "Data columns (total 8 columns):\n",
      " #   Column          Non-Null Count  Dtype \n",
      "---  ------          --------------  ----- \n",
      " 0   data_district   1470 non-null   object\n",
      " 1   data_street     1470 non-null   object\n",
      " 2   data_rooms      1470 non-null   int64 \n",
      " 3   data_cur_floor  1470 non-null   int64 \n",
      " 4   data_max_floor  1470 non-null   int64 \n",
      " 5   data_m2         1470 non-null   object\n",
      " 6   data_seria      1470 non-null   object\n",
      " 7   data_price      1470 non-null   int64 \n",
      "dtypes: int64(4), object(4)\n",
      "memory usage: 103.4+ KB\n"
     ]
    }
   ],
   "source": [
    "# наши данные \n",
    "df.info()"
   ]
  },
  {
   "cell_type": "code",
   "execution_count": 46,
   "id": "9f482a1c-1a04-4faf-b0af-99ac70ff4e10",
   "metadata": {},
   "outputs": [
    {
     "data": {
      "text/html": [
       "<div>\n",
       "<style scoped>\n",
       "    .dataframe tbody tr th:only-of-type {\n",
       "        vertical-align: middle;\n",
       "    }\n",
       "\n",
       "    .dataframe tbody tr th {\n",
       "        vertical-align: top;\n",
       "    }\n",
       "\n",
       "    .dataframe thead th {\n",
       "        text-align: right;\n",
       "    }\n",
       "</style>\n",
       "<table border=\"1\" class=\"dataframe\">\n",
       "  <thead>\n",
       "    <tr style=\"text-align: right;\">\n",
       "      <th></th>\n",
       "      <th>data_district</th>\n",
       "      <th>data_street</th>\n",
       "      <th>data_rooms</th>\n",
       "      <th>data_cur_floor</th>\n",
       "      <th>data_max_floor</th>\n",
       "      <th>data_m2</th>\n",
       "      <th>data_seria</th>\n",
       "      <th>data_price</th>\n",
       "    </tr>\n",
       "  </thead>\n",
       "  <tbody>\n",
       "    <tr>\n",
       "      <th>0</th>\n",
       "      <td>Čiekurkalns</td>\n",
       "      <td>Rusova 28</td>\n",
       "      <td>1</td>\n",
       "      <td>5</td>\n",
       "      <td>5</td>\n",
       "      <td>43</td>\n",
       "      <td>M. ģim.</td>\n",
       "      <td>34000</td>\n",
       "    </tr>\n",
       "    <tr>\n",
       "      <th>1</th>\n",
       "      <td>Ķengarags</td>\n",
       "      <td>Maskavas 260</td>\n",
       "      <td>2</td>\n",
       "      <td>2</td>\n",
       "      <td>5</td>\n",
       "      <td>48</td>\n",
       "      <td>LT proj.</td>\n",
       "      <td>41000</td>\n",
       "    </tr>\n",
       "    <tr>\n",
       "      <th>2</th>\n",
       "      <td>Vecmīlgrāvis</td>\n",
       "      <td>Emmas 28</td>\n",
       "      <td>2</td>\n",
       "      <td>2</td>\n",
       "      <td>4</td>\n",
       "      <td>40</td>\n",
       "      <td>Renov.</td>\n",
       "      <td>48000</td>\n",
       "    </tr>\n",
       "    <tr>\n",
       "      <th>3</th>\n",
       "      <td>Vecmīlgrāvis</td>\n",
       "      <td>Emmas 28</td>\n",
       "      <td>2</td>\n",
       "      <td>3</td>\n",
       "      <td>4</td>\n",
       "      <td>33</td>\n",
       "      <td>Specpr.</td>\n",
       "      <td>38000</td>\n",
       "    </tr>\n",
       "    <tr>\n",
       "      <th>4</th>\n",
       "      <td>Purvciems</td>\n",
       "      <td>Staiceles 19</td>\n",
       "      <td>2</td>\n",
       "      <td>3</td>\n",
       "      <td>5</td>\n",
       "      <td>44</td>\n",
       "      <td>LT proj.</td>\n",
       "      <td>48000</td>\n",
       "    </tr>\n",
       "  </tbody>\n",
       "</table>\n",
       "</div>"
      ],
      "text/plain": [
       "  data_district   data_street  data_rooms  data_cur_floor  data_max_floor  \\\n",
       "0   Čiekurkalns     Rusova 28           1               5               5   \n",
       "1     Ķengarags  Maskavas 260           2               2               5   \n",
       "2  Vecmīlgrāvis      Emmas 28           2               2               4   \n",
       "3  Vecmīlgrāvis      Emmas 28           2               3               4   \n",
       "4     Purvciems  Staiceles 19           2               3               5   \n",
       "\n",
       "  data_m2 data_seria  data_price  \n",
       "0      43    M. ģim.       34000  \n",
       "1      48   LT proj.       41000  \n",
       "2      40     Renov.       48000  \n",
       "3      33    Specpr.       38000  \n",
       "4      44   LT proj.       48000  "
      ]
     },
     "execution_count": 46,
     "metadata": {},
     "output_type": "execute_result"
    }
   ],
   "source": [
    "df.head()"
   ]
  },
  {
   "cell_type": "markdown",
   "id": "85c18602-91af-45d1-9348-773242ed268c",
   "metadata": {},
   "source": [
    "# Variant 2"
   ]
  },
  {
   "cell_type": "markdown",
   "id": "d612b3da-3f9c-4c8b-b856-9d845834480a",
   "metadata": {},
   "source": [
    "Если перейти на каждое обьявление отдельно, то можно обнаружить дополнительную информацию, при построение моделей машинного обучения любая информация будет полезной, попробуем ее достать"
   ]
  },
  {
   "cell_type": "markdown",
   "id": "f0693902-5ce3-490e-a586-20aa7edee4d3",
   "metadata": {},
   "source": [
    "<img src=\"./pictures/8.png\"  \n",
    "  width=\"800\"\n",
    "/>"
   ]
  },
  {
   "cell_type": "markdown",
   "id": "a1c85605-1e32-4e4c-89ff-dc0842d505ba",
   "metadata": {},
   "source": [
    "в первую очередь необходимо обратить внимание на URL который ведет на эту страницу и сравнить их с парой других\n",
    "\n",
    "- https://www.ss.lv/msg/ru/real-estate/flats/riga/centre/eixne.html\n",
    "- https://www.ss.lv/msg/ru/real-estate/flats/riga/imanta/iddkc.html\n",
    "- https://www.ss.lv/msg/ru/real-estate/flats/riga/mezhapark/idogx.html"
   ]
  },
  {
   "cell_type": "markdown",
   "id": "e6abb34a-ea10-4389-b54b-e6fdea7ed5dd",
   "metadata": {},
   "source": [
    "страницы ка кмы видим не пронумерованы, и каждый район имеет свою директиву, перебирать все не имеет значения, мы заберем все ссылки напрямую."
   ]
  },
  {
   "cell_type": "code",
   "execution_count": 3,
   "id": "67442433-e7b8-4544-8c39-f31034ed3333",
   "metadata": {},
   "outputs": [],
   "source": [
    "URL_TEMPLATE = \"https://www.ss.lv/lv/real-estate/flats/riga/all/hand_over/\""
   ]
  },
  {
   "cell_type": "code",
   "execution_count": 4,
   "id": "1ac1de0f-f901-4ffa-af26-84c38c0e5caa",
   "metadata": {},
   "outputs": [
    {
     "name": "stdout",
     "output_type": "stream",
     "text": [
      "200\n"
     ]
    }
   ],
   "source": [
    "r = requests.get(URL_TEMPLATE)\n",
    "print(r.status_code)"
   ]
  },
  {
   "cell_type": "markdown",
   "id": "1ca60cb4-31cd-4027-aac7-f9ffd2903674",
   "metadata": {},
   "source": [
    "в этот раз будем искать ссылки, они имеют тег `a` и class `am`"
   ]
  },
  {
   "cell_type": "code",
   "execution_count": 5,
   "id": "5af1b1fb-bd04-4125-b6c6-12fa03b7b8a6",
   "metadata": {},
   "outputs": [],
   "source": [
    "soup = bs(r.text, \"html.parser\")\n",
    "parsed_data = soup.find_all('a', class_='am')"
   ]
  },
  {
   "cell_type": "code",
   "execution_count": 6,
   "id": "22f01d04-a9ee-443d-b2b0-8ee5ac7baff6",
   "metadata": {},
   "outputs": [
    {
     "data": {
      "text/plain": [
       "[<a class=\"am\" data=\"JTdDJThFJTg5JUE3JUFGeCVGMXN5JTkxJTg4JUE1JUFGJTdCJUFFc3YlODklOEIlQTglQUF3JUE1cnM=|CXXpzEuB\" href=\"/msg/lv/real-estate/flats/riga/sarkandaugava/cjigh.html\" id=\"dm_53863040\"><b>Сдаем 1 комнатную квартиру на длительный срок. 250€+ ком . услуг</b></a>,\n",
       " <a class=\"am\" data=\"bCU5RCU3RmglOUYlOEYlRUMlODV6JTkyaSU5NXlmJUEwJTkwJUE2JTg4JTdCJThBZCU5NndmJTk4|4dG6hXpTEZ\" href=\"/msg/lv/real-estate/flats/riga/kengarags/bxdkoe.html\" id=\"dm_53862994\">Līdz 2024. gada 30. aprīlim īrei tiek piedāvāts mēbelēts dzīvokl</a>]"
      ]
     },
     "execution_count": 6,
     "metadata": {},
     "output_type": "execute_result"
    }
   ],
   "source": [
    "parsed_data[:2]"
   ]
  },
  {
   "cell_type": "markdown",
   "id": "87c6e95b-af4b-449a-9fc1-64a3e96157aa",
   "metadata": {},
   "source": [
    "   "
   ]
  },
  {
   "cell_type": "markdown",
   "id": "6cc82c0c-24b9-44f1-b204-3f42fb8c2c4e",
   "metadata": {},
   "source": [
    "   "
   ]
  },
  {
   "cell_type": "markdown",
   "id": "f5bfbac0-9082-4441-8ad9-2e19272cf88e",
   "metadata": {},
   "source": [
    "интересующие нас данных хранятся в параметре `href`, этот параметр указывает назначение ссылки "
   ]
  },
  {
   "cell_type": "code",
   "execution_count": 7,
   "id": "13ad4b55-8675-4ad4-bd34-4fa31c709d2c",
   "metadata": {},
   "outputs": [
    {
     "data": {
      "text/plain": [
       "'/msg/lv/real-estate/flats/riga/sarkandaugava/cjigh.html'"
      ]
     },
     "execution_count": 7,
     "metadata": {},
     "output_type": "execute_result"
    }
   ],
   "source": [
    "parsed_data[0].get('href')"
   ]
  },
  {
   "cell_type": "markdown",
   "id": "c2794a9e-613a-4566-a386-c9cdc08c79b3",
   "metadata": {},
   "source": [
    "пришло время проапдейтить наш запрос и выгрузить все ссылки "
   ]
  },
  {
   "cell_type": "code",
   "execution_count": 8,
   "id": "5536125b-2aa7-4a34-a19f-84a0ffe479a1",
   "metadata": {},
   "outputs": [],
   "source": [
    "def get_link(link, time_sleep, page_num):\n",
    "    \n",
    "    time.sleep(time_sleep)\n",
    "    link = link + 'page' + str(page_num) + '.html'\n",
    "    r = requests.get(link)\n",
    "    \n",
    "    if r.status_code!=200:\n",
    "        return \n",
    "    \n",
    "    soup = bs(r.text, \"html.parser\")\n",
    "    parsed_data = soup.find_all('a', class_='am')\n",
    "    \n",
    "    pars_links = []\n",
    "    \n",
    "    for data in parsed_data:\n",
    "        pars_links.append(data.get('href'))\n",
    "        \n",
    "    return pars_links"
   ]
  },
  {
   "cell_type": "code",
   "execution_count": 9,
   "id": "961f3f2a-d42f-41ac-8b32-e4abb02e8452",
   "metadata": {},
   "outputs": [],
   "source": [
    "link_array = []\n",
    "URL_TEMPLATE = \"https://www.ss.lv/lv/real-estate/flats/riga/all/hand_over/\""
   ]
  },
  {
   "cell_type": "code",
   "execution_count": 12,
   "id": "43edc10b-ab9c-43e0-9202-143365d2ccaa",
   "metadata": {},
   "outputs": [
    {
     "data": {
      "application/vnd.jupyter.widget-view+json": {
       "model_id": "274191862df34e0fba08de5125f6a0f3",
       "version_major": 2,
       "version_minor": 0
      },
      "text/plain": [
       "  0%|          | 0/24 [00:00<?, ?it/s]"
      ]
     },
     "metadata": {},
     "output_type": "display_data"
    }
   ],
   "source": [
    "for i in tqdm(range(1,25)):\n",
    "    link_array = link_array + get_link(URL_TEMPLATE, 1, i)"
   ]
  },
  {
   "cell_type": "code",
   "execution_count": 13,
   "id": "07bfcb75-5b62-4f86-8d24-4958aa927016",
   "metadata": {},
   "outputs": [
    {
     "data": {
      "text/plain": [
       "['/msg/lv/real-estate/flats/riga/sarkandaugava/cjigh.html',\n",
       " '/msg/lv/real-estate/flats/riga/kengarags/bxdkoe.html',\n",
       " '/msg/lv/real-estate/flats/riga/imanta/egkmp.html',\n",
       " '/msg/lv/real-estate/flats/riga/mezhapark/chkjc.html',\n",
       " '/msg/lv/real-estate/flats/riga/yugla/hocbe.html',\n",
       " '/msg/lv/real-estate/flats/riga/krasta-st-area/dfxln.html',\n",
       " '/msg/lv/real-estate/flats/riga/aplokciems/cxchxc.html',\n",
       " '/msg/lv/real-estate/flats/riga/aplokciems/cbefoj.html',\n",
       " '/msg/lv/real-estate/flats/riga/aplokciems/kefcj.html',\n",
       " '/msg/lv/real-estate/flats/riga/agenskalns/bihhb.html']"
      ]
     },
     "execution_count": 13,
     "metadata": {},
     "output_type": "execute_result"
    }
   ],
   "source": [
    "link_array[:10]"
   ]
  },
  {
   "cell_type": "markdown",
   "id": "88693f3a-4be8-4ab6-9759-4a7bfaca7d6e",
   "metadata": {},
   "source": [
    "Теперь осталось повторить операцию выше для каждой страницы, посмотрим как будет выглядеть парсер одной страницы"
   ]
  },
  {
   "cell_type": "code",
   "execution_count": 14,
   "id": "2b95d3a2-ca62-4342-bc58-1ab393d92f4c",
   "metadata": {},
   "outputs": [],
   "source": [
    "# обратите внимание, от нашего URL остался только домен, остальное мы будет добавлять из сохраненных ссылок\n",
    "URL_TEMPLATE = \"https://www.ss.lv\""
   ]
  },
  {
   "cell_type": "code",
   "execution_count": 15,
   "id": "7259bc19-06d1-486f-931f-535bb67ef434",
   "metadata": {},
   "outputs": [],
   "source": [
    "URL_TEMPLATE += link_array[0]"
   ]
  },
  {
   "cell_type": "code",
   "execution_count": 16,
   "id": "41b40901-c5df-4634-9021-8dc45de64919",
   "metadata": {},
   "outputs": [
    {
     "name": "stdout",
     "output_type": "stream",
     "text": [
      "Error status 200\n"
     ]
    }
   ],
   "source": [
    "r = requests.get(URL_TEMPLATE)\n",
    "print('Error status', r.status_code)"
   ]
  },
  {
   "cell_type": "code",
   "execution_count": 17,
   "id": "0a5a89f9-cfd5-468b-b3e8-8ddc872cbbae",
   "metadata": {},
   "outputs": [],
   "source": [
    "soup = bs(r.text, \"html.parser\")\n",
    "# parsed_data = soup.find_all('td', class_='msga2-o pp6')"
   ]
  },
  {
   "cell_type": "code",
   "execution_count": 18,
   "id": "df8a826c-2297-4794-8ad4-22de58998b0f",
   "metadata": {},
   "outputs": [
    {
     "data": {
      "text/plain": [
       "[<td class=\"ads_opt\" id=\"tdo_20\" nowrap=\"\"><b>Rīga</b></td>,\n",
       " <td class=\"ads_opt\" id=\"tdo_856\" nowrap=\"\"><b>Sarkandaugava</b></td>,\n",
       " <td class=\"ads_opt\" id=\"tdo_11\" nowrap=\"\"><b>Hāpsalas 15</b> <span class=\"td15\">[<a class=\"ads_opt_link_map\" href=\"javascript:;\" id=\"mnu_map\" onclick=\"mnu('map',1,1,'/lv/gmap/fTgTeF4QAzt4FD4eFFM=.html?mode=1&amp;c=57.0020819, 24.1207736, 14');return false;\">Karte</a>]</span></td>,\n",
       " <td class=\"ads_opt\" id=\"tdo_1\" nowrap=\"\">1</td>,\n",
       " <td class=\"ads_opt\" id=\"tdo_3\" nowrap=\"\">48 m²</td>,\n",
       " <td class=\"ads_opt\" id=\"tdo_4\" nowrap=\"\">5/9</td>,\n",
       " <td class=\"ads_opt\" id=\"tdo_6\" nowrap=\"\">Specpr.</td>,\n",
       " <td class=\"ads_opt\" id=\"tdo_2\" nowrap=\"\">Ķieģeļu-paneļu</td>,\n",
       " <td class=\"ads_opt\" id=\"tdo_1734\" nowrap=\"\">Terase</td>]"
      ]
     },
     "execution_count": 18,
     "metadata": {},
     "output_type": "execute_result"
    }
   ],
   "source": [
    "parsed_data = soup.find_all('td', class_='ads_opt')\n",
    "parsed_data"
   ]
  },
  {
   "cell_type": "code",
   "execution_count": 19,
   "id": "e6923c54-0bcd-4193-b46c-624dbe15dac3",
   "metadata": {},
   "outputs": [
    {
     "name": "stdout",
     "output_type": "stream",
     "text": [
      "Rīga\n",
      "Sarkandaugava\n",
      "Hāpsalas 15| |[|Karte|]\n",
      "1\n",
      "48 m²\n",
      "5/9\n",
      "Specpr.\n",
      "Ķieģeļu-paneļu\n",
      "Terase\n"
     ]
    }
   ],
   "source": [
    "# все данные получили\n",
    "for i in parsed_data:\n",
    "    print(i.get_text(\"|\"))"
   ]
  },
  {
   "cell_type": "code",
   "execution_count": 20,
   "id": "52651a27-c3cd-4e01-b37f-ff7508160493",
   "metadata": {},
   "outputs": [
    {
     "name": "stdout",
     "output_type": "stream",
     "text": [
      "mnu('map',1,1,'/lv/gmap/fTgTeF4QAzt4FD4eFFM=.html?mode=1&c=57.0020819, 24.1207736, 14');return false;\n"
     ]
    }
   ],
   "source": [
    "# теперь попробуем достать карту \n",
    "parsed_map = soup.find_all('a', class_='ads_opt_link_map')\n",
    "print(parsed_map[0]['onclick'])"
   ]
  },
  {
   "cell_type": "code",
   "execution_count": 21,
   "id": "5f390fb2-ea0b-4482-8f72-94322142aa0f",
   "metadata": {},
   "outputs": [
    {
     "data": {
      "text/plain": [
       "'\\n | \\r\\n\\r\\nСдаем 1 комнатную квартиру на длительный срок. 250€+ ком . услуги.  | \\r\\nIzīrējam dzīvokli uz ilgu laiku. 250€+kom. maksājumi. | Pilsēta: | Rīga | Rajons: | Sarkandaugava | Iela: | Hāpsalas 15 |   | [ | Karte | ] | Istabas: | 1 | Platība: | 48 m² | Stāvs: | 5/9 | Sērija: | Specpr. | Mājas tips: | Ķieģeļu-paneļu | Ērtības: | Terase | Cena: | 250 €/mēn. (5.21 €/m²)'"
      ]
     },
     "execution_count": 21,
     "metadata": {},
     "output_type": "execute_result"
    }
   ],
   "source": [
    "# и тогда достанем и описание апартаментов \n",
    "parsed_text = soup.find_all('div', id='msg_div_msg')\n",
    "parsed_text[0].get_text(\" | \")\n",
    "\n",
    "# обратите внимание, что в контейнере id=msg_div_msg захватывает и данные по атрибутам которые мы уже взяли, \n",
    "# это связано с принципом вложенности, в данном контейнере и находяться наши теги td"
   ]
  },
  {
   "cell_type": "code",
   "execution_count": 22,
   "id": "dbf2dbe5-1538-4f4e-9229-05c5d8e50169",
   "metadata": {},
   "outputs": [
    {
     "data": {
      "text/plain": [
       "'250 €/mēn. (5.21 €/m²)'"
      ]
     },
     "execution_count": 22,
     "metadata": {},
     "output_type": "execute_result"
    }
   ],
   "source": [
    "# и как же без цены\n",
    "parsed_price = soup.find_all('td', class_='ads_price')\n",
    "parsed_price[0].get_text()"
   ]
  },
  {
   "cell_type": "markdown",
   "id": "7bb448a5-7cc5-4eaf-9bc6-a41892f42e57",
   "metadata": {},
   "source": [
    "## update script"
   ]
  },
  {
   "cell_type": "code",
   "execution_count": 291,
   "id": "bbff725f-4587-40b4-936a-bea4dc90703c",
   "metadata": {},
   "outputs": [],
   "source": [
    "# по традиции что выполняется больше 1го раза мы пишем в функцию. \n",
    "# напишем функцию в которую мы будем передавать ссылку. а все данные в ввиде массива будут приходить ответом "
   ]
  },
  {
   "cell_type": "code",
   "execution_count": 23,
   "id": "0e61c30e-b7c3-443b-a437-f266824e07e4",
   "metadata": {},
   "outputs": [],
   "source": [
    "def get_data_link(url, time_sleep):\n",
    "    \n",
    "    page_array = []\n",
    "    time.sleep(time_sleep)\n",
    "    \n",
    "    # добавляем к существующему домену\n",
    "    link = \"https://www.ss.lv\"\n",
    "    link += url\n",
    "    \n",
    "    r = requests.get(link)\n",
    "    if r.status_code!=200:\n",
    "        return \n",
    "    \n",
    "    soup = bs(r.text, \"html.parser\")\n",
    "        \n",
    "    # данные \n",
    "    parsed_data = soup.find_all('td', class_='ads_opt')   \n",
    "    # координаты\n",
    "    parsed_map = soup.find_all('a', class_='ads_opt_link_map')   \n",
    "        \n",
    "    # цена\n",
    "    parsed_price = soup.find_all('td', class_='ads_price')    \n",
    "    # описание \n",
    "    parsed_text = soup.find_all('div', id='msg_div_msg')\n",
    "    \n",
    "    \n",
    "    for data in parsed_data:\n",
    "        page_array.append(data.get_text(\"|\"))\n",
    "\n",
    "    if len(parsed_map)==1:\n",
    "        page_array.append(parsed_map[0]['onclick'])\n",
    "    else:\n",
    "        page_array.append('')\n",
    "    \n",
    "    page_array.append(parsed_price[0].get_text())       \n",
    "    page_array.append(parsed_text[0].get_text(\" | \"))\n",
    "    \n",
    "    return page_array"
   ]
  },
  {
   "cell_type": "code",
   "execution_count": 24,
   "id": "69de9c3a-dddf-4684-abff-a40eb398a276",
   "metadata": {},
   "outputs": [],
   "source": [
    "# data_array = []\n",
    "\n",
    "# data_array.append(get_data_link(link_array[447], 1))"
   ]
  },
  {
   "cell_type": "code",
   "execution_count": 25,
   "id": "c062ecab-15a6-4d87-b89f-3d41822b3d84",
   "metadata": {},
   "outputs": [],
   "source": [
    "# data_array"
   ]
  },
  {
   "cell_type": "code",
   "execution_count": 26,
   "id": "bc42a8d7-61b3-467a-a257-50d2b9f8085e",
   "metadata": {},
   "outputs": [
    {
     "data": {
      "application/vnd.jupyter.widget-view+json": {
       "model_id": "f528a083304c437388f248c046773860",
       "version_major": 2,
       "version_minor": 0
      },
      "text/plain": [
       "  0%|          | 0/720 [00:00<?, ?it/s]"
      ]
     },
     "metadata": {},
     "output_type": "display_data"
    }
   ],
   "source": [
    "# запишем все данные \n",
    "data_array = []\n",
    "\n",
    "for links in tqdm(link_array):\n",
    "    # у нас будет 1470 запросов. довольно много, иногда лучше увеличить время ожидания, чем поймать бан \n",
    "    # в нашем случае парсинг + выгрузка (с тайм аутом) занимают ~1,8 сек, этого обычно достаточно достаточно\n",
    "    # из опыта могу сказать что в среднем устанавливают до 500 итераций в минуту или 8.3 в секунду\n",
    "    data_array.append(get_data_link(links, 0.25))"
   ]
  },
  {
   "cell_type": "code",
   "execution_count": 33,
   "id": "246c4af1-3f90-466a-9ad7-0220bf9fe898",
   "metadata": {},
   "outputs": [],
   "source": [
    "# в части данных присутсвует дополнительное поле \"удобства\", добавим строку для формирования df \n",
    "# в части данных присутсвует дополнительное поле \"Kadastra numurs\", добавим строку для формирования df \n",
    "data_array_upd = []\n",
    "for i in data_array:\n",
    "    if len(i)==11:\n",
    "        i.insert(8, '').insert(9, '')\n",
    "    if len(i)==12:\n",
    "        i.insert(8, '')\n",
    "    data_array_upd.append(i)"
   ]
  },
  {
   "cell_type": "code",
   "execution_count": 138,
   "id": "0b26c3be-44fd-4778-894f-82540a8edbfe",
   "metadata": {},
   "outputs": [],
   "source": [
    "df = pd.DataFrame(data_array, columns=['city', 'district','street','rooms','area','floor','seria','house_type','kadastr_numb','facilities', 'map','price','all_data'])"
   ]
  },
  {
   "cell_type": "code",
   "execution_count": 139,
   "id": "8dea4e1f-70b1-44e1-8666-9fa2715cf098",
   "metadata": {},
   "outputs": [
    {
     "data": {
      "text/html": [
       "<div>\n",
       "<style scoped>\n",
       "    .dataframe tbody tr th:only-of-type {\n",
       "        vertical-align: middle;\n",
       "    }\n",
       "\n",
       "    .dataframe tbody tr th {\n",
       "        vertical-align: top;\n",
       "    }\n",
       "\n",
       "    .dataframe thead th {\n",
       "        text-align: right;\n",
       "    }\n",
       "</style>\n",
       "<table border=\"1\" class=\"dataframe\">\n",
       "  <thead>\n",
       "    <tr style=\"text-align: right;\">\n",
       "      <th></th>\n",
       "      <th>city</th>\n",
       "      <th>district</th>\n",
       "      <th>street</th>\n",
       "      <th>rooms</th>\n",
       "      <th>area</th>\n",
       "      <th>floor</th>\n",
       "      <th>seria</th>\n",
       "      <th>house_type</th>\n",
       "      <th>kadastr_numb</th>\n",
       "      <th>facilities</th>\n",
       "      <th>map</th>\n",
       "      <th>price</th>\n",
       "      <th>all_data</th>\n",
       "    </tr>\n",
       "  </thead>\n",
       "  <tbody>\n",
       "    <tr>\n",
       "      <th>692</th>\n",
       "      <td>Rīga</td>\n",
       "      <td>Ķengarags</td>\n",
       "      <td>J. Rancāna 10| |[|Karte|]</td>\n",
       "      <td>3</td>\n",
       "      <td>59 m²</td>\n",
       "      <td>1/5</td>\n",
       "      <td>LT proj.</td>\n",
       "      <td>Paneļu</td>\n",
       "      <td>01000782211</td>\n",
       "      <td>Parkošanas vieta</td>\n",
       "      <td>mnu('map',1,1,'/lv/gmap/fTgTeF4QAzt4FD4eFFM=.h...</td>\n",
       "      <td>400 €/mēn. (6.78 €/m²)</td>\n",
       "      <td>\\n | \\r\\n\\r\\nIlgtermiņā izīrēju trīsistabu mēb...</td>\n",
       "    </tr>\n",
       "    <tr>\n",
       "      <th>79</th>\n",
       "      <td>Rīga</td>\n",
       "      <td>Āgenskalns</td>\n",
       "      <td>Dreiliņu 20| |[|Karte|]</td>\n",
       "      <td>1</td>\n",
       "      <td>30 m²</td>\n",
       "      <td>3/5</td>\n",
       "      <td>Hrušč.</td>\n",
       "      <td>Ķieģeļu</td>\n",
       "      <td></td>\n",
       "      <td></td>\n",
       "      <td>mnu('map',1,1,'/lv/gmap/fTgTeF4QAzt4FD4eFFM=.h...</td>\n",
       "      <td>200 €/mēn. (6.67 €/m²)</td>\n",
       "      <td>\\n | \\r\\n\\r\\nDzīvoklis labā stāvoklī, silts, m...</td>\n",
       "    </tr>\n",
       "  </tbody>\n",
       "</table>\n",
       "</div>"
      ],
      "text/plain": [
       "     city    district                     street rooms   area floor     seria  \\\n",
       "692  Rīga   Ķengarags  J. Rancāna 10| |[|Karte|]     3  59 m²   1/5  LT proj.   \n",
       "79   Rīga  Āgenskalns    Dreiliņu 20| |[|Karte|]     1  30 m²   3/5    Hrušč.   \n",
       "\n",
       "    house_type kadastr_numb        facilities  \\\n",
       "692     Paneļu  01000782211  Parkošanas vieta   \n",
       "79     Ķieģeļu                                  \n",
       "\n",
       "                                                   map  \\\n",
       "692  mnu('map',1,1,'/lv/gmap/fTgTeF4QAzt4FD4eFFM=.h...   \n",
       "79   mnu('map',1,1,'/lv/gmap/fTgTeF4QAzt4FD4eFFM=.h...   \n",
       "\n",
       "                      price                                           all_data  \n",
       "692  400 €/mēn. (6.78 €/m²)  \\n | \\r\\n\\r\\nIlgtermiņā izīrēju trīsistabu mēb...  \n",
       "79   200 €/mēn. (6.67 €/m²)  \\n | \\r\\n\\r\\nDzīvoklis labā stāvoklī, silts, m...  "
      ]
     },
     "execution_count": 139,
     "metadata": {},
     "output_type": "execute_result"
    }
   ],
   "source": [
    "df.sample(2)"
   ]
  },
  {
   "cell_type": "code",
   "execution_count": 140,
   "id": "df499548-f1ea-426a-be7d-cd9c871103e9",
   "metadata": {},
   "outputs": [],
   "source": [
    "# преступим к очистке данных"
   ]
  },
  {
   "cell_type": "code",
   "execution_count": 141,
   "id": "4251566f-f376-46dd-ba2d-d125b83871cd",
   "metadata": {},
   "outputs": [
    {
     "data": {
      "text/plain": [
       "array(['Rīga'], dtype=object)"
      ]
     },
     "execution_count": 141,
     "metadata": {},
     "output_type": "execute_result"
    }
   ],
   "source": [
    "df['city'].unique()"
   ]
  },
  {
   "cell_type": "code",
   "execution_count": 142,
   "id": "5fb501db-4fae-436c-b38c-12a6ee4a5ee5",
   "metadata": {},
   "outputs": [
    {
     "data": {
      "text/plain": [
       "array(['Sarkandaugava', 'Ķengarags', 'Imanta', 'Mežaparks', 'Jugla',\n",
       "       'Krasta r-ns', 'Aplokciems', 'Āgenskalns', 'Pļavnieki',\n",
       "       'Mangaļsala', 'Mežciems', 'Zolitūde', 'Ziepniekkalns', 'centrs',\n",
       "       'Teika', 'Purvciems', 'Maskavas priekšpilsēta', 'Torņakalns',\n",
       "       'Dārzciems', 'Vecāķi', 'Mangaļi', 'Dreiliņi', 'Jaunciems',\n",
       "       'Vecrīga', 'Bolderāja', 'Bieriņi', 'Šķirotava', 'Čiekurkalns',\n",
       "       'Iļģuciems', 'Šampēteris-Pleskodāle', 'Klīversala', 'Vecmīlgrāvis',\n",
       "       'Dzegužkalns', 'Cits', 'Ķīpsala', 'Kundziņsala', 'Grīziņkalns',\n",
       "       'Daugavgrīva'], dtype=object)"
      ]
     },
     "execution_count": 142,
     "metadata": {},
     "output_type": "execute_result"
    }
   ],
   "source": [
    "df['district'].unique()"
   ]
  },
  {
   "cell_type": "code",
   "execution_count": 143,
   "id": "57050feb-bdf2-4918-8557-e62b7095c5df",
   "metadata": {},
   "outputs": [],
   "source": [
    "df[['data_street', 'map_link']] = df['street'].str.split(pat='|', n=1 , expand=True )"
   ]
  },
  {
   "cell_type": "code",
   "execution_count": 144,
   "id": "377e4a52-431f-4657-9b51-9f557665e4a5",
   "metadata": {},
   "outputs": [],
   "source": [
    "df = df.drop(['city','map_link','street','kadastr_numb'], axis=1)"
   ]
  },
  {
   "cell_type": "code",
   "execution_count": 145,
   "id": "38e76b73-5b59-4b40-b5cf-2273d384c437",
   "metadata": {},
   "outputs": [],
   "source": [
    "df[['cur_floor', 'max_floor']] = df['floor'].str.split(pat='/', n=1 , expand=True )"
   ]
  },
  {
   "cell_type": "code",
   "execution_count": 146,
   "id": "1e1334ed-879e-4cc1-81ff-283f8e0f5d88",
   "metadata": {},
   "outputs": [],
   "source": [
    "df = df.drop(['floor'], axis=1)"
   ]
  },
  {
   "cell_type": "code",
   "execution_count": 147,
   "id": "faf12933-35bd-4027-9891-9fb20c77dd40",
   "metadata": {},
   "outputs": [],
   "source": [
    "def get_cord(row):\n",
    "    # ищем стартовую точку \n",
    "    point_start = row['map'].find('c=') + 2\n",
    "    \n",
    "    first_coma = row['map'][point_start:].find(',') + 1\n",
    "    second_coma = row['map'][point_start+first_coma:].find(',')\n",
    "    \n",
    "    cord = row['map'][point_start:point_start+first_coma+second_coma]\n",
    "    \n",
    "    return cord    "
   ]
  },
  {
   "cell_type": "code",
   "execution_count": 148,
   "id": "0feecee0-37cf-4dad-9109-7f9ad3227e53",
   "metadata": {},
   "outputs": [],
   "source": [
    "df['cord_map'] = df.apply(get_cord, axis=1)"
   ]
  },
  {
   "cell_type": "code",
   "execution_count": 149,
   "id": "96ae95bf-b3dc-4e1c-8dc3-df8fa99a165a",
   "metadata": {},
   "outputs": [],
   "source": [
    "df[['len', 'lon']] = df['cord_map'].str.split(pat=',', n=1 , expand=True )\n",
    "df = df.drop(['cord_map'], axis=1)\n",
    "df = df.drop(['map'], axis=1)"
   ]
  },
  {
   "cell_type": "code",
   "execution_count": 150,
   "id": "cc0fb3f3-bcd7-4298-aace-4bef91a30f84",
   "metadata": {},
   "outputs": [],
   "source": [
    "df['area'] = df['area'].apply(lambda x: x.replace(' m²',''))"
   ]
  },
  {
   "cell_type": "code",
   "execution_count": 151,
   "id": "bb57d4a9-767e-4520-aee7-33902deedb6e",
   "metadata": {},
   "outputs": [],
   "source": [
    "df[['price_eur', 'else_price']] = df['price'].str.split(pat='(', n=1 , expand=True )"
   ]
  },
  {
   "cell_type": "code",
   "execution_count": 152,
   "id": "ce8cfdf5-1316-4348-ba0a-85b1910e93cb",
   "metadata": {},
   "outputs": [],
   "source": [
    "df = df.drop(['price','else_price'], axis=1)"
   ]
  },
  {
   "cell_type": "code",
   "execution_count": 153,
   "id": "9c545d77-ca96-44b1-9869-8d56959e9914",
   "metadata": {},
   "outputs": [
    {
     "data": {
      "text/plain": [
       "array(['9', '12/lifts', '5', '3/lifts', '2', '9/lifts', '4/lifts', '6',\n",
       "       '4', '3', '24/lifts', '5/lifts', '6/lifts', '7/lifts', '10/lifts',\n",
       "       '1', '8/lifts', '25/lifts', '7', '16/lifts', '11/lifts', '26',\n",
       "       '12', '24', '14/lifts', '23/lifts', '13/lifts', '23', '30/lifts',\n",
       "       '16', '30'], dtype=object)"
      ]
     },
     "execution_count": 153,
     "metadata": {},
     "output_type": "execute_result"
    }
   ],
   "source": [
    "df['max_floor'].unique()"
   ]
  },
  {
   "cell_type": "code",
   "execution_count": 154,
   "id": "2a39acb9-dc1b-4220-8303-2e4d80309570",
   "metadata": {},
   "outputs": [],
   "source": [
    "df[['total_floor', 'lift']] = df['max_floor'].str.split(pat='/', n=1 , expand=True )\n",
    "df = df.drop(['max_floor'], axis=1)"
   ]
  },
  {
   "cell_type": "code",
   "execution_count": 155,
   "id": "6c391730-fff9-4026-8868-1ba572ae225b",
   "metadata": {},
   "outputs": [],
   "source": [
    "df[['price', 'currency']] = df['price_eur'].str.split(pat=' €/', n=1 , expand=True )"
   ]
  },
  {
   "cell_type": "code",
   "execution_count": 156,
   "id": "ecb88dbe-4f67-4a11-a452-3e7dd59686f9",
   "metadata": {},
   "outputs": [],
   "source": [
    "df = df.drop(['price_eur'], axis=1)"
   ]
  },
  {
   "cell_type": "code",
   "execution_count": 157,
   "id": "88090d56-418e-4a01-ae88-468c118a9c81",
   "metadata": {},
   "outputs": [],
   "source": [
    "df['price'] = df['price'].apply(lambda x: x.replace(' ',''))"
   ]
  },
  {
   "cell_type": "code",
   "execution_count": 158,
   "id": "d759df78-5a0c-4e83-96b8-bec3f61d998d",
   "metadata": {},
   "outputs": [],
   "source": [
    "df['lon'] = df['lon'].fillna('-1')\n",
    "df['len'] = df['len'].fillna('-1')\n",
    "\n",
    "df.loc[df['len']=='', 'len'] = '-1'\n",
    "df.loc[df['lon']=='', 'lon'] = '-1'"
   ]
  },
  {
   "cell_type": "code",
   "execution_count": 159,
   "id": "4c5cf334-6789-48b1-8f5c-abcf326af431",
   "metadata": {
    "tags": []
   },
   "outputs": [],
   "source": [
    "df['len'] = df['len'].apply(lambda x: x.replace(' ',''))\n",
    "df['lon'] = df['lon'].apply(lambda x: x.replace(' ',''))"
   ]
  },
  {
   "cell_type": "code",
   "execution_count": 160,
   "id": "ae7f63a7-b275-4871-82d8-98448433ad18",
   "metadata": {},
   "outputs": [],
   "source": [
    "df = df[['district','data_street','rooms','area','price','cur_floor','total_floor', 'lift', 'seria','house_type','facilities','len','lon','all_data']]"
   ]
  },
  {
   "cell_type": "code",
   "execution_count": 161,
   "id": "8a6f12f5-0e72-47ab-8f62-ad1ba1967c19",
   "metadata": {},
   "outputs": [],
   "source": [
    "df['rooms'] = df['rooms'].astype('int64')\n",
    "df['area'] = df['area'].astype('float64')\n",
    "df['price'] = df['price'].astype('int64')\n",
    "df['cur_floor'] = df['cur_floor'].astype('int64')\n",
    "df['total_floor'] = df['total_floor'].astype('int64')\n",
    "df['len'] = df['len'].astype('float64')\n",
    "df['lon'] = df['lon'].astype('float64')"
   ]
  },
  {
   "cell_type": "code",
   "execution_count": 162,
   "id": "e6e672b3-2ac2-43c1-b044-65344beb930e",
   "metadata": {},
   "outputs": [],
   "source": [
    "df_all_data = df['all_data']"
   ]
  },
  {
   "cell_type": "code",
   "execution_count": 163,
   "id": "146d8e00-f470-473d-857e-b4237cf9076a",
   "metadata": {},
   "outputs": [],
   "source": [
    "df = df.drop(['all_data'], axis=1)"
   ]
  },
  {
   "cell_type": "code",
   "execution_count": 164,
   "id": "28c2e0a3-86d3-4209-90a1-88e6906369e9",
   "metadata": {},
   "outputs": [
    {
     "data": {
      "text/plain": [
       "array(['Terase', '', 'Terase, Parkošanas vieta', 'Lodžija',\n",
       "       'Lodžija, Parkošanas vieta', 'Parkošanas vieta', 'Balkons',\n",
       "       'Balkons, Lodžija, Terase', '01009250575',\n",
       "       'Pirts, Parkošanas vieta', 'Balkons, Parkošanas vieta',\n",
       "       'Balkons, Lodžija', '111', 'Balkons, Lodžija, Parkošanas vieta',\n",
       "       '01009282776', 'Balkons, Lodžija, Terase, Parkošanas vieta',\n",
       "       'Balkons, Terase, Parkošanas vieta',\n",
       "       'Lodžija, Terase, Parkošanas vieta', 'Lodžija, Terase', '6745312',\n",
       "       'Terase, Pirts'], dtype=object)"
      ]
     },
     "execution_count": 164,
     "metadata": {},
     "output_type": "execute_result"
    }
   ],
   "source": [
    "df['facilities'].unique()"
   ]
  },
  {
   "cell_type": "code",
   "execution_count": 170,
   "id": "a51e71c7-8188-4113-baf1-44706de3a64e",
   "metadata": {},
   "outputs": [],
   "source": [
    "arr_facilities = ['Terase', 'Terase, Parkošanas vieta', 'Lodžija',\n",
    "       'Lodžija, Parkošanas vieta', 'Parkošanas vieta', 'Balkons',\n",
    "       'Balkons, Lodžija, Terase',\n",
    "       'Pirts, Parkošanas vieta', 'Balkons, Parkošanas vieta',\n",
    "       'Balkons, Lodžija', 'Balkons, Lodžija, Parkošanas vieta',\n",
    "       'Balkons, Lodžija, Terase, Parkošanas vieta',\n",
    "       'Balkons, Terase, Parkošanas vieta',\n",
    "       'Lodžija, Terase, Parkošanas vieta', 'Lodžija, Terase',\n",
    "       'Terase, Pirts']"
   ]
  },
  {
   "cell_type": "code",
   "execution_count": 168,
   "id": "1000b4a3-b937-4511-b2a1-da2558b8d9f3",
   "metadata": {},
   "outputs": [],
   "source": [
    "df['lift'] = np.where(df['lift']=='lifts',1,0)"
   ]
  },
  {
   "cell_type": "code",
   "execution_count": 171,
   "id": "6cbbb4de-220f-4b40-9efe-ea880cb23c39",
   "metadata": {},
   "outputs": [],
   "source": [
    "df['facilities'] = np.where(df['facilities'].isin(arr_facilities),df['facilities'],'')"
   ]
  },
  {
   "cell_type": "code",
   "execution_count": 172,
   "id": "1daae7b8-3d0f-44f7-8ff3-77df01d86350",
   "metadata": {},
   "outputs": [
    {
     "data": {
      "text/html": [
       "<div>\n",
       "<style scoped>\n",
       "    .dataframe tbody tr th:only-of-type {\n",
       "        vertical-align: middle;\n",
       "    }\n",
       "\n",
       "    .dataframe tbody tr th {\n",
       "        vertical-align: top;\n",
       "    }\n",
       "\n",
       "    .dataframe thead th {\n",
       "        text-align: right;\n",
       "    }\n",
       "</style>\n",
       "<table border=\"1\" class=\"dataframe\">\n",
       "  <thead>\n",
       "    <tr style=\"text-align: right;\">\n",
       "      <th></th>\n",
       "      <th>district</th>\n",
       "      <th>data_street</th>\n",
       "      <th>rooms</th>\n",
       "      <th>area</th>\n",
       "      <th>price</th>\n",
       "      <th>cur_floor</th>\n",
       "      <th>total_floor</th>\n",
       "      <th>lift</th>\n",
       "      <th>seria</th>\n",
       "      <th>house_type</th>\n",
       "      <th>facilities</th>\n",
       "      <th>len</th>\n",
       "      <th>lon</th>\n",
       "    </tr>\n",
       "  </thead>\n",
       "  <tbody>\n",
       "    <tr>\n",
       "      <th>0</th>\n",
       "      <td>Sarkandaugava</td>\n",
       "      <td>Hāpsalas 15</td>\n",
       "      <td>1</td>\n",
       "      <td>48.0</td>\n",
       "      <td>250</td>\n",
       "      <td>5</td>\n",
       "      <td>9</td>\n",
       "      <td>0</td>\n",
       "      <td>Specpr.</td>\n",
       "      <td>Ķieģeļu-paneļu</td>\n",
       "      <td>Terase</td>\n",
       "      <td>57.002082</td>\n",
       "      <td>24.120774</td>\n",
       "    </tr>\n",
       "    <tr>\n",
       "      <th>1</th>\n",
       "      <td>Ķengarags</td>\n",
       "      <td>Aviācijas 2e</td>\n",
       "      <td>1</td>\n",
       "      <td>33.0</td>\n",
       "      <td>230</td>\n",
       "      <td>5</td>\n",
       "      <td>12</td>\n",
       "      <td>1</td>\n",
       "      <td>Čehu pr.</td>\n",
       "      <td>Ķieģeļu-paneļu</td>\n",
       "      <td></td>\n",
       "      <td>56.903375</td>\n",
       "      <td>24.200309</td>\n",
       "    </tr>\n",
       "    <tr>\n",
       "      <th>2</th>\n",
       "      <td>Imanta</td>\n",
       "      <td>Dubultu 21</td>\n",
       "      <td>1</td>\n",
       "      <td>27.0</td>\n",
       "      <td>190</td>\n",
       "      <td>5</td>\n",
       "      <td>5</td>\n",
       "      <td>0</td>\n",
       "      <td>LT proj.</td>\n",
       "      <td>Paneļu</td>\n",
       "      <td></td>\n",
       "      <td>56.956592</td>\n",
       "      <td>24.004457</td>\n",
       "    </tr>\n",
       "    <tr>\n",
       "      <th>3</th>\n",
       "      <td>Mežaparks</td>\n",
       "      <td>Visbijas pr. 45</td>\n",
       "      <td>3</td>\n",
       "      <td>95.0</td>\n",
       "      <td>1400</td>\n",
       "      <td>2</td>\n",
       "      <td>3</td>\n",
       "      <td>1</td>\n",
       "      <td>Jaun.</td>\n",
       "      <td>Paneļu</td>\n",
       "      <td>Terase, Parkošanas vieta</td>\n",
       "      <td>56.995671</td>\n",
       "      <td>24.145585</td>\n",
       "    </tr>\n",
       "    <tr>\n",
       "      <th>4</th>\n",
       "      <td>Jugla</td>\n",
       "      <td>Brīvības gatve 365a</td>\n",
       "      <td>1</td>\n",
       "      <td>41.0</td>\n",
       "      <td>440</td>\n",
       "      <td>1</td>\n",
       "      <td>2</td>\n",
       "      <td>0</td>\n",
       "      <td>Staļina</td>\n",
       "      <td>Mūra</td>\n",
       "      <td></td>\n",
       "      <td>56.987076</td>\n",
       "      <td>24.219233</td>\n",
       "    </tr>\n",
       "  </tbody>\n",
       "</table>\n",
       "</div>"
      ],
      "text/plain": [
       "        district          data_street  rooms  area  price  cur_floor  \\\n",
       "0  Sarkandaugava          Hāpsalas 15      1  48.0    250          5   \n",
       "1      Ķengarags         Aviācijas 2e      1  33.0    230          5   \n",
       "2         Imanta           Dubultu 21      1  27.0    190          5   \n",
       "3      Mežaparks      Visbijas pr. 45      3  95.0   1400          2   \n",
       "4          Jugla  Brīvības gatve 365a      1  41.0    440          1   \n",
       "\n",
       "   total_floor  lift     seria      house_type                facilities  \\\n",
       "0            9     0   Specpr.  Ķieģeļu-paneļu                    Terase   \n",
       "1           12     1  Čehu pr.  Ķieģeļu-paneļu                             \n",
       "2            5     0  LT proj.          Paneļu                             \n",
       "3            3     1     Jaun.          Paneļu  Terase, Parkošanas vieta   \n",
       "4            2     0   Staļina            Mūra                             \n",
       "\n",
       "         len        lon  \n",
       "0  57.002082  24.120774  \n",
       "1  56.903375  24.200309  \n",
       "2  56.956592  24.004457  \n",
       "3  56.995671  24.145585  \n",
       "4  56.987076  24.219233  "
      ]
     },
     "execution_count": 172,
     "metadata": {},
     "output_type": "execute_result"
    }
   ],
   "source": [
    "df.head()"
   ]
  },
  {
   "cell_type": "code",
   "execution_count": null,
   "id": "83be652c-d5bb-482b-bbcb-ab3b437b5cec",
   "metadata": {},
   "outputs": [],
   "source": []
  }
 ],
 "metadata": {
  "kernelspec": {
   "display_name": "Python 3 (ipykernel)",
   "language": "python",
   "name": "python3"
  },
  "language_info": {
   "codemirror_mode": {
    "name": "ipython",
    "version": 3
   },
   "file_extension": ".py",
   "mimetype": "text/x-python",
   "name": "python",
   "nbconvert_exporter": "python",
   "pygments_lexer": "ipython3",
   "version": "3.10.9"
  },
  "toc-autonumbering": true
 },
 "nbformat": 4,
 "nbformat_minor": 5
}
