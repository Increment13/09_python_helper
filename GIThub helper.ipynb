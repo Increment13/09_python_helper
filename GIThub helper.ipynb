{
 "cells": [
  {
   "cell_type": "markdown",
   "id": "fa24f770-12f5-4446-a767-220df5e9e847",
   "metadata": {},
   "source": [
    "# Cheat sheet: command line"
   ]
  },
  {
   "cell_type": "markdown",
   "id": "bce8aa4b-becd-4ff7-8342-f3ae12039219",
   "metadata": {},
   "source": [
    "- `pwd` — show me which folder I’m in;\n",
    "- `ls` — show the files in the folder where I am now;\n",
    "- `cd project` - go to the project folder;\n",
    "- `cd project/data` - go to the data folder located in the first folder;\n",
    "- `cd ..` - go one level higher to the parent folder;\n",
    "- `cd ~` - go to your home directory (for us it’s /Users/MSI);\n",
    "- `mkdir result` — in the current folder, create a folder named result;\n",
    "- `rm Untitled.ipynb` — delete the file Untitled.ipynb;\n",
    "- `rmdir result` — delete the images folder;\n",
    "- `rm -r project` - delete the second-project folder and everything it contains;\n",
    "- `touch report_WL.py` — create a report_WL.py file in the current folder;\n",
    "- `touch report_WL.py ldr_data.py lib.py` - if you need to create several files, their names can be entered separated by a space."
   ]
  },
  {
   "cell_type": "markdown",
   "id": "671d95f4-2d88-48a0-8ab3-9d851552cdba",
   "metadata": {},
   "source": [
    "To avoid typing the full names of files and folders, you can start typing their name and press the `Tab` key. The command line will add the path itself if the corresponding file or folder is in the current directory."
   ]
  },
  {
   "cell_type": "markdown",
   "id": "49a716ca-4e1e-4f24-b779-22fcf05dedb7",
   "metadata": {},
   "source": [
    "# Cheat sheet: Git"
   ]
  },
  {
   "cell_type": "markdown",
   "id": "250e0fa8-e8d8-414e-bc5d-94200c401b22",
   "metadata": {},
   "source": [
    "## Commands for synchronizing a local repository with a remote one."
   ]
  },
  {
   "cell_type": "markdown",
   "id": "7bd8d3fb-737c-478f-921c-e95cca2cec5d",
   "metadata": {},
   "source": [
    "- `git remote add origin git@github.com:Increment13/kaggle_riga.git` - being in the folder with the local repository, we link it to the remote one (SSH or you will have your own URL);\n",
    "- `git push -u origin main` - upload all files from the local repository to the remote one, which has already been linked."
   ]
  },
  {
   "cell_type": "markdown",
   "id": "1a1be9cf-9f72-4e94-b6b3-5e29bd6e0f84",
   "metadata": {},
   "source": [
    "## Commands to make a save - commit."
   ]
  },
  {
   "cell_type": "markdown",
   "id": "aee29fd5-013f-4324-aaf8-e79ed42c2009",
   "metadata": {},
   "source": [
    "- `git add` file_name — prepare the selected file for commit;\n",
    "- `git add -A` - in order not to lose anything, you can prepare for committing all the files in which there were changes at once;\n",
    "- `git commit -m \"commit comment\"` - make a commit. We leave a comment on the saved files to make it easier to understand what changes have been made."
   ]
  },
  {
   "cell_type": "markdown",
   "id": "4cff5670-0ffa-4f8f-8310-61f64651544a",
   "metadata": {},
   "source": [
    "## Commands for publishing changes:"
   ]
  },
  {
   "cell_type": "markdown",
   "id": "89509299-a206-4741-b09d-52a70588fb5b",
   "metadata": {},
   "source": [
    "- `git pull` - pull changes made by other developers;\n",
    "- `git push` - publish changes to a remote repository."
   ]
  }
 ],
 "metadata": {
  "kernelspec": {
   "display_name": "Python 3 (ipykernel)",
   "language": "python",
   "name": "python3"
  },
  "language_info": {
   "codemirror_mode": {
    "name": "ipython",
    "version": 3
   },
   "file_extension": ".py",
   "mimetype": "text/x-python",
   "name": "python",
   "nbconvert_exporter": "python",
   "pygments_lexer": "ipython3",
   "version": "3.10.9"
  }
 },
 "nbformat": 4,
 "nbformat_minor": 5
}
