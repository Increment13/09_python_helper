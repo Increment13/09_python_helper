{
 "cells": [
  {
   "cell_type": "markdown",
   "id": "6e5c4c07-63bb-4348-8473-720b4d183c4b",
   "metadata": {
    "toc-hr-collapsed": true
   },
   "source": [
    "# Parsing HTML documents"
   ]
  },
  {
   "cell_type": "markdown",
   "id": "d199bfd2-62c0-4230-b04a-35a27b07a67f",
   "metadata": {},
   "source": [
    "First you need to understand what an HTML document is and how you can read data from it."
   ]
  },
  {
   "cell_type": "markdown",
   "id": "954cbe0d-dcce-40a8-ab9c-0d1d93de1de1",
   "metadata": {},
   "source": [
    "HTML (HyperText Markup Language) is a standardized hypertext markup language for documents for viewing web pages in a browser. Web browsers receive an HTML document from the server via HTTP/HTTPS protocols or open it from a local disk, then interpret the code into an interface that will be displayed on the monitor screen.\n",
    "\n",
    "HTML elements are the building blocks of HTML pages. With HTML, various designs, images, and other objects, such as an interactive web form, can be embedded in the displayed page. HTML provides tools for creating headings, paragraphs, lists, links, quotes, and other elements. HTML elements are separated by tags written using angle brackets. Browsers do not display HTML tags, but use them to interpret page content."
   ]
  },
  {
   "cell_type": "markdown",
   "id": "09bd96a4-a63d-4436-a8c6-38fe7a9c4121",
   "metadata": {},
   "source": [
    "## DOM-tree and searching for values"
   ]
  },
  {
   "cell_type": "markdown",
   "id": "14b4e809-5960-4415-9841-ee18f2ef8783",
   "metadata": {},
   "source": [
    "DOM is a representation of an HTML document as a tree of tags.\n",
    "\n",
    "Let's start with this simple document:"
   ]
  },
  {
   "cell_type": "raw",
   "id": "28cbda37-56a4-4a89-a898-7a23943a38ec",
   "metadata": {},
   "source": [
    "<!DOCTYPE HTML>\n",
    "<html>\n",
    "<head>\n",
    "  <title>Citadele LV</title>\n",
    "</head>\n",
    "<body>\n",
    "  here is an interesting text\n",
    "</body>\n",
    "</html>"
   ]
  },
  {
   "cell_type": "markdown",
   "id": "b41c95bf-238b-4939-9610-a089947b7e06",
   "metadata": {},
   "source": [
    "<img src=\"./pictures/1.png\"  \n",
    "  width=\"600\"\n",
    "/>"
   ]
  },
  {
   "cell_type": "markdown",
   "id": "48936417-c7ce-49da-a278-133892952ed4",
   "metadata": {},
   "source": [
    "Everything in HTML, even comments, is part of the DOM.\n",
    "Even the <!DOCTYPE...> directive is also a DOM node. It's in the DOM tree right before the html. We won't look at this node, we don't even draw it on our diagrams, but it exists.\n",
    "Even the document object, which represents the entire document, is technically a DOM node.\n",
    "\n",
    "In reality, the DOM tree looks more complex, each element in the tree has its own tag and relates to others as a child or parent:"
   ]
  },
  {
   "cell_type": "markdown",
   "id": "9ed3dd3b-80ba-4fee-99ad-b2964068748e",
   "metadata": {},
   "source": [
    "<img src=\"./pictures/2.png\"  \n",
    "  width=\"1200\"\n",
    "/>"
   ]
  },
  {
   "cell_type": "markdown",
   "id": "0cd5d508-9b9e-40ed-a8b0-98e1038ede57",
   "metadata": {},
   "source": [
    " "
   ]
  },
  {
   "cell_type": "markdown",
   "id": "e342a6ba-4793-4d59-a256-6e11a2417445",
   "metadata": {},
   "source": [
    " "
   ]
  },
  {
   "cell_type": "markdown",
   "id": "83a8da17-72dd-46a6-b0e8-fecedaf24c2c",
   "metadata": {},
   "source": [
    "With such a scheme, it would be easy to unload the necessary data, but the DOM of documents usually looks more complex; child elements and parents can have the same tag (as in the example below, the div is also a container):"
   ]
  },
  {
   "cell_type": "markdown",
   "id": "62fd033e-52a1-4507-9153-e2c0772722dc",
   "metadata": {},
   "source": [
    "<img src=\"./pictures/3.png\"  \n",
    "  width=\"600\"\n",
    "/>"
   ]
  },
  {
   "cell_type": "markdown",
   "id": "400ac9d1-4d61-4749-bcbf-300e3be79118",
   "metadata": {},
   "source": [
    " "
   ]
  },
  {
   "cell_type": "markdown",
   "id": "55c97bb8-608c-4b53-90b7-f86bffbe00fc",
   "metadata": {},
   "source": [
    " "
   ]
  },
  {
   "cell_type": "markdown",
   "id": "ea401851-5f1f-4578-8613-094526607ad1",
   "metadata": {},
   "source": [
    " "
   ]
  },
  {
   "cell_type": "markdown",
   "id": "aeea5d92-659e-4dee-a533-119a1bc00919",
   "metadata": {},
   "source": [
    "## Class and Id"
   ]
  },
  {
   "cell_type": "markdown",
   "id": "c8ef94ba-1244-4fdc-ab56-ce996af6f7ee",
   "metadata": {},
   "source": [
    "<b>Class</b> is a universal tag attribute that can be used to set a name for any element on the page. The element name is then used as a selector in CSS and allows you to control the styling of the element. In addition, the class name is convenient for searching and manipulating elements on the page"
   ]
  },
  {
   "cell_type": "markdown",
   "id": "71a5b1df-f817-4444-8abf-5859603b4314",
   "metadata": {},
   "source": [
    "<b>Id</b> - defines the unique identifier of the HTML element. The value of the <b>Id</b> attribute must be unique within the HTML document.\n",
    "The <b>Id</b> attribute is used to indicate a specific style declaration in a style sheet. It is also used to access and manipulate an element with a specific ID."
   ]
  },
  {
   "cell_type": "markdown",
   "id": "34e27a88-16b6-468b-a8b7-36cc5fd2f65b",
   "metadata": {},
   "source": [
    "<img src=\"./pictures/4.png\"  \n",
    "  width=\"1400\"\n",
    "/>"
   ]
  },
  {
   "cell_type": "markdown",
   "id": "c9e4cca5-2892-4886-972d-1ed76047fb3e",
   "metadata": {},
   "source": [
    "In some cases, the DOM tree can be generated on the fly and use data depending on the loaded part of the site or transitions.\n",
    "In such cases, using parsing will be difficult, because in the current version, we will rely on a ready-made “snapshot” of the page and parse it."
   ]
  },
  {
   "cell_type": "markdown",
   "id": "e1782061-bc3f-4e90-8428-25d406617620",
   "metadata": {},
   "source": [
    "## Errors from the web application"
   ]
  },
  {
   "cell_type": "markdown",
   "id": "3ca179ed-e632-46db-a9e0-cf2dba18b1e7",
   "metadata": {},
   "source": [
    "- 400 — Bad Request. Typically this status is associated with an input error, for example if the user enters an incorrect email address.\n",
    "- 401 - Unauthorized. This status is associated with a situation where a user tries to access something without authorization where authorization is required. This error code is also suitable in a situation where the user is trying to perform an action for which he does not have rights.\n",
    "- 403 - Forbidden. The difference between this status and status 400 is insignificant. Typically, a 403 code indicates that the server understood the request, but cannot fulfill it. For example, this status can be returned if the user entered an expired promotional coupon number.\n",
    "- 404 - Not Found. This is the most famous of the \"erroneous\" response codes. It reports that the requested resource was not found. This can happen due to an incorrect URL, a deleted or moved page.\n",
    "- 409 - Conflict. In most cases, this status indicates a version control conflict. For example, this happens if the user tries to download a version of a file that is older than the previously downloaded version of the file. This code can also indicate uniqueness constraints, for example, if the user tries to resend the email (clicks the Send button a second time without waiting for the action to complete).\n",
    "- 500 — Internal Server Error. This status indicates an error, which can be described as: “Something went wrong, but we don’t know what exactly.”\n",
    "- 503 - Unavailable. The server has failed; the error may be planned or unplanned."
   ]
  },
  {
   "cell_type": "markdown",
   "id": "98192703-4613-4b1c-8e76-93fd68605a6d",
   "metadata": {},
   "source": [
    "## Status OK"
   ]
  },
  {
   "cell_type": "markdown",
   "id": "098b2db9-0177-4e5c-bccc-6e8dc6e171b1",
   "metadata": {},
   "source": [
    "- 200 OK - the most popular and necessary response code from the server. It means that the request from the client side is correct and the server side is executed without problems. All pages that are indexed by search engines should return 200 OK.\n",
    "- 301 Moved Permanently - indicates a redirection from one page to another."
   ]
  },
  {
   "cell_type": "markdown",
   "id": "75e4185c-351a-421d-8886-28d1e1872b9b",
   "metadata": {
    "toc-hr-collapsed": true
   },
   "source": [
    "# New libraries"
   ]
  },
  {
   "cell_type": "markdown",
   "id": "73a51bf0-87ce-4978-9c01-ab315ebc30bb",
   "metadata": {},
   "source": [
    "## requests"
   ]
  },
  {
   "cell_type": "markdown",
   "id": "d0549d56-4e01-4253-914f-db99c0a4015a",
   "metadata": {},
   "source": [
    "The requests library allows us to interact with web applications easily and with a minimum amount of code. We need this to solve any problems related to the transfer of information from the user to the server and back"
   ]
  },
  {
   "cell_type": "markdown",
   "id": "bf25e87b-68c9-496a-8a19-56bc37471599",
   "metadata": {},
   "source": [
    "Let's download the library and see the main methods"
   ]
  },
  {
   "cell_type": "code",
   "execution_count": 1,
   "id": "0956b924-1571-4e7d-966e-61917926db84",
   "metadata": {},
   "outputs": [],
   "source": [
    "import requests"
   ]
  },
  {
   "cell_type": "markdown",
   "id": "078c9d4a-5ca1-4c3e-a38f-14780b64ebc5",
   "metadata": {},
   "source": [
    "- Uniform Resource Locator.\n",
    "\n",
    "A URL is nothing more than the address of a given unique resource on the Internet. In theory, every valid URL points to a unique resource."
   ]
  },
  {
   "cell_type": "markdown",
   "id": "4b8921b8-606e-4aeb-a5c8-12ba43855881",
   "metadata": {},
   "source": [
    "Knowing what a URL is, let’s load our page and look at the result"
   ]
  },
  {
   "cell_type": "code",
   "execution_count": 3,
   "id": "a783ec98-2393-4da7-978e-cc7c40ebe87e",
   "metadata": {},
   "outputs": [],
   "source": [
    "URL_TEMPLATE = \"https://www.ss.lv/lv/real-estate/flats/riga/all/hand_over/page48.html\""
   ]
  },
  {
   "cell_type": "code",
   "execution_count": 4,
   "id": "f3d64f68-0824-4d6b-acad-d92421d95f95",
   "metadata": {},
   "outputs": [
    {
     "name": "stdout",
     "output_type": "stream",
     "text": [
      "200\n"
     ]
    }
   ],
   "source": [
    "r = requests.get(URL_TEMPLATE)\n",
    "print(r.status_code)"
   ]
  },
  {
   "cell_type": "code",
   "execution_count": 7,
   "id": "26ea7e77-f109-408a-b0ce-a3ad4bf0003c",
   "metadata": {},
   "outputs": [
    {
     "data": {
      "text/plain": [
       "'<!DOCTYPE html>\\r\\n<HTML><HEAD>\\r\\n<title>SS.LV Dzīvokļi - Rīga, Cenas. Blakus, caurstaigājama..., Izīrē'"
      ]
     },
     "execution_count": 7,
     "metadata": {},
     "output_type": "execute_result"
    }
   ],
   "source": [
    "r.text[:100]"
   ]
  },
  {
   "cell_type": "markdown",
   "id": "4850735f-f78f-4fa8-828f-e76abc65f4a0",
   "metadata": {},
   "source": [
    "We have completely downloaded the page snapshot by URL, now we need to extract the data we need, for this we will use the Beautiful Soup library"
   ]
  },
  {
   "cell_type": "markdown",
   "id": "82ade315-08da-4f0b-96eb-60ec8f8277dc",
   "metadata": {},
   "source": [
    "## bs4"
   ]
  },
  {
   "cell_type": "markdown",
   "id": "915bf17b-c1dc-405b-88d0-b256bac14b7d",
   "metadata": {},
   "source": [
    "Beautiful Soup is a Python package for parsing HTML and XML documents. It creates a parse tree for parsed pages, which can be used to extract data from HTML, which is useful for scraping web pages."
   ]
  },
  {
   "cell_type": "markdown",
   "id": "3b8a0f27-4ab3-4a35-9715-768a3026927c",
   "metadata": {},
   "source": [
    "https://www.crummy.com/software/BeautifulSoup/bs4/doc/"
   ]
  },
  {
   "cell_type": "code",
   "execution_count": 8,
   "id": "56c0472d-cc78-4df5-bc75-64cde6fcc4bd",
   "metadata": {},
   "outputs": [],
   "source": [
    "from bs4 import BeautifulSoup as bs"
   ]
  },
  {
   "cell_type": "markdown",
   "id": "fe4a2601-72e1-4559-bc3a-7d6c98f17e5f",
   "metadata": {},
   "source": [
    "Running the \"requests\" document through Beautiful Soup gives us a BeautifulSoup object that represents the document as a nested data structure:"
   ]
  },
  {
   "cell_type": "code",
   "execution_count": 9,
   "id": "c2fa8b04-7c1d-4507-bcad-48e367ad27c1",
   "metadata": {},
   "outputs": [],
   "source": [
    "soup = bs(r.text, \"html.parser\")"
   ]
  },
  {
   "cell_type": "code",
   "execution_count": 11,
   "id": "cdb7051f-6ed7-463e-b6a1-f67290c5caef",
   "metadata": {},
   "outputs": [],
   "source": [
    "# here you can see this structure\n",
    "# soup"
   ]
  },
  {
   "cell_type": "markdown",
   "id": "a431eeee-cf17-4749-9f51-9067feb10342",
   "metadata": {},
   "source": [
    "<img src=\"./pictures/5.png\"  \n",
    "  width=\"1200\"\n",
    "/>"
   ]
  },
  {
   "cell_type": "markdown",
   "id": "d44006eb-3b8f-463f-8c9e-039f5ed56d31",
   "metadata": {},
   "source": [
    "Here are some simple ways to navigate this data structure:"
   ]
  },
  {
   "cell_type": "code",
   "execution_count": 12,
   "id": "665ce0b4-792a-4411-8637-1a4f39050845",
   "metadata": {},
   "outputs": [
    {
     "data": {
      "text/plain": [
       "<title>SS.LV Dzīvokļi - Rīga, Cenas. Blakus, caurstaigājama..., Izīrē - Visi sludinājumi</title>"
      ]
     },
     "execution_count": 12,
     "metadata": {},
     "output_type": "execute_result"
    }
   ],
   "source": [
    "soup.title"
   ]
  },
  {
   "cell_type": "code",
   "execution_count": 13,
   "id": "a40c6f28-4322-43f9-987d-e59744ebadde",
   "metadata": {},
   "outputs": [
    {
     "data": {
      "text/plain": [
       "'title'"
      ]
     },
     "execution_count": 13,
     "metadata": {},
     "output_type": "execute_result"
    }
   ],
   "source": [
    "soup.title.name"
   ]
  },
  {
   "cell_type": "code",
   "execution_count": 14,
   "id": "f8d91d0b-8891-488a-873d-7c5dd5d38077",
   "metadata": {},
   "outputs": [
    {
     "data": {
      "text/plain": [
       "'SS.LV Dzīvokļi - Rīga, Cenas. Blakus, caurstaigājama..., Izīrē - Visi sludinājumi'"
      ]
     },
     "execution_count": 14,
     "metadata": {},
     "output_type": "execute_result"
    }
   ],
   "source": [
    "soup.title.string"
   ]
  },
  {
   "cell_type": "code",
   "execution_count": 11,
   "id": "4be2a847-4920-437e-9f33-9791ab278ddd",
   "metadata": {},
   "outputs": [
    {
     "data": {
      "text/plain": [
       "'head'"
      ]
     },
     "execution_count": 11,
     "metadata": {},
     "output_type": "execute_result"
    }
   ],
   "source": [
    "soup.title.parent.name"
   ]
  },
  {
   "cell_type": "code",
   "execution_count": 15,
   "id": "7889b7a5-4104-404a-8d80-34e25538b50d",
   "metadata": {},
   "outputs": [
    {
     "data": {
      "text/plain": [
       "<a href=\"/lv/\" title=\"Sludinājumi\"><img alt=\"Sludinājumi\" border=\"0\" class=\"page_header_logo_ss\" src=\"https://i.ss.lv/img/p.gif\"/></a>"
      ]
     },
     "execution_count": 15,
     "metadata": {},
     "output_type": "execute_result"
    }
   ],
   "source": [
    "soup.a"
   ]
  },
  {
   "cell_type": "code",
   "execution_count": 16,
   "id": "9e8ba3b0-1260-4994-b875-efcaf3024a4e",
   "metadata": {},
   "outputs": [
    {
     "data": {
      "text/plain": [
       "[<a href=\"/lv/\" title=\"Sludinājumi\"><img alt=\"Sludinājumi\" border=\"0\" class=\"page_header_logo_ss\" src=\"https://i.ss.lv/img/p.gif\"/></a>,\n",
       " <a class=\"a_menu\" href=\"/lv/real-estate/flats/new/\" title=\"Iesniegt Sludinājumu\">Iesniegt Sludinājumu</a>,\n",
       " <a class=\"a_menu\" href=\"/lv/login/\" title=\"Mani Sludinājumi\">Mani Sludinājumi</a>,\n",
       " <a class=\"a_menu\" href=\"/lv/real-estate/flats/riga/search/\" title=\"Meklēt sludinājumus\">Meklēšana</a>,\n",
       " <a class=\"a_menu\" href=\"/lv/favorites/\" title=\"Memo\">Memo</a>]"
      ]
     },
     "execution_count": 16,
     "metadata": {},
     "output_type": "execute_result"
    }
   ],
   "source": [
    "soup.find_all('a')[:5]"
   ]
  },
  {
   "cell_type": "code",
   "execution_count": 17,
   "id": "ae2d1f8c-6555-4d2f-acc6-8287ef63a591",
   "metadata": {},
   "outputs": [],
   "source": [
    "soup.find(id=\"tr_53431909\")"
   ]
  },
  {
   "cell_type": "markdown",
   "id": "82743b50-5c68-4d41-a0f8-1f7dea56ce30",
   "metadata": {},
   "source": [
    "       "
   ]
  },
  {
   "cell_type": "markdown",
   "id": "96018ed9-5755-4758-9a6d-9c39ebfc731e",
   "metadata": {},
   "source": [
    "    "
   ]
  },
  {
   "cell_type": "markdown",
   "id": "a3ed0895-d3ed-4083-b858-3c759b463f5e",
   "metadata": {},
   "source": [
    "\n",
    "\n",
    "\n",
    "\n",
    "\n",
    "  "
   ]
  },
  {
   "cell_type": "markdown",
   "id": "223b9aa4-aa62-44af-8f6f-8c814ff51d95",
   "metadata": {},
   "source": [
    "the <b>.find_all</b> method accepts search parameters by tags, classes, id and other tag parameters. In our case, we will use the search by tag + class"
   ]
  },
  {
   "cell_type": "code",
   "execution_count": 18,
   "id": "da082c0f-c35f-48df-9e44-42fcee0f09fc",
   "metadata": {},
   "outputs": [],
   "source": [
    "parsed_data = soup.find_all('td', class_='msga2-o pp6')"
   ]
  },
  {
   "cell_type": "markdown",
   "id": "75c7ff87-b0a7-4fdf-8b6a-9b65b66eb658",
   "metadata": {},
   "source": [
    "let's look at the result"
   ]
  },
  {
   "cell_type": "code",
   "execution_count": 19,
   "id": "10233271-11cc-4b7e-941d-943d505b4de4",
   "metadata": {},
   "outputs": [
    {
     "data": {
      "text/plain": [
       "[<td c=\"1\" class=\"msga2-o pp6\" nowrap=\"\">centrs<br/>Bruņinieku 52</td>,\n",
       " <td c=\"1\" class=\"msga2-o pp6\" nowrap=\"\">3</td>,\n",
       " <td c=\"1\" class=\"msga2-o pp6\" nowrap=\"\">71</td>,\n",
       " <td c=\"1\" class=\"msga2-o pp6\" nowrap=\"\">3/5</td>,\n",
       " <td c=\"1\" class=\"msga2-o pp6\" nowrap=\"\">P. kara</td>,\n",
       " <td c=\"1\" class=\"msga2-o pp6\" nowrap=\"\">360  €/mēn.</td>,\n",
       " <td c=\"1\" class=\"msga2-o pp6\" nowrap=\"\">Krasta r-ns<br/>Salacas 16</td>,\n",
       " <td c=\"1\" class=\"msga2-o pp6\" nowrap=\"\">1</td>,\n",
       " <td c=\"1\" class=\"msga2-o pp6\" nowrap=\"\">50</td>,\n",
       " <td c=\"1\" class=\"msga2-o pp6\" nowrap=\"\">10/16</td>,\n",
       " <td c=\"1\" class=\"msga2-o pp6\" nowrap=\"\">104.</td>,\n",
       " <td c=\"1\" class=\"msga2-o pp6\" nowrap=\"\">39  €/dienā</td>]"
      ]
     },
     "execution_count": 19,
     "metadata": {},
     "output_type": "execute_result"
    }
   ],
   "source": [
    "parsed_data[:12]"
   ]
  },
  {
   "cell_type": "markdown",
   "id": "34dab75b-7931-43d9-9227-dc9ecdde12fb",
   "metadata": {},
   "source": [
    "  \n",
    "    \n",
    "    \n",
    "      "
   ]
  },
  {
   "cell_type": "markdown",
   "id": "0d5b37b1-abec-429c-a872-5d5427a4e434",
   "metadata": {},
   "source": [
    "Another common task is to extract all the text from a page:"
   ]
  },
  {
   "cell_type": "markdown",
   "id": "1780ef64-16e3-4354-bd98-fbb88973a581",
   "metadata": {},
   "source": [
    "<img src=\"./pictures/6.png\"  \n",
    "  width=\"1000\"\n",
    "/>"
   ]
  },
  {
   "cell_type": "code",
   "execution_count": 20,
   "id": "4043201f-8ef5-4592-b802-4b25ffa31004",
   "metadata": {},
   "outputs": [
    {
     "data": {
      "text/plain": [
       "'centrsBruņinieku 52'"
      ]
     },
     "execution_count": 20,
     "metadata": {},
     "output_type": "execute_result"
    }
   ],
   "source": [
    "parsed_data[0].get_text()"
   ]
  },
  {
   "cell_type": "markdown",
   "id": "c063c3f2-5622-47be-9fff-c23bafed1817",
   "metadata": {},
   "source": [
    "get_text() removed all tags and their parameters, while the `br` tag used (used for line breaks) was also eaten and led to our text being “stuck together”"
   ]
  },
  {
   "cell_type": "markdown",
   "id": "e91e7d10-e9a0-4baa-ad8d-d40a6cc5f8ae",
   "metadata": {},
   "source": [
    "to avoid such situations, we will add a separator that will be easy to remove/replace in the future to break the text|"
   ]
  },
  {
   "cell_type": "code",
   "execution_count": 21,
   "id": "1975260e-06bc-4653-b557-0d134651d29a",
   "metadata": {},
   "outputs": [
    {
     "data": {
      "text/plain": [
       "'centrs|Bruņinieku 52'"
      ]
     },
     "execution_count": 21,
     "metadata": {},
     "output_type": "execute_result"
    }
   ],
   "source": [
    "parsed_data[0].get_text(\"|\")"
   ]
  },
  {
   "cell_type": "code",
   "execution_count": 22,
   "id": "367e55c5-c19b-4a70-999e-55233ecf32d3",
   "metadata": {},
   "outputs": [
    {
     "name": "stdout",
     "output_type": "stream",
     "text": [
      "centrs|Bruņinieku 52\n",
      "3\n",
      "71\n",
      "3/5\n",
      "P. kara\n",
      "360  €/mēn.\n",
      "Krasta r-ns|Salacas 16\n"
     ]
    }
   ],
   "source": [
    "for i in range(0,7):\n",
    "    print(parsed_data[i].get_text(\"|\"))"
   ]
  },
  {
   "cell_type": "markdown",
   "id": "b1192faa-224c-4a60-aad9-10d5eadb46b7",
   "metadata": {},
   "source": [
    "# Example "
   ]
  },
  {
   "cell_type": "markdown",
   "id": "a1983b55-bf1f-427a-ae26-c02651355722",
   "metadata": {},
   "source": [
    "## Variant 1"
   ]
  },
  {
   "cell_type": "code",
   "execution_count": 23,
   "id": "a94b67b6-4317-4a07-8aa0-db3dd61ce871",
   "metadata": {},
   "outputs": [],
   "source": [
    "import pandas as pd\n",
    "import numpy as np"
   ]
  },
  {
   "cell_type": "code",
   "execution_count": 24,
   "id": "d1cc2e85-7e1c-40f0-abd1-dd763b8816fa",
   "metadata": {},
   "outputs": [
    {
     "name": "stdout",
     "output_type": "stream",
     "text": [
      "200\n"
     ]
    }
   ],
   "source": [
    "URL_TEMPLATE = \"https://www.ss.lv/lv/real-estate/flats/riga/all/sell/\"\n",
    "r = requests.get(URL_TEMPLATE)\n",
    "print(r.status_code)"
   ]
  },
  {
   "cell_type": "code",
   "execution_count": 25,
   "id": "834be227-1dec-4cfa-84b2-590d44d400c2",
   "metadata": {},
   "outputs": [],
   "source": [
    "soup = bs(r.text, \"html.parser\")\n",
    "parsed_data = soup.find_all('td', class_='msga2-o pp6')"
   ]
  },
  {
   "cell_type": "code",
   "execution_count": 26,
   "id": "9223bf99-8a28-45de-84e8-93cf262e3801",
   "metadata": {},
   "outputs": [
    {
     "data": {
      "text/plain": [
       "[<td c=\"1\" class=\"msga2-o pp6\" nowrap=\"\">Teika<br/>Kuršu 32</td>,\n",
       " <td c=\"1\" class=\"msga2-o pp6\" nowrap=\"\">2</td>,\n",
       " <td c=\"1\" class=\"msga2-o pp6\" nowrap=\"\">43</td>,\n",
       " <td c=\"1\" class=\"msga2-o pp6\" nowrap=\"\">1/2</td>,\n",
       " <td c=\"1\" class=\"msga2-o pp6\" nowrap=\"\">Renov.</td>,\n",
       " <td c=\"1\" class=\"msga2-o pp6\" nowrap=\"\">79,600  €</td>,\n",
       " <td c=\"1\" class=\"msga2-o pp6\" nowrap=\"\">centrs<br/>Katrīnas d. 24 - K3</td>,\n",
       " <td c=\"1\" class=\"msga2-o pp6\" nowrap=\"\">3</td>,\n",
       " <td c=\"1\" class=\"msga2-o pp6\" nowrap=\"\">67</td>,\n",
       " <td c=\"1\" class=\"msga2-o pp6\" nowrap=\"\">1/2</td>,\n",
       " <td c=\"1\" class=\"msga2-o pp6\" nowrap=\"\">Staļina</td>,\n",
       " <td c=\"1\" class=\"msga2-o pp6\" nowrap=\"\">98,500  €</td>]"
      ]
     },
     "execution_count": 26,
     "metadata": {},
     "output_type": "execute_result"
    }
   ],
   "source": [
    "parsed_data[:12]"
   ]
  },
  {
   "cell_type": "markdown",
   "id": "6dad7172-a288-4c30-8963-5b153f60e380",
   "metadata": {},
   "source": [
    "<img src=\"./pictures/7.png\"  \n",
    "  width=\"1000\"\n",
    "/>"
   ]
  },
  {
   "cell_type": "code",
   "execution_count": 27,
   "id": "78b0c5ae-5b5a-4a1e-8f29-f33587e97c90",
   "metadata": {},
   "outputs": [],
   "source": [
    "page_array = []\n",
    "\n",
    "i = 0\n",
    "for data in parsed_data:\n",
    "    page_array.append([i, data.get_text(\"|\")])\n",
    "    i += 1\n",
    "    \n",
    "df_tmp = pd.DataFrame(page_array, columns=['line', 'data'])    "
   ]
  },
  {
   "cell_type": "code",
   "execution_count": 29,
   "id": "72fb4f18-66e6-47cf-adb8-828d974429a9",
   "metadata": {},
   "outputs": [
    {
     "data": {
      "text/html": [
       "<div>\n",
       "<style scoped>\n",
       "    .dataframe tbody tr th:only-of-type {\n",
       "        vertical-align: middle;\n",
       "    }\n",
       "\n",
       "    .dataframe tbody tr th {\n",
       "        vertical-align: top;\n",
       "    }\n",
       "\n",
       "    .dataframe thead th {\n",
       "        text-align: right;\n",
       "    }\n",
       "</style>\n",
       "<table border=\"1\" class=\"dataframe\">\n",
       "  <thead>\n",
       "    <tr style=\"text-align: right;\">\n",
       "      <th></th>\n",
       "      <th>line</th>\n",
       "      <th>data</th>\n",
       "    </tr>\n",
       "  </thead>\n",
       "  <tbody>\n",
       "    <tr>\n",
       "      <th>0</th>\n",
       "      <td>0</td>\n",
       "      <td>Teika|Kuršu 32</td>\n",
       "    </tr>\n",
       "    <tr>\n",
       "      <th>1</th>\n",
       "      <td>1</td>\n",
       "      <td>2</td>\n",
       "    </tr>\n",
       "    <tr>\n",
       "      <th>2</th>\n",
       "      <td>2</td>\n",
       "      <td>43</td>\n",
       "    </tr>\n",
       "    <tr>\n",
       "      <th>3</th>\n",
       "      <td>3</td>\n",
       "      <td>1/2</td>\n",
       "    </tr>\n",
       "    <tr>\n",
       "      <th>4</th>\n",
       "      <td>4</td>\n",
       "      <td>Renov.</td>\n",
       "    </tr>\n",
       "    <tr>\n",
       "      <th>5</th>\n",
       "      <td>5</td>\n",
       "      <td>79,600  €</td>\n",
       "    </tr>\n",
       "    <tr>\n",
       "      <th>6</th>\n",
       "      <td>6</td>\n",
       "      <td>centrs|Katrīnas d. 24 - K3</td>\n",
       "    </tr>\n",
       "    <tr>\n",
       "      <th>7</th>\n",
       "      <td>7</td>\n",
       "      <td>3</td>\n",
       "    </tr>\n",
       "    <tr>\n",
       "      <th>8</th>\n",
       "      <td>8</td>\n",
       "      <td>67</td>\n",
       "    </tr>\n",
       "    <tr>\n",
       "      <th>9</th>\n",
       "      <td>9</td>\n",
       "      <td>1/2</td>\n",
       "    </tr>\n",
       "  </tbody>\n",
       "</table>\n",
       "</div>"
      ],
      "text/plain": [
       "   line                        data\n",
       "0     0              Teika|Kuršu 32\n",
       "1     1                           2\n",
       "2     2                          43\n",
       "3     3                         1/2\n",
       "4     4                      Renov.\n",
       "5     5                   79,600  €\n",
       "6     6  centrs|Katrīnas d. 24 - K3\n",
       "7     7                           3\n",
       "8     8                          67\n",
       "9     9                         1/2"
      ]
     },
     "execution_count": 29,
     "metadata": {},
     "output_type": "execute_result"
    }
   ],
   "source": [
    "df_tmp.head(10)"
   ]
  },
  {
   "cell_type": "markdown",
   "id": "4b04748b-ad27-462a-b4eb-f914ccf92a5c",
   "metadata": {},
   "source": [
    "here we received a numbered data array.\n",
    "\n",
    "As shown in the figure above, all data (even tabular ones) have turned into rows. To correct this situation, let’s take a column index, for this we will use division without a remainder"
   ]
  },
  {
   "cell_type": "code",
   "execution_count": 30,
   "id": "2bac5d46-f671-4e9f-b12f-3ec412ff222d",
   "metadata": {},
   "outputs": [],
   "source": [
    "df_tmp['head'] = df_tmp['line']%6"
   ]
  },
  {
   "cell_type": "code",
   "execution_count": 31,
   "id": "0115e13b-1271-4f2b-ab0b-e57b0e472745",
   "metadata": {},
   "outputs": [
    {
     "data": {
      "text/html": [
       "<div>\n",
       "<style scoped>\n",
       "    .dataframe tbody tr th:only-of-type {\n",
       "        vertical-align: middle;\n",
       "    }\n",
       "\n",
       "    .dataframe tbody tr th {\n",
       "        vertical-align: top;\n",
       "    }\n",
       "\n",
       "    .dataframe thead th {\n",
       "        text-align: right;\n",
       "    }\n",
       "</style>\n",
       "<table border=\"1\" class=\"dataframe\">\n",
       "  <thead>\n",
       "    <tr style=\"text-align: right;\">\n",
       "      <th></th>\n",
       "      <th>line</th>\n",
       "      <th>data</th>\n",
       "      <th>head</th>\n",
       "    </tr>\n",
       "  </thead>\n",
       "  <tbody>\n",
       "    <tr>\n",
       "      <th>0</th>\n",
       "      <td>0</td>\n",
       "      <td>Teika|Kuršu 32</td>\n",
       "      <td>0</td>\n",
       "    </tr>\n",
       "    <tr>\n",
       "      <th>1</th>\n",
       "      <td>1</td>\n",
       "      <td>2</td>\n",
       "      <td>1</td>\n",
       "    </tr>\n",
       "    <tr>\n",
       "      <th>2</th>\n",
       "      <td>2</td>\n",
       "      <td>43</td>\n",
       "      <td>2</td>\n",
       "    </tr>\n",
       "    <tr>\n",
       "      <th>3</th>\n",
       "      <td>3</td>\n",
       "      <td>1/2</td>\n",
       "      <td>3</td>\n",
       "    </tr>\n",
       "    <tr>\n",
       "      <th>4</th>\n",
       "      <td>4</td>\n",
       "      <td>Renov.</td>\n",
       "      <td>4</td>\n",
       "    </tr>\n",
       "    <tr>\n",
       "      <th>5</th>\n",
       "      <td>5</td>\n",
       "      <td>79,600  €</td>\n",
       "      <td>5</td>\n",
       "    </tr>\n",
       "    <tr>\n",
       "      <th>6</th>\n",
       "      <td>6</td>\n",
       "      <td>centrs|Katrīnas d. 24 - K3</td>\n",
       "      <td>0</td>\n",
       "    </tr>\n",
       "    <tr>\n",
       "      <th>7</th>\n",
       "      <td>7</td>\n",
       "      <td>3</td>\n",
       "      <td>1</td>\n",
       "    </tr>\n",
       "    <tr>\n",
       "      <th>8</th>\n",
       "      <td>8</td>\n",
       "      <td>67</td>\n",
       "      <td>2</td>\n",
       "    </tr>\n",
       "    <tr>\n",
       "      <th>9</th>\n",
       "      <td>9</td>\n",
       "      <td>1/2</td>\n",
       "      <td>3</td>\n",
       "    </tr>\n",
       "  </tbody>\n",
       "</table>\n",
       "</div>"
      ],
      "text/plain": [
       "   line                        data  head\n",
       "0     0              Teika|Kuršu 32     0\n",
       "1     1                           2     1\n",
       "2     2                          43     2\n",
       "3     3                         1/2     3\n",
       "4     4                      Renov.     4\n",
       "5     5                   79,600  €     5\n",
       "6     6  centrs|Katrīnas d. 24 - K3     0\n",
       "7     7                           3     1\n",
       "8     8                          67     2\n",
       "9     9                         1/2     3"
      ]
     },
     "execution_count": 31,
     "metadata": {},
     "output_type": "execute_result"
    }
   ],
   "source": [
    "df_tmp.head(10)"
   ]
  },
  {
   "cell_type": "markdown",
   "id": "f6e24112-1cf5-40a6-84ca-047f62aa3dcc",
   "metadata": {},
   "source": [
    "Great! We now have a column index in the table, all that remains is to add a row index, for this we will use the `.cumcount()` method, it performs similar actions to the SQL window functions `count() over (partition by column1 group by column1)`"
   ]
  },
  {
   "cell_type": "code",
   "execution_count": 32,
   "id": "c433f98b-b986-46ec-aa33-0b730b604cfb",
   "metadata": {},
   "outputs": [],
   "source": [
    "df_tmp['group'] = df_tmp.groupby('head').cumcount()"
   ]
  },
  {
   "cell_type": "code",
   "execution_count": 35,
   "id": "6c6fa967-efa5-4639-b27c-d3c5b6c60980",
   "metadata": {},
   "outputs": [
    {
     "data": {
      "text/html": [
       "<div>\n",
       "<style scoped>\n",
       "    .dataframe tbody tr th:only-of-type {\n",
       "        vertical-align: middle;\n",
       "    }\n",
       "\n",
       "    .dataframe tbody tr th {\n",
       "        vertical-align: top;\n",
       "    }\n",
       "\n",
       "    .dataframe thead th {\n",
       "        text-align: right;\n",
       "    }\n",
       "</style>\n",
       "<table border=\"1\" class=\"dataframe\">\n",
       "  <thead>\n",
       "    <tr style=\"text-align: right;\">\n",
       "      <th></th>\n",
       "      <th>line</th>\n",
       "      <th>data</th>\n",
       "      <th>head</th>\n",
       "      <th>group</th>\n",
       "    </tr>\n",
       "  </thead>\n",
       "  <tbody>\n",
       "    <tr>\n",
       "      <th>0</th>\n",
       "      <td>0</td>\n",
       "      <td>Teika|Kuršu 32</td>\n",
       "      <td>0</td>\n",
       "      <td>0</td>\n",
       "    </tr>\n",
       "    <tr>\n",
       "      <th>1</th>\n",
       "      <td>1</td>\n",
       "      <td>2</td>\n",
       "      <td>1</td>\n",
       "      <td>0</td>\n",
       "    </tr>\n",
       "    <tr>\n",
       "      <th>2</th>\n",
       "      <td>2</td>\n",
       "      <td>43</td>\n",
       "      <td>2</td>\n",
       "      <td>0</td>\n",
       "    </tr>\n",
       "    <tr>\n",
       "      <th>3</th>\n",
       "      <td>3</td>\n",
       "      <td>1/2</td>\n",
       "      <td>3</td>\n",
       "      <td>0</td>\n",
       "    </tr>\n",
       "    <tr>\n",
       "      <th>4</th>\n",
       "      <td>4</td>\n",
       "      <td>Renov.</td>\n",
       "      <td>4</td>\n",
       "      <td>0</td>\n",
       "    </tr>\n",
       "    <tr>\n",
       "      <th>5</th>\n",
       "      <td>5</td>\n",
       "      <td>79,600  €</td>\n",
       "      <td>5</td>\n",
       "      <td>0</td>\n",
       "    </tr>\n",
       "    <tr>\n",
       "      <th>6</th>\n",
       "      <td>6</td>\n",
       "      <td>centrs|Katrīnas d. 24 - K3</td>\n",
       "      <td>0</td>\n",
       "      <td>1</td>\n",
       "    </tr>\n",
       "    <tr>\n",
       "      <th>7</th>\n",
       "      <td>7</td>\n",
       "      <td>3</td>\n",
       "      <td>1</td>\n",
       "      <td>1</td>\n",
       "    </tr>\n",
       "    <tr>\n",
       "      <th>8</th>\n",
       "      <td>8</td>\n",
       "      <td>67</td>\n",
       "      <td>2</td>\n",
       "      <td>1</td>\n",
       "    </tr>\n",
       "    <tr>\n",
       "      <th>9</th>\n",
       "      <td>9</td>\n",
       "      <td>1/2</td>\n",
       "      <td>3</td>\n",
       "      <td>1</td>\n",
       "    </tr>\n",
       "  </tbody>\n",
       "</table>\n",
       "</div>"
      ],
      "text/plain": [
       "   line                        data  head  group\n",
       "0     0              Teika|Kuršu 32     0      0\n",
       "1     1                           2     1      0\n",
       "2     2                          43     2      0\n",
       "3     3                         1/2     3      0\n",
       "4     4                      Renov.     4      0\n",
       "5     5                   79,600  €     5      0\n",
       "6     6  centrs|Katrīnas d. 24 - K3     0      1\n",
       "7     7                           3     1      1\n",
       "8     8                          67     2      1\n",
       "9     9                         1/2     3      1"
      ]
     },
     "execution_count": 35,
     "metadata": {},
     "output_type": "execute_result"
    }
   ],
   "source": [
    "df_tmp.head(10)"
   ]
  },
  {
   "cell_type": "markdown",
   "id": "4915adac-887b-4207-8027-871616760d51",
   "metadata": {},
   "source": [
    "let's assemble a readable view of our table"
   ]
  },
  {
   "cell_type": "code",
   "execution_count": 36,
   "id": "0b3446bf-8dad-41ac-8493-93bc72ed1196",
   "metadata": {},
   "outputs": [],
   "source": [
    "df = df_tmp.loc[df_tmp['head']==0][['group', 'data']]"
   ]
  },
  {
   "cell_type": "code",
   "execution_count": 38,
   "id": "336a06cb-f4c5-4c83-9864-e67eeaf72534",
   "metadata": {},
   "outputs": [],
   "source": [
    "df = df.merge(df_tmp.loc[df_tmp['head']==1][['group', 'data']], how='left', on='group', suffixes=('','_rooms'))\n",
    "df = df.merge(df_tmp.loc[df_tmp['head']==2][['group', 'data']], how='left', on='group', suffixes=('','_m2'))\n",
    "df = df.merge(df_tmp.loc[df_tmp['head']==3][['group', 'data']], how='left', on='group', suffixes=('','_floor'))\n",
    "df = df.merge(df_tmp.loc[df_tmp['head']==4][['group', 'data']], how='left', on='group', suffixes=('','_seria'))\n",
    "df = df.merge(df_tmp.loc[df_tmp['head']==5][['group', 'data']], how='left', on='group', suffixes=('','_price'))"
   ]
  },
  {
   "cell_type": "code",
   "execution_count": 39,
   "id": "0a7b91f7-cc42-4024-b863-731e492c77d9",
   "metadata": {},
   "outputs": [
    {
     "data": {
      "text/html": [
       "<div>\n",
       "<style scoped>\n",
       "    .dataframe tbody tr th:only-of-type {\n",
       "        vertical-align: middle;\n",
       "    }\n",
       "\n",
       "    .dataframe tbody tr th {\n",
       "        vertical-align: top;\n",
       "    }\n",
       "\n",
       "    .dataframe thead th {\n",
       "        text-align: right;\n",
       "    }\n",
       "</style>\n",
       "<table border=\"1\" class=\"dataframe\">\n",
       "  <thead>\n",
       "    <tr style=\"text-align: right;\">\n",
       "      <th></th>\n",
       "      <th>group</th>\n",
       "      <th>data</th>\n",
       "      <th>data_rooms</th>\n",
       "      <th>data_m2</th>\n",
       "      <th>data_floor</th>\n",
       "      <th>data_seria</th>\n",
       "      <th>data_price</th>\n",
       "    </tr>\n",
       "  </thead>\n",
       "  <tbody>\n",
       "    <tr>\n",
       "      <th>0</th>\n",
       "      <td>0</td>\n",
       "      <td>Teika|Kuršu 32</td>\n",
       "      <td>2</td>\n",
       "      <td>43</td>\n",
       "      <td>1/2</td>\n",
       "      <td>Renov.</td>\n",
       "      <td>79,600  €</td>\n",
       "    </tr>\n",
       "    <tr>\n",
       "      <th>1</th>\n",
       "      <td>1</td>\n",
       "      <td>centrs|Katrīnas d. 24 - K3</td>\n",
       "      <td>3</td>\n",
       "      <td>67</td>\n",
       "      <td>1/2</td>\n",
       "      <td>Staļina</td>\n",
       "      <td>98,500  €</td>\n",
       "    </tr>\n",
       "    <tr>\n",
       "      <th>2</th>\n",
       "      <td>2</td>\n",
       "      <td>centrs|Eksporta 8</td>\n",
       "      <td>4</td>\n",
       "      <td>235</td>\n",
       "      <td>2/2</td>\n",
       "      <td>Jaun.</td>\n",
       "      <td>380,000|  €</td>\n",
       "    </tr>\n",
       "    <tr>\n",
       "      <th>3</th>\n",
       "      <td>3</td>\n",
       "      <td>centrs|Bruņinieku 87</td>\n",
       "      <td>2</td>\n",
       "      <td>57</td>\n",
       "      <td>4/4</td>\n",
       "      <td>P. kara</td>\n",
       "      <td>119,800  €</td>\n",
       "    </tr>\n",
       "    <tr>\n",
       "      <th>4</th>\n",
       "      <td>4</td>\n",
       "      <td>Bieriņi|Ārlavas 5</td>\n",
       "      <td>2</td>\n",
       "      <td>70</td>\n",
       "      <td>1/1</td>\n",
       "      <td>Priv. m.</td>\n",
       "      <td>125,000  €</td>\n",
       "    </tr>\n",
       "  </tbody>\n",
       "</table>\n",
       "</div>"
      ],
      "text/plain": [
       "   group                        data data_rooms data_m2 data_floor data_seria  \\\n",
       "0      0              Teika|Kuršu 32          2      43        1/2     Renov.   \n",
       "1      1  centrs|Katrīnas d. 24 - K3          3      67        1/2    Staļina   \n",
       "2      2           centrs|Eksporta 8          4     235        2/2      Jaun.   \n",
       "3      3        centrs|Bruņinieku 87          2      57        4/4    P. kara   \n",
       "4      4           Bieriņi|Ārlavas 5          2      70        1/1   Priv. m.   \n",
       "\n",
       "    data_price  \n",
       "0    79,600  €  \n",
       "1    98,500  €  \n",
       "2  380,000|  €  \n",
       "3   119,800  €  \n",
       "4   125,000  €  "
      ]
     },
     "execution_count": 39,
     "metadata": {},
     "output_type": "execute_result"
    }
   ],
   "source": [
    "df.head()"
   ]
  },
  {
   "cell_type": "markdown",
   "id": "41147615-181a-4b17-8485-eac15a4f1382",
   "metadata": {},
   "source": [
    "We have downloaded our first data from the html page, but there is a problem, there are more pages on the site.\n",
    "\n",
    "So we will write a function to process and download data from all pages"
   ]
  },
  {
   "cell_type": "markdown",
   "id": "7cca4ff2-21fa-4647-ba8c-93f986a5feff",
   "metadata": {},
   "source": [
    "### update script"
   ]
  },
  {
   "cell_type": "markdown",
   "id": "386cce84-4df9-40c9-88ed-763751639f72",
   "metadata": {},
   "source": [
    "You've probably heard of such a thing as `DDoS` attacks, this is a type of attack by hackers on a resource in which cybercriminals create a continuous stream of requests from different sources that interfere with the server’s operation.\n",
    "\n",
    "One of the simplest ways to protect against such attacks is to limit the requests that we can send to the site, sometimes this volume is limited to 500 requests per second, and sometimes 50 per minute (depending on the server's rusers).\n",
    "\n",
    "In our case, we will not test sites for strength; our task is to obtain data without harming the operation of the site. To do this, we will use the new `time` library, with its help we can ask python to slow down requests by pausing between each one"
   ]
  },
  {
   "cell_type": "code",
   "execution_count": 40,
   "id": "25ac5266-19e8-40a9-85ee-b19288e9d336",
   "metadata": {},
   "outputs": [],
   "source": [
    "import time\n",
    "from tqdm.notebook import tqdm"
   ]
  },
  {
   "cell_type": "code",
   "execution_count": 41,
   "id": "7efee930-eaa6-4083-b1f0-49700451373d",
   "metadata": {},
   "outputs": [],
   "source": [
    "def load_data(link, time_sleep, page_num):\n",
    "    \n",
    "    # the method takes the time to wait in seconds\n",
    "    time.sleep(time_sleep)\n",
    "    \n",
    "    # a new page will be generated here\n",
    "    # if you pay attention to how the pages differ, looping through them won't be a problem\n",
    "    # https://www.ss.lv/lv/real-estate/flats/riga/all/hand_over/page48.html\n",
    "    # https://www.ss.lv/lv/real-estate/flats/riga/all/hand_over/page49.html\n",
    "    \n",
    "    link = link + 'page' + str(page_num) + '.html'\n",
    "    \n",
    "    # receive request\n",
    "    r = requests.get(link)\n",
    "    \n",
    "    # important, if the status returned is not 200, then you can exit the function\n",
    "    if r.status_code!=200:\n",
    "        print('Error status', r.status_code)\n",
    "        return \n",
    "    \n",
    "    # parse our data, all previously performed operations\n",
    "    soup = bs(r.text, \"html.parser\")\n",
    "    parsed_data = soup.find_all('td', class_='msga2-o pp6')\n",
    "    \n",
    "    page_array = []\n",
    "\n",
    "    i = 0\n",
    "    for data in parsed_data:\n",
    "        page_array.append([i, data.get_text(\"|\")])\n",
    "        i += 1\n",
    "\n",
    "    df_tmp = pd.DataFrame(page_array, columns=['line', 'data'])\n",
    "    df_tmp['head'] = df_tmp['line']%6\n",
    "    df_tmp['group'] = df_tmp.groupby('head').cumcount()\n",
    "    \n",
    "    \n",
    "    # collect our data into a single dataframe\n",
    "    df_page = df_tmp.loc[df_tmp['head']==0][['group', 'data']]       \n",
    "    df_page = df_page.merge(df_tmp.loc[df_tmp['head']==1][['group', 'data']], how='left', on='group', suffixes=('','_rooms'))\n",
    "    df_page = df_page.merge(df_tmp.loc[df_tmp['head']==2][['group', 'data']], how='left', on='group', suffixes=('','_m2'))\n",
    "    df_page = df_page.merge(df_tmp.loc[df_tmp['head']==3][['group', 'data']], how='left', on='group', suffixes=('','_floor'))\n",
    "    df_page = df_page.merge(df_tmp.loc[df_tmp['head']==4][['group', 'data']], how='left', on='group', suffixes=('','_seria'))\n",
    "    df_page = df_page.merge(df_tmp.loc[df_tmp['head']==5][['group', 'data']], how='left', on='group', suffixes=('','_price'))\n",
    "    \n",
    "    return df_page"
   ]
  },
  {
   "cell_type": "code",
   "execution_count": 42,
   "id": "c4f2fe28-a68f-49e5-92b9-aded2e7708b7",
   "metadata": {},
   "outputs": [],
   "source": [
    "# set the start URL\n",
    "URL_TEMPLATE = \"https://www.ss.lv/lv/real-estate/flats/riga/all/sell/\""
   ]
  },
  {
   "cell_type": "code",
   "execution_count": 43,
   "id": "c9225fdd-7c57-4701-af36-f7eaa9974847",
   "metadata": {},
   "outputs": [],
   "source": [
    "# do a test run using the parameters\n",
    "# our URL\n",
    "# set the waiting time between requests to 1 second\n",
    "# select the first page\n",
    "\n",
    "df = load_data(URL_TEMPLATE, 0.5, 1)"
   ]
  },
  {
   "cell_type": "code",
   "execution_count": 44,
   "id": "c0c538b5-20e9-4f27-87dc-4e5b20b4e743",
   "metadata": {},
   "outputs": [
    {
     "data": {
      "text/html": [
       "<div>\n",
       "<style scoped>\n",
       "    .dataframe tbody tr th:only-of-type {\n",
       "        vertical-align: middle;\n",
       "    }\n",
       "\n",
       "    .dataframe tbody tr th {\n",
       "        vertical-align: top;\n",
       "    }\n",
       "\n",
       "    .dataframe thead th {\n",
       "        text-align: right;\n",
       "    }\n",
       "</style>\n",
       "<table border=\"1\" class=\"dataframe\">\n",
       "  <thead>\n",
       "    <tr style=\"text-align: right;\">\n",
       "      <th></th>\n",
       "      <th>group</th>\n",
       "      <th>data</th>\n",
       "      <th>data_rooms</th>\n",
       "      <th>data_m2</th>\n",
       "      <th>data_floor</th>\n",
       "      <th>data_seria</th>\n",
       "      <th>data_price</th>\n",
       "    </tr>\n",
       "  </thead>\n",
       "  <tbody>\n",
       "    <tr>\n",
       "      <th>0</th>\n",
       "      <td>0</td>\n",
       "      <td>Ķengarags|Aglonas 29</td>\n",
       "      <td>2</td>\n",
       "      <td>45</td>\n",
       "      <td>5/5</td>\n",
       "      <td>Hrušč.</td>\n",
       "      <td>46,500  €</td>\n",
       "    </tr>\n",
       "    <tr>\n",
       "      <th>1</th>\n",
       "      <td>1</td>\n",
       "      <td>Maskavas priekšpilsēta|Lomonosova 12</td>\n",
       "      <td>2</td>\n",
       "      <td>46</td>\n",
       "      <td>4/5</td>\n",
       "      <td>Staļina</td>\n",
       "      <td>43,800|  €</td>\n",
       "    </tr>\n",
       "    <tr>\n",
       "      <th>2</th>\n",
       "      <td>2</td>\n",
       "      <td>centrs|Stabu 61</td>\n",
       "      <td>4</td>\n",
       "      <td>117</td>\n",
       "      <td>3/5</td>\n",
       "      <td>Renov.</td>\n",
       "      <td>159,400  €</td>\n",
       "    </tr>\n",
       "    <tr>\n",
       "      <th>3</th>\n",
       "      <td>3</td>\n",
       "      <td>centrs|Dainas 1</td>\n",
       "      <td>3</td>\n",
       "      <td>59</td>\n",
       "      <td>4/4</td>\n",
       "      <td>P. kara</td>\n",
       "      <td>106,000  €</td>\n",
       "    </tr>\n",
       "    <tr>\n",
       "      <th>4</th>\n",
       "      <td>4</td>\n",
       "      <td>Teika|Kuršu 32</td>\n",
       "      <td>2</td>\n",
       "      <td>43</td>\n",
       "      <td>1/2</td>\n",
       "      <td>Renov.</td>\n",
       "      <td>79,600  €</td>\n",
       "    </tr>\n",
       "  </tbody>\n",
       "</table>\n",
       "</div>"
      ],
      "text/plain": [
       "   group                                  data data_rooms data_m2 data_floor  \\\n",
       "0      0                  Ķengarags|Aglonas 29          2      45        5/5   \n",
       "1      1  Maskavas priekšpilsēta|Lomonosova 12          2      46        4/5   \n",
       "2      2                       centrs|Stabu 61          4     117        3/5   \n",
       "3      3                       centrs|Dainas 1          3      59        4/4   \n",
       "4      4                        Teika|Kuršu 32          2      43        1/2   \n",
       "\n",
       "  data_seria  data_price  \n",
       "0     Hrušč.   46,500  €  \n",
       "1    Staļina  43,800|  €  \n",
       "2     Renov.  159,400  €  \n",
       "3    P. kara  106,000  €  \n",
       "4     Renov.   79,600  €  "
      ]
     },
     "execution_count": 44,
     "metadata": {},
     "output_type": "execute_result"
    }
   ],
   "source": [
    "# the data looks fine, repeat the operation for 48 pages\n",
    "df.head()"
   ]
  },
  {
   "cell_type": "code",
   "execution_count": 45,
   "id": "37a593c1-5c18-4d23-a17c-ee4d08771135",
   "metadata": {},
   "outputs": [
    {
     "data": {
      "application/vnd.jupyter.widget-view+json": {
       "model_id": "f951abe9fc1b4dc0842d6a728e797ffc",
       "version_major": 2,
       "version_minor": 0
      },
      "text/plain": [
       "  0%|          | 0/50 [00:00<?, ?it/s]"
      ]
     },
     "metadata": {},
     "output_type": "display_data"
    }
   ],
   "source": [
    "# note. the limit is +1 page\n",
    "for i in tqdm(range(2,52)):\n",
    "    df  = pd.concat([df, load_data(URL_TEMPLATE, 0.5, i)])"
   ]
  },
  {
   "cell_type": "code",
   "execution_count": 46,
   "id": "c8e4b75f-7fd7-4038-ad1a-918ae37f8a6e",
   "metadata": {},
   "outputs": [
    {
     "data": {
      "text/plain": [
       "1530"
      ]
     },
     "execution_count": 46,
     "metadata": {},
     "output_type": "execute_result"
    }
   ],
   "source": [
    "# uploading sales data 1400+ data\n",
    "len(df)"
   ]
  },
  {
   "cell_type": "markdown",
   "id": "b1f7cb0b-aff9-4461-b0d9-c9e60bcdef6e",
   "metadata": {},
   "source": [
    "modify the results"
   ]
  },
  {
   "cell_type": "code",
   "execution_count": 47,
   "id": "8abf94e7-89c6-4d10-8f7e-c2adc6ff2e8b",
   "metadata": {},
   "outputs": [
    {
     "data": {
      "text/html": [
       "<div>\n",
       "<style scoped>\n",
       "    .dataframe tbody tr th:only-of-type {\n",
       "        vertical-align: middle;\n",
       "    }\n",
       "\n",
       "    .dataframe tbody tr th {\n",
       "        vertical-align: top;\n",
       "    }\n",
       "\n",
       "    .dataframe thead th {\n",
       "        text-align: right;\n",
       "    }\n",
       "</style>\n",
       "<table border=\"1\" class=\"dataframe\">\n",
       "  <thead>\n",
       "    <tr style=\"text-align: right;\">\n",
       "      <th></th>\n",
       "      <th>group</th>\n",
       "      <th>data</th>\n",
       "      <th>data_rooms</th>\n",
       "      <th>data_m2</th>\n",
       "      <th>data_floor</th>\n",
       "      <th>data_seria</th>\n",
       "      <th>data_price</th>\n",
       "    </tr>\n",
       "  </thead>\n",
       "  <tbody>\n",
       "    <tr>\n",
       "      <th>0</th>\n",
       "      <td>0</td>\n",
       "      <td>Ķengarags|Aglonas 29</td>\n",
       "      <td>2</td>\n",
       "      <td>45</td>\n",
       "      <td>5/5</td>\n",
       "      <td>Hrušč.</td>\n",
       "      <td>46,500  €</td>\n",
       "    </tr>\n",
       "    <tr>\n",
       "      <th>1</th>\n",
       "      <td>1</td>\n",
       "      <td>Maskavas priekšpilsēta|Lomonosova 12</td>\n",
       "      <td>2</td>\n",
       "      <td>46</td>\n",
       "      <td>4/5</td>\n",
       "      <td>Staļina</td>\n",
       "      <td>43,800|  €</td>\n",
       "    </tr>\n",
       "    <tr>\n",
       "      <th>2</th>\n",
       "      <td>2</td>\n",
       "      <td>centrs|Stabu 61</td>\n",
       "      <td>4</td>\n",
       "      <td>117</td>\n",
       "      <td>3/5</td>\n",
       "      <td>Renov.</td>\n",
       "      <td>159,400  €</td>\n",
       "    </tr>\n",
       "    <tr>\n",
       "      <th>3</th>\n",
       "      <td>3</td>\n",
       "      <td>centrs|Dainas 1</td>\n",
       "      <td>3</td>\n",
       "      <td>59</td>\n",
       "      <td>4/4</td>\n",
       "      <td>P. kara</td>\n",
       "      <td>106,000  €</td>\n",
       "    </tr>\n",
       "    <tr>\n",
       "      <th>4</th>\n",
       "      <td>4</td>\n",
       "      <td>Teika|Kuršu 32</td>\n",
       "      <td>2</td>\n",
       "      <td>43</td>\n",
       "      <td>1/2</td>\n",
       "      <td>Renov.</td>\n",
       "      <td>79,600  €</td>\n",
       "    </tr>\n",
       "  </tbody>\n",
       "</table>\n",
       "</div>"
      ],
      "text/plain": [
       "   group                                  data data_rooms data_m2 data_floor  \\\n",
       "0      0                  Ķengarags|Aglonas 29          2      45        5/5   \n",
       "1      1  Maskavas priekšpilsēta|Lomonosova 12          2      46        4/5   \n",
       "2      2                       centrs|Stabu 61          4     117        3/5   \n",
       "3      3                       centrs|Dainas 1          3      59        4/4   \n",
       "4      4                        Teika|Kuršu 32          2      43        1/2   \n",
       "\n",
       "  data_seria  data_price  \n",
       "0     Hrušč.   46,500  €  \n",
       "1    Staļina  43,800|  €  \n",
       "2     Renov.  159,400  €  \n",
       "3    P. kara  106,000  €  \n",
       "4     Renov.   79,600  €  "
      ]
     },
     "execution_count": 47,
     "metadata": {},
     "output_type": "execute_result"
    }
   ],
   "source": [
    "df.head()"
   ]
  },
  {
   "cell_type": "code",
   "execution_count": 48,
   "id": "e29add35-b0e2-4c52-8a05-dff80edad1f9",
   "metadata": {},
   "outputs": [],
   "source": [
    "# clear the data in data_price, remove '€','|' And ','\n",
    "df['data_price'] = df['data_price'].apply(lambda x: x.replace(' €','').replace('|','').replace(',',''))\n",
    "df['data_price'] = df['data_price'].astype('int64')"
   ]
  },
  {
   "cell_type": "code",
   "execution_count": 49,
   "id": "74998de0-9e2c-47ac-80b0-df555e76915c",
   "metadata": {},
   "outputs": [],
   "source": [
    "# divide district and street into two columns\n",
    "df[['data_district', 'data_street']] = df['data'].str.split(pat='|', n=1 , expand=True )"
   ]
  },
  {
   "cell_type": "code",
   "execution_count": 51,
   "id": "7611633d-d1b5-4af2-a863-2303a8d48b0d",
   "metadata": {},
   "outputs": [],
   "source": [
    "# divide floor and maximum floor into two columns\n",
    "df[['data_cur_floor', 'data_max_floor']] = df['data_floor'].str.split(pat='/', n=1 , expand=True )\n",
    "\n",
    "# df['data_cur_floor'] = df['data_cur_floor'].astype('int64')\n",
    "# df['data_max_floor'] = df['data_max_floor'].astype('int64')"
   ]
  },
  {
   "cell_type": "code",
   "execution_count": 52,
   "id": "9c03c85c-c24e-44dd-ae19-797447832fe7",
   "metadata": {},
   "outputs": [
    {
     "data": {
      "text/plain": [
       "array(['5', '4', '3', '1', '2', '8', '7', '10', '11', '9', '12', '6',\n",
       "       '15', '17', '16', '14', '1.00', '23', '19'], dtype=object)"
      ]
     },
     "execution_count": 52,
     "metadata": {},
     "output_type": "execute_result"
    }
   ],
   "source": [
    "df['data_cur_floor'].unique()"
   ]
  },
  {
   "cell_type": "code",
   "execution_count": 53,
   "id": "b5824561-15c1-4c0f-a9d3-9394a4c96f10",
   "metadata": {},
   "outputs": [
    {
     "data": {
      "text/plain": [
       "array(['5', '4', '2', '1', '9', '3', '12', '16', '10', '7', '6', '25',\n",
       "       '18', '8', '23', '22', '13', '24', '11', '15', '14'], dtype=object)"
      ]
     },
     "execution_count": 53,
     "metadata": {},
     "output_type": "execute_result"
    }
   ],
   "source": [
    "df['data_max_floor'].unique()"
   ]
  },
  {
   "cell_type": "code",
   "execution_count": 54,
   "id": "1aed5817-868e-42d5-887f-949aa13d266f",
   "metadata": {},
   "outputs": [],
   "source": [
    "df['data_cur_floor'] = np.where(df['data_cur_floor']=='1.00', 1,df['data_cur_floor'])"
   ]
  },
  {
   "cell_type": "code",
   "execution_count": 55,
   "id": "4a866be5-7963-4dfc-9c80-a69542bad6c0",
   "metadata": {},
   "outputs": [],
   "source": [
    "df['data_cur_floor'] = df['data_cur_floor'].astype('int64')\n",
    "df['data_max_floor'] = df['data_max_floor'].astype('int64')"
   ]
  },
  {
   "cell_type": "code",
   "execution_count": 57,
   "id": "c7498672-fa50-4589-b7c7-682cbb0fc50e",
   "metadata": {},
   "outputs": [
    {
     "data": {
      "text/plain": [
       "array(['2', '4', '3', '1', '6', '5', 'Citi'], dtype=object)"
      ]
     },
     "execution_count": 57,
     "metadata": {},
     "output_type": "execute_result"
    }
   ],
   "source": [
    "df['data_rooms'].unique()"
   ]
  },
  {
   "cell_type": "code",
   "execution_count": 58,
   "id": "aeed39d8-1d9f-4480-9482-9f454e110c94",
   "metadata": {},
   "outputs": [],
   "source": [
    "# df['data_rooms'] = df['data_rooms'].astype('int64')"
   ]
  },
  {
   "cell_type": "code",
   "execution_count": 59,
   "id": "7cff350e-3145-4323-9e93-7e912f07ee21",
   "metadata": {},
   "outputs": [],
   "source": [
    "df = df[['data_district','data_street','data_rooms','data_cur_floor','data_max_floor','data_m2','data_seria','data_price']]"
   ]
  },
  {
   "cell_type": "code",
   "execution_count": 60,
   "id": "361f2515-040b-455d-be13-812e7aea6665",
   "metadata": {},
   "outputs": [
    {
     "name": "stdout",
     "output_type": "stream",
     "text": [
      "<class 'pandas.core.frame.DataFrame'>\n",
      "Int64Index: 1530 entries, 0 to 29\n",
      "Data columns (total 8 columns):\n",
      " #   Column          Non-Null Count  Dtype \n",
      "---  ------          --------------  ----- \n",
      " 0   data_district   1530 non-null   object\n",
      " 1   data_street     1530 non-null   object\n",
      " 2   data_rooms      1530 non-null   object\n",
      " 3   data_cur_floor  1530 non-null   int64 \n",
      " 4   data_max_floor  1530 non-null   int64 \n",
      " 5   data_m2         1530 non-null   object\n",
      " 6   data_seria      1530 non-null   object\n",
      " 7   data_price      1530 non-null   int64 \n",
      "dtypes: int64(3), object(5)\n",
      "memory usage: 107.6+ KB\n"
     ]
    }
   ],
   "source": [
    "# our data\n",
    "df.info()"
   ]
  },
  {
   "cell_type": "code",
   "execution_count": 61,
   "id": "9f482a1c-1a04-4faf-b0af-99ac70ff4e10",
   "metadata": {},
   "outputs": [
    {
     "data": {
      "text/html": [
       "<div>\n",
       "<style scoped>\n",
       "    .dataframe tbody tr th:only-of-type {\n",
       "        vertical-align: middle;\n",
       "    }\n",
       "\n",
       "    .dataframe tbody tr th {\n",
       "        vertical-align: top;\n",
       "    }\n",
       "\n",
       "    .dataframe thead th {\n",
       "        text-align: right;\n",
       "    }\n",
       "</style>\n",
       "<table border=\"1\" class=\"dataframe\">\n",
       "  <thead>\n",
       "    <tr style=\"text-align: right;\">\n",
       "      <th></th>\n",
       "      <th>data_district</th>\n",
       "      <th>data_street</th>\n",
       "      <th>data_rooms</th>\n",
       "      <th>data_cur_floor</th>\n",
       "      <th>data_max_floor</th>\n",
       "      <th>data_m2</th>\n",
       "      <th>data_seria</th>\n",
       "      <th>data_price</th>\n",
       "    </tr>\n",
       "  </thead>\n",
       "  <tbody>\n",
       "    <tr>\n",
       "      <th>0</th>\n",
       "      <td>Ķengarags</td>\n",
       "      <td>Aglonas 29</td>\n",
       "      <td>2</td>\n",
       "      <td>5</td>\n",
       "      <td>5</td>\n",
       "      <td>45</td>\n",
       "      <td>Hrušč.</td>\n",
       "      <td>46500</td>\n",
       "    </tr>\n",
       "    <tr>\n",
       "      <th>1</th>\n",
       "      <td>Maskavas priekšpilsēta</td>\n",
       "      <td>Lomonosova 12</td>\n",
       "      <td>2</td>\n",
       "      <td>4</td>\n",
       "      <td>5</td>\n",
       "      <td>46</td>\n",
       "      <td>Staļina</td>\n",
       "      <td>43800</td>\n",
       "    </tr>\n",
       "    <tr>\n",
       "      <th>2</th>\n",
       "      <td>centrs</td>\n",
       "      <td>Stabu 61</td>\n",
       "      <td>4</td>\n",
       "      <td>3</td>\n",
       "      <td>5</td>\n",
       "      <td>117</td>\n",
       "      <td>Renov.</td>\n",
       "      <td>159400</td>\n",
       "    </tr>\n",
       "    <tr>\n",
       "      <th>3</th>\n",
       "      <td>centrs</td>\n",
       "      <td>Dainas 1</td>\n",
       "      <td>3</td>\n",
       "      <td>4</td>\n",
       "      <td>4</td>\n",
       "      <td>59</td>\n",
       "      <td>P. kara</td>\n",
       "      <td>106000</td>\n",
       "    </tr>\n",
       "    <tr>\n",
       "      <th>4</th>\n",
       "      <td>Teika</td>\n",
       "      <td>Kuršu 32</td>\n",
       "      <td>2</td>\n",
       "      <td>1</td>\n",
       "      <td>2</td>\n",
       "      <td>43</td>\n",
       "      <td>Renov.</td>\n",
       "      <td>79600</td>\n",
       "    </tr>\n",
       "  </tbody>\n",
       "</table>\n",
       "</div>"
      ],
      "text/plain": [
       "            data_district    data_street data_rooms  data_cur_floor  \\\n",
       "0               Ķengarags     Aglonas 29          2               5   \n",
       "1  Maskavas priekšpilsēta  Lomonosova 12          2               4   \n",
       "2                  centrs       Stabu 61          4               3   \n",
       "3                  centrs       Dainas 1          3               4   \n",
       "4                   Teika       Kuršu 32          2               1   \n",
       "\n",
       "   data_max_floor data_m2 data_seria  data_price  \n",
       "0               5      45     Hrušč.       46500  \n",
       "1               5      46    Staļina       43800  \n",
       "2               5     117     Renov.      159400  \n",
       "3               4      59    P. kara      106000  \n",
       "4               2      43     Renov.       79600  "
      ]
     },
     "execution_count": 61,
     "metadata": {},
     "output_type": "execute_result"
    }
   ],
   "source": [
    "df.head()"
   ]
  },
  {
   "cell_type": "markdown",
   "id": "85c18602-91af-45d1-9348-773242ed268c",
   "metadata": {},
   "source": [
    "# Variant 2"
   ]
  },
  {
   "cell_type": "markdown",
   "id": "d612b3da-3f9c-4c8b-b856-9d845834480a",
   "metadata": {},
   "source": [
    "If you go to each advertisement separately, you can find additional information; when building machine learning models, any information will be useful, we’ll try to get it"
   ]
  },
  {
   "cell_type": "markdown",
   "id": "f0693902-5ce3-490e-a586-20aa7edee4d3",
   "metadata": {},
   "source": [
    "<img src=\"./pictures/8.png\"  \n",
    "  width=\"800\"\n",
    "/>"
   ]
  },
  {
   "cell_type": "markdown",
   "id": "a1c85605-1e32-4e4c-89ff-dc0842d505ba",
   "metadata": {},
   "source": [
    "First of all, you need to pay attention to the URL that leads to this page and compare them with a couple of others\n",
    "\n",
    "- https://www.ss.lv/msg/ru/real-estate/flats/riga/centre/eixne.html\n",
    "- https://www.ss.lv/msg/ru/real-estate/flats/riga/imanta/iddkc.html\n",
    "- https://www.ss.lv/msg/ru/real-estate/flats/riga/mezhapark/idogx.html"
   ]
  },
  {
   "cell_type": "markdown",
   "id": "e6abb34a-ea10-4389-b54b-e6fdea7ed5dd",
   "metadata": {},
   "source": [
    "The pages we see are not numbered, and each region has its own directive, it doesn’t matter to go through everything, we will take all the links directly."
   ]
  },
  {
   "cell_type": "code",
   "execution_count": 62,
   "id": "67442433-e7b8-4544-8c39-f31034ed3333",
   "metadata": {},
   "outputs": [],
   "source": [
    "URL_TEMPLATE = \"https://www.ss.lv/lv/real-estate/flats/riga/all/hand_over/\""
   ]
  },
  {
   "cell_type": "code",
   "execution_count": 63,
   "id": "1ac1de0f-f901-4ffa-af26-84c38c0e5caa",
   "metadata": {},
   "outputs": [
    {
     "name": "stdout",
     "output_type": "stream",
     "text": [
      "200\n"
     ]
    }
   ],
   "source": [
    "r = requests.get(URL_TEMPLATE)\n",
    "print(r.status_code)"
   ]
  },
  {
   "cell_type": "markdown",
   "id": "1ca60cb4-31cd-4027-aac7-f9ffd2903674",
   "metadata": {},
   "source": [
    "this time we will look for links, they have the tag `a` and class `am`"
   ]
  },
  {
   "cell_type": "code",
   "execution_count": 64,
   "id": "5af1b1fb-bd04-4125-b6c6-12fa03b7b8a6",
   "metadata": {},
   "outputs": [],
   "source": [
    "soup = bs(r.text, \"html.parser\")\n",
    "parsed_data = soup.find_all('a', class_='am')"
   ]
  },
  {
   "cell_type": "code",
   "execution_count": 65,
   "id": "22f01d04-a9ee-443d-b2b0-8ee5ac7baff6",
   "metadata": {},
   "outputs": [
    {
     "data": {
      "text/plain": [
       "[<a class=\"am\" data=\"JUFCJTlBJUE0JTlCJThCJTg0JUJFZiU4OCVCMCU5NyVBOCU5RiU4RCU3RXplJThCJUE5JTlEJUE0JTlDJTg0JTdCcg==|xdtkTKB5R\" href=\"/msg/lv/real-estate/flats/riga/imanta/gloeh.html\" id=\"dm_53855608\">Saimnieks izīrē plašu, saulainu, energoefektīvu dzīvokli ar ideā</a>,\n",
       " <a class=\"am\" data=\"bndneSU4QSVDRSVBQSU3RG92aHolOEIlODYlQUUlN0RqJTdCY3IlOEMlODIlQTl3|6D1BZRyG\" href=\"/msg/lv/real-estate/flats/riga/agenskalns/eedmc.html\" id=\"dm_53877939\"><b>Īpašnieks izīrē mājīgu vienistabas dzīvokli īrniekam bez kaitīgi</b></a>]"
      ]
     },
     "execution_count": 65,
     "metadata": {},
     "output_type": "execute_result"
    }
   ],
   "source": [
    "parsed_data[:2]"
   ]
  },
  {
   "cell_type": "markdown",
   "id": "87c6e95b-af4b-449a-9fc1-64a3e96157aa",
   "metadata": {},
   "source": [
    "   "
   ]
  },
  {
   "cell_type": "markdown",
   "id": "6cc82c0c-24b9-44f1-b204-3f42fb8c2c4e",
   "metadata": {},
   "source": [
    "   "
   ]
  },
  {
   "cell_type": "markdown",
   "id": "f5bfbac0-9082-4441-8ad9-2e19272cf88e",
   "metadata": {},
   "source": [
    "the data we are interested in is stored in the `href` parameter, this parameter indicates the purpose of the link"
   ]
  },
  {
   "cell_type": "code",
   "execution_count": 66,
   "id": "13ad4b55-8675-4ad4-bd34-4fa31c709d2c",
   "metadata": {},
   "outputs": [
    {
     "data": {
      "text/plain": [
       "'/msg/lv/real-estate/flats/riga/imanta/gloeh.html'"
      ]
     },
     "execution_count": 66,
     "metadata": {},
     "output_type": "execute_result"
    }
   ],
   "source": [
    "parsed_data[0].get('href')"
   ]
  },
  {
   "cell_type": "markdown",
   "id": "c2794a9e-613a-4566-a386-c9cdc08c79b3",
   "metadata": {},
   "source": [
    "it's time to update our request and download all the links"
   ]
  },
  {
   "cell_type": "code",
   "execution_count": 67,
   "id": "5536125b-2aa7-4a34-a19f-84a0ffe479a1",
   "metadata": {},
   "outputs": [],
   "source": [
    "def get_link(link, time_sleep, page_num):\n",
    "    \n",
    "    time.sleep(time_sleep)\n",
    "    link = link + 'page' + str(page_num) + '.html'\n",
    "    r = requests.get(link)\n",
    "    \n",
    "    if r.status_code!=200:\n",
    "        return \n",
    "    \n",
    "    soup = bs(r.text, \"html.parser\")\n",
    "    parsed_data = soup.find_all('a', class_='am')\n",
    "    \n",
    "    pars_links = []\n",
    "    \n",
    "    for data in parsed_data:\n",
    "        pars_links.append(data.get('href'))\n",
    "        \n",
    "    return pars_links"
   ]
  },
  {
   "cell_type": "code",
   "execution_count": 68,
   "id": "961f3f2a-d42f-41ac-8b32-e4abb02e8452",
   "metadata": {},
   "outputs": [],
   "source": [
    "link_array = []\n",
    "URL_TEMPLATE = \"https://www.ss.lv/lv/real-estate/flats/riga/all/hand_over/\""
   ]
  },
  {
   "cell_type": "code",
   "execution_count": 69,
   "id": "43edc10b-ab9c-43e0-9202-143365d2ccaa",
   "metadata": {},
   "outputs": [
    {
     "data": {
      "application/vnd.jupyter.widget-view+json": {
       "model_id": "c72cce0aaba04bf19885f798c948000e",
       "version_major": 2,
       "version_minor": 0
      },
      "text/plain": [
       "  0%|          | 0/9 [00:00<?, ?it/s]"
      ]
     },
     "metadata": {},
     "output_type": "display_data"
    }
   ],
   "source": [
    "for i in tqdm(range(1,10)):\n",
    "    link_array = link_array + get_link(URL_TEMPLATE, 1, i)"
   ]
  },
  {
   "cell_type": "code",
   "execution_count": 70,
   "id": "07bfcb75-5b62-4f86-8d24-4958aa927016",
   "metadata": {},
   "outputs": [
    {
     "data": {
      "text/plain": [
       "['/msg/lv/real-estate/flats/riga/imanta/gloeh.html',\n",
       " '/msg/lv/real-estate/flats/riga/agenskalns/eedmc.html',\n",
       " '/msg/lv/real-estate/flats/riga/centre/gxglp.html',\n",
       " '/msg/lv/real-estate/flats/riga/centre/ajghx.html',\n",
       " '/msg/lv/real-estate/flats/riga/centre/adoxo.html',\n",
       " '/msg/lv/real-estate/flats/riga/vecriga/aejhb.html',\n",
       " '/msg/lv/real-estate/flats/riga/centre/dlcnh.html',\n",
       " '/msg/lv/real-estate/flats/riga/chiekurkalns/chigj.html',\n",
       " '/msg/lv/real-estate/flats/riga/kengarags/fbgmd.html',\n",
       " '/msg/lv/real-estate/flats/riga/centre/anmck.html']"
      ]
     },
     "execution_count": 70,
     "metadata": {},
     "output_type": "execute_result"
    }
   ],
   "source": [
    "link_array[:10]"
   ]
  },
  {
   "cell_type": "markdown",
   "id": "88693f3a-4be8-4ab6-9759-4a7bfaca7d6e",
   "metadata": {},
   "source": [
    "Now it remains to repeat the above operation for each page, let's see what the parser of one page will look like"
   ]
  },
  {
   "cell_type": "code",
   "execution_count": 71,
   "id": "2b95d3a2-ca62-4342-bc58-1ab393d92f4c",
   "metadata": {},
   "outputs": [],
   "source": [
    "# please note that only the domain remains from our URL, we will add the rest from saved links\n",
    "URL_TEMPLATE = \"https://www.ss.lv\""
   ]
  },
  {
   "cell_type": "code",
   "execution_count": 72,
   "id": "7259bc19-06d1-486f-931f-535bb67ef434",
   "metadata": {},
   "outputs": [],
   "source": [
    "URL_TEMPLATE += link_array[0]"
   ]
  },
  {
   "cell_type": "code",
   "execution_count": 73,
   "id": "41b40901-c5df-4634-9021-8dc45de64919",
   "metadata": {},
   "outputs": [
    {
     "name": "stdout",
     "output_type": "stream",
     "text": [
      "Error status 200\n"
     ]
    }
   ],
   "source": [
    "r = requests.get(URL_TEMPLATE)\n",
    "print('Error status', r.status_code)"
   ]
  },
  {
   "cell_type": "code",
   "execution_count": 74,
   "id": "0a5a89f9-cfd5-468b-b3e8-8ddc872cbbae",
   "metadata": {},
   "outputs": [],
   "source": [
    "soup = bs(r.text, \"html.parser\")\n",
    "# parsed_data = soup.find_all('td', class_='msga2-o pp6')"
   ]
  },
  {
   "cell_type": "code",
   "execution_count": 75,
   "id": "df8a826c-2297-4794-8ad4-22de58998b0f",
   "metadata": {},
   "outputs": [
    {
     "data": {
      "text/plain": [
       "[<td class=\"ads_opt\" id=\"tdo_20\" nowrap=\"\"><b>Rīga</b></td>,\n",
       " <td class=\"ads_opt\" id=\"tdo_856\" nowrap=\"\"><b>Imanta</b></td>,\n",
       " <td class=\"ads_opt\" id=\"tdo_11\" nowrap=\"\"><b>Kurzemes pr. 14</b> <span class=\"td15\">[<a class=\"ads_opt_link_map\" href=\"javascript:;\" id=\"mnu_map\" onclick=\"mnu('map',1,1,'/lv/gmap/fTgTeF4QAzt4FD4eFFM=.html?mode=1&amp;c=56.9568932, 24.0336084, 14');return false;\">Karte</a>]</span></td>,\n",
       " <td class=\"ads_opt\" id=\"tdo_1\" nowrap=\"\">2</td>,\n",
       " <td class=\"ads_opt\" id=\"tdo_3\" nowrap=\"\">49 m²</td>,\n",
       " <td class=\"ads_opt\" id=\"tdo_4\" nowrap=\"\">2/5</td>,\n",
       " <td class=\"ads_opt\" id=\"tdo_6\" nowrap=\"\">LT proj.</td>,\n",
       " <td class=\"ads_opt\" id=\"tdo_2\" nowrap=\"\">Mūra</td>,\n",
       " <td class=\"ads_opt\" id=\"tdo_1734\" nowrap=\"\">Balkons</td>]"
      ]
     },
     "execution_count": 75,
     "metadata": {},
     "output_type": "execute_result"
    }
   ],
   "source": [
    "parsed_data = soup.find_all('td', class_='ads_opt')\n",
    "parsed_data"
   ]
  },
  {
   "cell_type": "code",
   "execution_count": 76,
   "id": "e6923c54-0bcd-4193-b46c-624dbe15dac3",
   "metadata": {},
   "outputs": [
    {
     "name": "stdout",
     "output_type": "stream",
     "text": [
      "Rīga\n",
      "Imanta\n",
      "Kurzemes pr. 14| |[|Karte|]\n",
      "2\n",
      "49 m²\n",
      "2/5\n",
      "LT proj.\n",
      "Mūra\n",
      "Balkons\n"
     ]
    }
   ],
   "source": [
    "# received all data\n",
    "for i in parsed_data:\n",
    "    print(i.get_text(\"|\"))"
   ]
  },
  {
   "cell_type": "code",
   "execution_count": 77,
   "id": "52651a27-c3cd-4e01-b37f-ff7508160493",
   "metadata": {},
   "outputs": [
    {
     "name": "stdout",
     "output_type": "stream",
     "text": [
      "mnu('map',1,1,'/lv/gmap/fTgTeF4QAzt4FD4eFFM=.html?mode=1&c=56.9568932, 24.0336084, 14');return false;\n"
     ]
    }
   ],
   "source": [
    "# now let's try to get the card\n",
    "parsed_map = soup.find_all('a', class_='ads_opt_link_map')\n",
    "print(parsed_map[0]['onclick'])"
   ]
  },
  {
   "cell_type": "code",
   "execution_count": 78,
   "id": "5f390fb2-ea0b-4482-8f72-94322142aa0f",
   "metadata": {},
   "outputs": [
    {
     "data": {
      "text/plain": [
       "'\\n | \\r\\n\\r\\nSaimnieks izīrē plašu, saulainu, energoefektīvu dzīvokli ar ideālu lokāciju ilgtermiņā.  | \\r\\nJūsu ērtībai koridors ar koridora skapi, viesistaba ar dīvānu, guļamistaba ar balkonu un ietilpīgu sienas skapi, atsevišķs WC, vannas istaba ar dušu un veļas mašīnu, virtuve ar virtuves iekārtu un visu nepieciešamo sadzīves tehniku- trauku mašīna, gāzes plīts ar cepeškrāsni, tvaika nosūcējs.  | \\r\\nDzīvoklis ir pēc remonta. Sadzīves tehnika un santehnikas iekārtas jaunas.  | \\r\\nĒka, kurā atrodas dzīvoklis ir renovēta, ieguvusi balvu, kā energoefektīvākā māja Latvijā, dzīvoklī ir siltuma alokatori- mazi apkures rēķini. Par apkuri tiek maksāts tikai pēc patērētā.  | \\r\\nApsaimnieko biedrība, mazi komunālie rēķini.  | \\r\\nDomofons, bezmaksas stāvvieta pie mājas, metāla ārdurvis, koda atslēga, kopta tīra kāpņu telpa. Balkons ar skatu uz skaistu, zaļu iekšpagalmu.  | \\r\\nBlakus sabiedriskais transports un visa nepieciešamā infrastruktūra.  | \\r\\nOficiāls līgums ar iespēju deklarēties.  | \\r\\nLūdzu zvaniet, vienosimies par ērtāko apskates laiku.  | \\n | \\r\\nХозяин сдает просторную, солнечную, энергоэффективную квартиру с идеальным расположением на длительный срок.  | \\r\\nДля вашего удобства коридор с гардеробной, гостиная с диваном, спальня с балконом и вместительной гардеробной, отдельный туалет, ванная комната с душевой кабиной и стиральной машиной, кухня со всей необходимой бытовой техникой – посудомоечная машина, газовая плита с духовкой, вытяжка.  | \\r\\nКвартира после ремонта. Новая бытовая техника и сантехническое оборудование.  | \\r\\nДом, в котором находится квартира, отремонтирован, получил награду как самый энергоэффективный дом в Латвии, в квартире установлены распределители тепла - низкие счета за отопление. Отопление оплачивается только по факту потребления.  | \\r\\nУправляется жильцами, небольшие коммунальные платежи.  | \\r\\nДомафон, бесплатная парковка возле дома, входная металлическая дверь, кодовый ключ, ухоженная чистаялесничная площадка. Балкон с видом на красивый зеленый двор.  | \\r\\nРядом вся необходимая инфраструктура.  | \\r\\nОфициальный договор с возможностью декларирования. | Pilsēta: | Rīga | Rajons: | Imanta | Iela: | Kurzemes pr. 14 |   | [ | Karte | ] | Istabas: | 2 | Platība: | 49 m² | Stāvs: | 2/5 | Sērija: | LT proj. | Mājas tips: | Mūra | Ērtības: | Balkons | Cena: | 360 €/mēn. (7.35 €/m²)'"
      ]
     },
     "execution_count": 78,
     "metadata": {},
     "output_type": "execute_result"
    }
   ],
   "source": [
    "# and then we’ll get a description of the apartments\n",
    "parsed_text = soup.find_all('div', id='msg_div_msg')\n",
    "parsed_text[0].get_text(\" | \")\n",
    "\n",
    "# note that in the container id=msg_div_msg also captures data on the attributes that we have already taken,\n",
    "# this is due to the principle of nesting, our td tags are located in this container"
   ]
  },
  {
   "cell_type": "code",
   "execution_count": 79,
   "id": "dbf2dbe5-1538-4f4e-9229-05c5d8e50169",
   "metadata": {},
   "outputs": [
    {
     "data": {
      "text/plain": [
       "'360 €/mēn. (7.35 €/m²)'"
      ]
     },
     "execution_count": 79,
     "metadata": {},
     "output_type": "execute_result"
    }
   ],
   "source": [
    "# and what about the price\n",
    "parsed_price = soup.find_all('td', class_='ads_price')\n",
    "parsed_price[0].get_text()"
   ]
  },
  {
   "cell_type": "markdown",
   "id": "7bb448a5-7cc5-4eaf-9bc6-a41892f42e57",
   "metadata": {},
   "source": [
    "## update script"
   ]
  },
  {
   "cell_type": "code",
   "execution_count": 291,
   "id": "bbff725f-4587-40b4-936a-bea4dc90703c",
   "metadata": {},
   "outputs": [],
   "source": [
    "# Traditionally, we write what is executed more than 1 time in a function.\n",
    "# let's write a function to which we will pass the link. and all data in the form of an array will come as a response"
   ]
  },
  {
   "cell_type": "code",
   "execution_count": 80,
   "id": "0e61c30e-b7c3-443b-a437-f266824e07e4",
   "metadata": {},
   "outputs": [],
   "source": [
    "def get_data_link(url, time_sleep):\n",
    "    \n",
    "    page_array = []\n",
    "    time.sleep(time_sleep)\n",
    "    \n",
    "    # add to existing domain\n",
    "    link = \"https://www.ss.lv\"\n",
    "    link += url\n",
    "    \n",
    "    r = requests.get(link)\n",
    "    if r.status_code!=200:\n",
    "        return \n",
    "    \n",
    "    soup = bs(r.text, \"html.parser\")\n",
    "        \n",
    "    # data\n",
    "    parsed_data = soup.find_all('td', class_='ads_opt')   \n",
    "    # coordinates\n",
    "    parsed_map = soup.find_all('a', class_='ads_opt_link_map')   \n",
    "        \n",
    "    # price\n",
    "    parsed_price = soup.find_all('td', class_='ads_price')    \n",
    "    # description \n",
    "    parsed_text = soup.find_all('div', id='msg_div_msg')\n",
    "    \n",
    "    \n",
    "    for data in parsed_data:\n",
    "        page_array.append(data.get_text(\"|\"))\n",
    "\n",
    "    if len(parsed_map)==1:\n",
    "        page_array.append(parsed_map[0]['onclick'])\n",
    "    else:\n",
    "        page_array.append('')\n",
    "    \n",
    "    page_array.append(parsed_price[0].get_text())       \n",
    "    page_array.append(parsed_text[0].get_text(\" | \"))\n",
    "    \n",
    "    return page_array"
   ]
  },
  {
   "cell_type": "code",
   "execution_count": 24,
   "id": "69de9c3a-dddf-4684-abff-a40eb398a276",
   "metadata": {},
   "outputs": [],
   "source": [
    "# data_array = []\n",
    "\n",
    "# data_array.append(get_data_link(link_array[447], 1))"
   ]
  },
  {
   "cell_type": "code",
   "execution_count": 25,
   "id": "c062ecab-15a6-4d87-b89f-3d41822b3d84",
   "metadata": {},
   "outputs": [],
   "source": [
    "# data_array"
   ]
  },
  {
   "cell_type": "code",
   "execution_count": 81,
   "id": "bc42a8d7-61b3-467a-a257-50d2b9f8085e",
   "metadata": {},
   "outputs": [
    {
     "data": {
      "application/vnd.jupyter.widget-view+json": {
       "model_id": "371b59eafaf3490f9c269e8ba9426d29",
       "version_major": 2,
       "version_minor": 0
      },
      "text/plain": [
       "  0%|          | 0/270 [00:00<?, ?it/s]"
      ]
     },
     "metadata": {},
     "output_type": "display_data"
    }
   ],
   "source": [
    "# write down all the data\n",
    "data_array = []\n",
    "\n",
    "for links in tqdm(link_array):\n",
    "    # we will have 1470 requests. quite a lot, sometimes it is better to increase the waiting time than to get banned\n",
    "    # in our case, parsing + uploading (with timeout) takes ~1.8 seconds, this is usually enough\n",
    "    # from experience I can say that on average they set up to 500 iterations per minute or 8.3 per second\n",
    "    data_array.append(get_data_link(links, 0.25))"
   ]
  },
  {
   "cell_type": "code",
   "execution_count": 106,
   "id": "8c26fb14-4b1f-4a90-ba12-3a54c2ab544f",
   "metadata": {},
   "outputs": [],
   "source": [
    "# data_array[10]"
   ]
  },
  {
   "cell_type": "code",
   "execution_count": 108,
   "id": "246c4af1-3f90-466a-9ad7-0220bf9fe898",
   "metadata": {},
   "outputs": [],
   "source": [
    "# part of the data contains an additional “convenience” field, add a line to generate df\n",
    "# in the data part there is an additional field \"Kadastra numurs\", add a line to generate df\n",
    "data_array_upd = []\n",
    "\n",
    "for i in data_array:\n",
    "    if len(i)==11:\n",
    "        i.insert(8, '')\n",
    "    if len(i)==12:\n",
    "        i.insert(8, '')\n",
    "    data_array_upd.append(i)\n",
    "\n",
    "data_array_upd_1 = []\n",
    "for i in data_array_upd:\n",
    "    if len(i)==12:\n",
    "        i.insert(8, '')\n",
    "    data_array_upd_1.append(i)\n",
    "    \n",
    "    "
   ]
  },
  {
   "cell_type": "code",
   "execution_count": 110,
   "id": "6628148d-6eb0-46b8-997e-fb352895e775",
   "metadata": {},
   "outputs": [],
   "source": [
    "data_array_upd = data_array_upd_1"
   ]
  },
  {
   "cell_type": "code",
   "execution_count": 112,
   "id": "0b26c3be-44fd-4778-894f-82540a8edbfe",
   "metadata": {},
   "outputs": [],
   "source": [
    "df = pd.DataFrame(data_array_upd, columns=['city', 'district','street','rooms','area','floor','seria','house_type','kadastr_numb','facilities', 'map','price','all_data'])"
   ]
  },
  {
   "cell_type": "code",
   "execution_count": 113,
   "id": "8dea4e1f-70b1-44e1-8666-9fa2715cf098",
   "metadata": {},
   "outputs": [
    {
     "data": {
      "text/html": [
       "<div>\n",
       "<style scoped>\n",
       "    .dataframe tbody tr th:only-of-type {\n",
       "        vertical-align: middle;\n",
       "    }\n",
       "\n",
       "    .dataframe tbody tr th {\n",
       "        vertical-align: top;\n",
       "    }\n",
       "\n",
       "    .dataframe thead th {\n",
       "        text-align: right;\n",
       "    }\n",
       "</style>\n",
       "<table border=\"1\" class=\"dataframe\">\n",
       "  <thead>\n",
       "    <tr style=\"text-align: right;\">\n",
       "      <th></th>\n",
       "      <th>city</th>\n",
       "      <th>district</th>\n",
       "      <th>street</th>\n",
       "      <th>rooms</th>\n",
       "      <th>area</th>\n",
       "      <th>floor</th>\n",
       "      <th>seria</th>\n",
       "      <th>house_type</th>\n",
       "      <th>kadastr_numb</th>\n",
       "      <th>facilities</th>\n",
       "      <th>map</th>\n",
       "      <th>price</th>\n",
       "      <th>all_data</th>\n",
       "    </tr>\n",
       "  </thead>\n",
       "  <tbody>\n",
       "    <tr>\n",
       "      <th>104</th>\n",
       "      <td>Rīga</td>\n",
       "      <td>centrs</td>\n",
       "      <td>Elizabetes 10b| |[|Karte|]</td>\n",
       "      <td>2</td>\n",
       "      <td>92 m²</td>\n",
       "      <td>3/5/lifts</td>\n",
       "      <td>P. kara</td>\n",
       "      <td>Mūra</td>\n",
       "      <td></td>\n",
       "      <td>Balkons</td>\n",
       "      <td>mnu('map',1,1,'/lv/gmap/fTgTeF4QAzt4FD4eFFM=.h...</td>\n",
       "      <td>785 €/mēn. (8.53 €/m²)</td>\n",
       "      <td>\\n | \\r\\n\\r\\nKlusais centrs jau izsenis pazīst...</td>\n",
       "    </tr>\n",
       "    <tr>\n",
       "      <th>59</th>\n",
       "      <td>Rīga</td>\n",
       "      <td>Purvciems</td>\n",
       "      <td>Ūnijas 76a| |[|Karte|]</td>\n",
       "      <td>2</td>\n",
       "      <td>38 m²</td>\n",
       "      <td>1/5</td>\n",
       "      <td>LT proj.</td>\n",
       "      <td>Paneļu</td>\n",
       "      <td></td>\n",
       "      <td>Parkošanas vieta</td>\n",
       "      <td>mnu('map',1,1,'/lv/gmap/fTgTeF4QAzt4FD4eFFM=.h...</td>\n",
       "      <td>300 €/mēn. (7.89 €/m²)</td>\n",
       "      <td>\\n | \\r\\n\\r\\nIlgtermiņā tiek izīrēts.  | \\n | ...</td>\n",
       "    </tr>\n",
       "  </tbody>\n",
       "</table>\n",
       "</div>"
      ],
      "text/plain": [
       "     city   district                      street rooms   area      floor  \\\n",
       "104  Rīga     centrs  Elizabetes 10b| |[|Karte|]     2  92 m²  3/5/lifts   \n",
       "59   Rīga  Purvciems      Ūnijas 76a| |[|Karte|]     2  38 m²        1/5   \n",
       "\n",
       "        seria house_type kadastr_numb        facilities  \\\n",
       "104   P. kara       Mūra                        Balkons   \n",
       "59   LT proj.     Paneļu               Parkošanas vieta   \n",
       "\n",
       "                                                   map  \\\n",
       "104  mnu('map',1,1,'/lv/gmap/fTgTeF4QAzt4FD4eFFM=.h...   \n",
       "59   mnu('map',1,1,'/lv/gmap/fTgTeF4QAzt4FD4eFFM=.h...   \n",
       "\n",
       "                      price                                           all_data  \n",
       "104  785 €/mēn. (8.53 €/m²)  \\n | \\r\\n\\r\\nKlusais centrs jau izsenis pazīst...  \n",
       "59   300 €/mēn. (7.89 €/m²)  \\n | \\r\\n\\r\\nIlgtermiņā tiek izīrēts.  | \\n | ...  "
      ]
     },
     "execution_count": 113,
     "metadata": {},
     "output_type": "execute_result"
    }
   ],
   "source": [
    "df.sample(2)"
   ]
  },
  {
   "cell_type": "code",
   "execution_count": 140,
   "id": "df499548-f1ea-426a-be7d-cd9c871103e9",
   "metadata": {},
   "outputs": [],
   "source": [
    "# let's start cleaning the data"
   ]
  },
  {
   "cell_type": "code",
   "execution_count": 114,
   "id": "4251566f-f376-46dd-ba2d-d125b83871cd",
   "metadata": {},
   "outputs": [
    {
     "data": {
      "text/plain": [
       "array(['Rīga'], dtype=object)"
      ]
     },
     "execution_count": 114,
     "metadata": {},
     "output_type": "execute_result"
    }
   ],
   "source": [
    "df['city'].unique()"
   ]
  },
  {
   "cell_type": "code",
   "execution_count": 115,
   "id": "5fb501db-4fae-436c-b38c-12a6ee4a5ee5",
   "metadata": {},
   "outputs": [
    {
     "data": {
      "text/plain": [
       "array(['Imanta', 'Āgenskalns', 'centrs', 'Vecrīga', 'Čiekurkalns',\n",
       "       'Ķengarags', 'Ziepniekkalns', 'Pļavnieki', 'Krasta r-ns',\n",
       "       'Šampēteris-Pleskodāle', 'Zolitūde', 'Iļģuciems',\n",
       "       'Maskavas priekšpilsēta', 'Dzegužkalns', 'Teika', 'Purvciems',\n",
       "       'Vecmīlgrāvis', 'Jugla', 'Mežciems', 'Mežaparks', 'Sarkandaugava',\n",
       "       'Dārzciems', 'Mangaļi', 'Zasulauks', 'Vecāķi', 'Bolderāja',\n",
       "       'Torņakalns', 'Bieriņi', 'Klīversala', 'Jaunciems', 'Vecdaugava'],\n",
       "      dtype=object)"
      ]
     },
     "execution_count": 115,
     "metadata": {},
     "output_type": "execute_result"
    }
   ],
   "source": [
    "df['district'].unique()"
   ]
  },
  {
   "cell_type": "code",
   "execution_count": 116,
   "id": "57050feb-bdf2-4918-8557-e62b7095c5df",
   "metadata": {},
   "outputs": [],
   "source": [
    "df[['data_street', 'map_link']] = df['street'].str.split(pat='|', n=1 , expand=True )"
   ]
  },
  {
   "cell_type": "code",
   "execution_count": 117,
   "id": "377e4a52-431f-4657-9b51-9f557665e4a5",
   "metadata": {},
   "outputs": [],
   "source": [
    "df = df.drop(['city','map_link','street','kadastr_numb'], axis=1)"
   ]
  },
  {
   "cell_type": "code",
   "execution_count": 119,
   "id": "f6e9ba3b-d331-4cef-9d60-495ada32bce4",
   "metadata": {},
   "outputs": [
    {
     "data": {
      "text/html": [
       "<div>\n",
       "<style scoped>\n",
       "    .dataframe tbody tr th:only-of-type {\n",
       "        vertical-align: middle;\n",
       "    }\n",
       "\n",
       "    .dataframe tbody tr th {\n",
       "        vertical-align: top;\n",
       "    }\n",
       "\n",
       "    .dataframe thead th {\n",
       "        text-align: right;\n",
       "    }\n",
       "</style>\n",
       "<table border=\"1\" class=\"dataframe\">\n",
       "  <thead>\n",
       "    <tr style=\"text-align: right;\">\n",
       "      <th></th>\n",
       "      <th>district</th>\n",
       "      <th>rooms</th>\n",
       "      <th>area</th>\n",
       "      <th>floor</th>\n",
       "      <th>seria</th>\n",
       "      <th>house_type</th>\n",
       "      <th>facilities</th>\n",
       "      <th>map</th>\n",
       "      <th>price</th>\n",
       "      <th>all_data</th>\n",
       "      <th>data_street</th>\n",
       "    </tr>\n",
       "  </thead>\n",
       "  <tbody>\n",
       "    <tr>\n",
       "      <th>0</th>\n",
       "      <td>Imanta</td>\n",
       "      <td>2</td>\n",
       "      <td>49 m²</td>\n",
       "      <td>2/5</td>\n",
       "      <td>LT proj.</td>\n",
       "      <td>Mūra</td>\n",
       "      <td>Balkons</td>\n",
       "      <td>mnu('map',1,1,'/lv/gmap/fTgTeF4QAzt4FD4eFFM=.h...</td>\n",
       "      <td>360 €/mēn. (7.35 €/m²)</td>\n",
       "      <td>\\n | \\r\\n\\r\\nSaimnieks izīrē plašu, saulainu, ...</td>\n",
       "      <td>Kurzemes pr. 14</td>\n",
       "    </tr>\n",
       "    <tr>\n",
       "      <th>1</th>\n",
       "      <td>Āgenskalns</td>\n",
       "      <td>1</td>\n",
       "      <td>22 m²</td>\n",
       "      <td>1/2</td>\n",
       "      <td>P. kara</td>\n",
       "      <td>Koka</td>\n",
       "      <td></td>\n",
       "      <td>mnu('map',1,1,'/lv/gmap/fTgTeF4QAzt4FD4eFFM=.h...</td>\n",
       "      <td>200 €/mēn. (9.09 €/m²)</td>\n",
       "      <td>\\n | \\r\\n\\r\\nĪpašnieks izīrē mājīgu vienistaba...</td>\n",
       "      <td>Strazdu 8</td>\n",
       "    </tr>\n",
       "  </tbody>\n",
       "</table>\n",
       "</div>"
      ],
      "text/plain": [
       "     district rooms   area floor     seria house_type facilities  \\\n",
       "0      Imanta     2  49 m²   2/5  LT proj.       Mūra    Balkons   \n",
       "1  Āgenskalns     1  22 m²   1/2   P. kara       Koka              \n",
       "\n",
       "                                                 map                   price  \\\n",
       "0  mnu('map',1,1,'/lv/gmap/fTgTeF4QAzt4FD4eFFM=.h...  360 €/mēn. (7.35 €/m²)   \n",
       "1  mnu('map',1,1,'/lv/gmap/fTgTeF4QAzt4FD4eFFM=.h...  200 €/mēn. (9.09 €/m²)   \n",
       "\n",
       "                                            all_data      data_street  \n",
       "0  \\n | \\r\\n\\r\\nSaimnieks izīrē plašu, saulainu, ...  Kurzemes pr. 14  \n",
       "1  \\n | \\r\\n\\r\\nĪpašnieks izīrē mājīgu vienistaba...        Strazdu 8  "
      ]
     },
     "execution_count": 119,
     "metadata": {},
     "output_type": "execute_result"
    }
   ],
   "source": [
    "df.head(2)"
   ]
  },
  {
   "cell_type": "code",
   "execution_count": 120,
   "id": "38e76b73-5b59-4b40-b5cf-2273d384c437",
   "metadata": {},
   "outputs": [],
   "source": [
    "df[['cur_floor', 'max_floor']] = df['floor'].str.split(pat='/', n=1 , expand=True )"
   ]
  },
  {
   "cell_type": "code",
   "execution_count": 121,
   "id": "1e1334ed-879e-4cc1-81ff-283f8e0f5d88",
   "metadata": {},
   "outputs": [],
   "source": [
    "df = df.drop(['floor'], axis=1)"
   ]
  },
  {
   "cell_type": "code",
   "execution_count": 122,
   "id": "faf12933-35bd-4027-9891-9fb20c77dd40",
   "metadata": {},
   "outputs": [],
   "source": [
    "def get_cord(row):\n",
    "    \n",
    "    #mnu('map',1,1,'/lv/gmap/fTgTeF4QAzt4FD4eFFM=.html?mode=1&c=56.9568932, 24.0336084, 14');return false;\n",
    "    \n",
    "    # looking for a starting point\n",
    "    point_start = row['map'].find('c=') + 2\n",
    "    \n",
    "    first_coma = row['map'][point_start:].find(',') + 1\n",
    "    second_coma = row['map'][point_start+first_coma:].find(',')\n",
    "    \n",
    "    cord = row['map'][point_start:point_start+first_coma+second_coma]\n",
    "    \n",
    "    return cord    "
   ]
  },
  {
   "cell_type": "code",
   "execution_count": 123,
   "id": "0feecee0-37cf-4dad-9109-7f9ad3227e53",
   "metadata": {},
   "outputs": [],
   "source": [
    "df['cord_map'] = df.apply(get_cord, axis=1)"
   ]
  },
  {
   "cell_type": "code",
   "execution_count": 124,
   "id": "96ae95bf-b3dc-4e1c-8dc3-df8fa99a165a",
   "metadata": {},
   "outputs": [],
   "source": [
    "df[['len', 'lon']] = df['cord_map'].str.split(pat=',', n=1 , expand=True )\n",
    "df = df.drop(['cord_map'], axis=1)\n",
    "df = df.drop(['map'], axis=1)"
   ]
  },
  {
   "cell_type": "code",
   "execution_count": 125,
   "id": "f1e8015f-c2e8-4ed3-a0fb-8f4b8ebd03e6",
   "metadata": {},
   "outputs": [
    {
     "data": {
      "text/html": [
       "<div>\n",
       "<style scoped>\n",
       "    .dataframe tbody tr th:only-of-type {\n",
       "        vertical-align: middle;\n",
       "    }\n",
       "\n",
       "    .dataframe tbody tr th {\n",
       "        vertical-align: top;\n",
       "    }\n",
       "\n",
       "    .dataframe thead th {\n",
       "        text-align: right;\n",
       "    }\n",
       "</style>\n",
       "<table border=\"1\" class=\"dataframe\">\n",
       "  <thead>\n",
       "    <tr style=\"text-align: right;\">\n",
       "      <th></th>\n",
       "      <th>district</th>\n",
       "      <th>rooms</th>\n",
       "      <th>area</th>\n",
       "      <th>seria</th>\n",
       "      <th>house_type</th>\n",
       "      <th>facilities</th>\n",
       "      <th>price</th>\n",
       "      <th>all_data</th>\n",
       "      <th>data_street</th>\n",
       "      <th>cur_floor</th>\n",
       "      <th>max_floor</th>\n",
       "      <th>len</th>\n",
       "      <th>lon</th>\n",
       "    </tr>\n",
       "  </thead>\n",
       "  <tbody>\n",
       "    <tr>\n",
       "      <th>0</th>\n",
       "      <td>Imanta</td>\n",
       "      <td>2</td>\n",
       "      <td>49 m²</td>\n",
       "      <td>LT proj.</td>\n",
       "      <td>Mūra</td>\n",
       "      <td>Balkons</td>\n",
       "      <td>360 €/mēn. (7.35 €/m²)</td>\n",
       "      <td>\\n | \\r\\n\\r\\nSaimnieks izīrē plašu, saulainu, ...</td>\n",
       "      <td>Kurzemes pr. 14</td>\n",
       "      <td>2</td>\n",
       "      <td>5</td>\n",
       "      <td>56.9568932</td>\n",
       "      <td>24.0336084</td>\n",
       "    </tr>\n",
       "    <tr>\n",
       "      <th>1</th>\n",
       "      <td>Āgenskalns</td>\n",
       "      <td>1</td>\n",
       "      <td>22 m²</td>\n",
       "      <td>P. kara</td>\n",
       "      <td>Koka</td>\n",
       "      <td></td>\n",
       "      <td>200 €/mēn. (9.09 €/m²)</td>\n",
       "      <td>\\n | \\r\\n\\r\\nĪpašnieks izīrē mājīgu vienistaba...</td>\n",
       "      <td>Strazdu 8</td>\n",
       "      <td>1</td>\n",
       "      <td>2</td>\n",
       "      <td>56.9389931</td>\n",
       "      <td>24.0778974</td>\n",
       "    </tr>\n",
       "  </tbody>\n",
       "</table>\n",
       "</div>"
      ],
      "text/plain": [
       "     district rooms   area     seria house_type facilities  \\\n",
       "0      Imanta     2  49 m²  LT proj.       Mūra    Balkons   \n",
       "1  Āgenskalns     1  22 m²   P. kara       Koka              \n",
       "\n",
       "                    price                                           all_data  \\\n",
       "0  360 €/mēn. (7.35 €/m²)  \\n | \\r\\n\\r\\nSaimnieks izīrē plašu, saulainu, ...   \n",
       "1  200 €/mēn. (9.09 €/m²)  \\n | \\r\\n\\r\\nĪpašnieks izīrē mājīgu vienistaba...   \n",
       "\n",
       "       data_street cur_floor max_floor         len          lon  \n",
       "0  Kurzemes pr. 14         2         5  56.9568932   24.0336084  \n",
       "1        Strazdu 8         1         2  56.9389931   24.0778974  "
      ]
     },
     "execution_count": 125,
     "metadata": {},
     "output_type": "execute_result"
    }
   ],
   "source": [
    "df.head(2)"
   ]
  },
  {
   "cell_type": "code",
   "execution_count": 126,
   "id": "cc0fb3f3-bcd7-4298-aace-4bef91a30f84",
   "metadata": {},
   "outputs": [],
   "source": [
    "df['area'] = df['area'].apply(lambda x: x.replace(' m²',''))"
   ]
  },
  {
   "cell_type": "code",
   "execution_count": 127,
   "id": "bb57d4a9-767e-4520-aee7-33902deedb6e",
   "metadata": {},
   "outputs": [],
   "source": [
    "df[['price_eur', 'else_price']] = df['price'].str.split(pat='(', n=1 , expand=True )"
   ]
  },
  {
   "cell_type": "code",
   "execution_count": 128,
   "id": "ce8cfdf5-1316-4348-ba0a-85b1910e93cb",
   "metadata": {},
   "outputs": [],
   "source": [
    "df = df.drop(['price','else_price'], axis=1)"
   ]
  },
  {
   "cell_type": "code",
   "execution_count": 129,
   "id": "9c545d77-ca96-44b1-9869-8d56959e9914",
   "metadata": {},
   "outputs": [
    {
     "data": {
      "text/plain": [
       "array(['5', '2', '7/lifts', '23', '4', '6/lifts', '6', '5/lifts',\n",
       "       '9/lifts', '1', '3', '11/lifts', '10/lifts', '9', '30/lifts',\n",
       "       '23/lifts', '4/lifts', '8', '7', '12/lifts', '8/lifts', '24/lifts',\n",
       "       '16/lifts', '12'], dtype=object)"
      ]
     },
     "execution_count": 129,
     "metadata": {},
     "output_type": "execute_result"
    }
   ],
   "source": [
    "df['max_floor'].unique()"
   ]
  },
  {
   "cell_type": "code",
   "execution_count": 130,
   "id": "2a39acb9-dc1b-4220-8303-2e4d80309570",
   "metadata": {},
   "outputs": [],
   "source": [
    "df[['total_floor', 'lift']] = df['max_floor'].str.split(pat='/', n=1 , expand=True )\n",
    "df = df.drop(['max_floor'], axis=1)"
   ]
  },
  {
   "cell_type": "code",
   "execution_count": 131,
   "id": "6c391730-fff9-4026-8868-1ba572ae225b",
   "metadata": {},
   "outputs": [],
   "source": [
    "df[['price', 'currency']] = df['price_eur'].str.split(pat=' €/', n=1 , expand=True )"
   ]
  },
  {
   "cell_type": "code",
   "execution_count": 132,
   "id": "ecb88dbe-4f67-4a11-a452-3e7dd59686f9",
   "metadata": {},
   "outputs": [],
   "source": [
    "df = df.drop(['price_eur'], axis=1)"
   ]
  },
  {
   "cell_type": "code",
   "execution_count": 133,
   "id": "88090d56-418e-4a01-ae88-468c118a9c81",
   "metadata": {},
   "outputs": [],
   "source": [
    "df['price'] = df['price'].apply(lambda x: x.replace(' ',''))"
   ]
  },
  {
   "cell_type": "code",
   "execution_count": 134,
   "id": "d759df78-5a0c-4e83-96b8-bec3f61d998d",
   "metadata": {},
   "outputs": [],
   "source": [
    "df['lon'] = df['lon'].fillna('-1')\n",
    "df['len'] = df['len'].fillna('-1')\n",
    "\n",
    "df.loc[df['len']=='', 'len'] = '-1'\n",
    "df.loc[df['lon']=='', 'lon'] = '-1'"
   ]
  },
  {
   "cell_type": "code",
   "execution_count": 135,
   "id": "4c5cf334-6789-48b1-8f5c-abcf326af431",
   "metadata": {
    "tags": []
   },
   "outputs": [],
   "source": [
    "df['len'] = df['len'].apply(lambda x: x.replace(' ',''))\n",
    "df['lon'] = df['lon'].apply(lambda x: x.replace(' ',''))"
   ]
  },
  {
   "cell_type": "code",
   "execution_count": 136,
   "id": "ae7f63a7-b275-4871-82d8-98448433ad18",
   "metadata": {},
   "outputs": [],
   "source": [
    "df = df[['district','data_street','rooms','area','price','cur_floor','total_floor', 'lift', 'seria','house_type','facilities','len','lon','all_data']]"
   ]
  },
  {
   "cell_type": "code",
   "execution_count": 138,
   "id": "8a6f12f5-0e72-47ab-8f62-ad1ba1967c19",
   "metadata": {},
   "outputs": [],
   "source": [
    "# df['rooms'] = df['rooms'].astype('int64')\n",
    "df['area'] = df['area'].astype('float64')\n",
    "df['price'] = df['price'].astype('int64')\n",
    "df['cur_floor'] = df['cur_floor'].astype('int64')\n",
    "df['total_floor'] = df['total_floor'].astype('int64')\n",
    "df['len'] = df['len'].astype('float64')\n",
    "df['lon'] = df['lon'].astype('float64')"
   ]
  },
  {
   "cell_type": "code",
   "execution_count": 139,
   "id": "e6e672b3-2ac2-43c1-b044-65344beb930e",
   "metadata": {},
   "outputs": [],
   "source": [
    "df_all_data = df['all_data']"
   ]
  },
  {
   "cell_type": "code",
   "execution_count": 140,
   "id": "146d8e00-f470-473d-857e-b4237cf9076a",
   "metadata": {},
   "outputs": [],
   "source": [
    "df = df.drop(['all_data'], axis=1)"
   ]
  },
  {
   "cell_type": "code",
   "execution_count": 141,
   "id": "28c2e0a3-86d3-4209-90a1-88e6906369e9",
   "metadata": {},
   "outputs": [
    {
     "data": {
      "text/plain": [
       "array(['Balkons', '', 'Parkošanas vieta', 'Balkons, Parkošanas vieta',\n",
       "       'Terase, Parkošanas vieta', 'Lodžija, Parkošanas vieta',\n",
       "       '01000300083001', 'Lodžija', 'Pirts, Parkošanas vieta',\n",
       "       'Balkons, Terase, Parkošanas vieta', 'Terase', '01009264161',\n",
       "       'Balkons, Lodžija', '01000200110', '010092439718', '01000050035',\n",
       "       'Balkons, Lodžija, Parkošanas vieta'], dtype=object)"
      ]
     },
     "execution_count": 141,
     "metadata": {},
     "output_type": "execute_result"
    }
   ],
   "source": [
    "df['facilities'].unique()"
   ]
  },
  {
   "cell_type": "code",
   "execution_count": 142,
   "id": "a51e71c7-8188-4113-baf1-44706de3a64e",
   "metadata": {},
   "outputs": [],
   "source": [
    "arr_facilities = ['Terase', 'Terase, Parkošanas vieta', 'Lodžija',\n",
    "       'Lodžija, Parkošanas vieta', 'Parkošanas vieta', 'Balkons',\n",
    "       'Balkons, Lodžija, Terase',\n",
    "       'Pirts, Parkošanas vieta', 'Balkons, Parkošanas vieta',\n",
    "       'Balkons, Lodžija', 'Balkons, Lodžija, Parkošanas vieta',\n",
    "       'Balkons, Lodžija, Terase, Parkošanas vieta',\n",
    "       'Balkons, Terase, Parkošanas vieta',\n",
    "       'Lodžija, Terase, Parkošanas vieta', 'Lodžija, Terase',\n",
    "       'Terase, Pirts']"
   ]
  },
  {
   "cell_type": "code",
   "execution_count": 143,
   "id": "1000b4a3-b937-4511-b2a1-da2558b8d9f3",
   "metadata": {},
   "outputs": [],
   "source": [
    "df['lift'] = np.where(df['lift']=='lifts',1,0)"
   ]
  },
  {
   "cell_type": "code",
   "execution_count": 144,
   "id": "6cbbb4de-220f-4b40-9efe-ea880cb23c39",
   "metadata": {},
   "outputs": [],
   "source": [
    "df['facilities'] = np.where(df['facilities'].isin(arr_facilities),df['facilities'],'')"
   ]
  },
  {
   "cell_type": "code",
   "execution_count": 145,
   "id": "1daae7b8-3d0f-44f7-8ff3-77df01d86350",
   "metadata": {},
   "outputs": [
    {
     "data": {
      "text/html": [
       "<div>\n",
       "<style scoped>\n",
       "    .dataframe tbody tr th:only-of-type {\n",
       "        vertical-align: middle;\n",
       "    }\n",
       "\n",
       "    .dataframe tbody tr th {\n",
       "        vertical-align: top;\n",
       "    }\n",
       "\n",
       "    .dataframe thead th {\n",
       "        text-align: right;\n",
       "    }\n",
       "</style>\n",
       "<table border=\"1\" class=\"dataframe\">\n",
       "  <thead>\n",
       "    <tr style=\"text-align: right;\">\n",
       "      <th></th>\n",
       "      <th>district</th>\n",
       "      <th>data_street</th>\n",
       "      <th>rooms</th>\n",
       "      <th>area</th>\n",
       "      <th>price</th>\n",
       "      <th>cur_floor</th>\n",
       "      <th>total_floor</th>\n",
       "      <th>lift</th>\n",
       "      <th>seria</th>\n",
       "      <th>house_type</th>\n",
       "      <th>facilities</th>\n",
       "      <th>len</th>\n",
       "      <th>lon</th>\n",
       "    </tr>\n",
       "  </thead>\n",
       "  <tbody>\n",
       "    <tr>\n",
       "      <th>0</th>\n",
       "      <td>Imanta</td>\n",
       "      <td>Kurzemes pr. 14</td>\n",
       "      <td>2</td>\n",
       "      <td>49.0</td>\n",
       "      <td>360</td>\n",
       "      <td>2</td>\n",
       "      <td>5</td>\n",
       "      <td>0</td>\n",
       "      <td>LT proj.</td>\n",
       "      <td>Mūra</td>\n",
       "      <td>Balkons</td>\n",
       "      <td>56.956893</td>\n",
       "      <td>24.033608</td>\n",
       "    </tr>\n",
       "    <tr>\n",
       "      <th>1</th>\n",
       "      <td>Āgenskalns</td>\n",
       "      <td>Strazdu 8</td>\n",
       "      <td>1</td>\n",
       "      <td>22.0</td>\n",
       "      <td>200</td>\n",
       "      <td>1</td>\n",
       "      <td>2</td>\n",
       "      <td>0</td>\n",
       "      <td>P. kara</td>\n",
       "      <td>Koka</td>\n",
       "      <td></td>\n",
       "      <td>56.938993</td>\n",
       "      <td>24.077897</td>\n",
       "    </tr>\n",
       "    <tr>\n",
       "      <th>2</th>\n",
       "      <td>centrs</td>\n",
       "      <td>Strēlnieku 7</td>\n",
       "      <td>3</td>\n",
       "      <td>84.3</td>\n",
       "      <td>1300</td>\n",
       "      <td>4</td>\n",
       "      <td>7</td>\n",
       "      <td>1</td>\n",
       "      <td>Jaun.</td>\n",
       "      <td>Ķieģeļu-paneļu</td>\n",
       "      <td>Parkošanas vieta</td>\n",
       "      <td>56.959620</td>\n",
       "      <td>24.107779</td>\n",
       "    </tr>\n",
       "    <tr>\n",
       "      <th>3</th>\n",
       "      <td>centrs</td>\n",
       "      <td>J. Daliņa 8</td>\n",
       "      <td>3</td>\n",
       "      <td>87.0</td>\n",
       "      <td>1300</td>\n",
       "      <td>4</td>\n",
       "      <td>23</td>\n",
       "      <td>0</td>\n",
       "      <td>Jaun.</td>\n",
       "      <td>Paneļu</td>\n",
       "      <td>Balkons, Parkošanas vieta</td>\n",
       "      <td>56.970370</td>\n",
       "      <td>24.128580</td>\n",
       "    </tr>\n",
       "    <tr>\n",
       "      <th>4</th>\n",
       "      <td>centrs</td>\n",
       "      <td>Eksporta 8</td>\n",
       "      <td>4</td>\n",
       "      <td>260.0</td>\n",
       "      <td>3000</td>\n",
       "      <td>2</td>\n",
       "      <td>2</td>\n",
       "      <td>0</td>\n",
       "      <td>Jaun.</td>\n",
       "      <td>Mūra</td>\n",
       "      <td>Terase, Parkošanas vieta</td>\n",
       "      <td>56.965000</td>\n",
       "      <td>24.098444</td>\n",
       "    </tr>\n",
       "  </tbody>\n",
       "</table>\n",
       "</div>"
      ],
      "text/plain": [
       "     district      data_street rooms   area  price  cur_floor  total_floor  \\\n",
       "0      Imanta  Kurzemes pr. 14     2   49.0    360          2            5   \n",
       "1  Āgenskalns        Strazdu 8     1   22.0    200          1            2   \n",
       "2      centrs     Strēlnieku 7     3   84.3   1300          4            7   \n",
       "3      centrs      J. Daliņa 8     3   87.0   1300          4           23   \n",
       "4      centrs       Eksporta 8     4  260.0   3000          2            2   \n",
       "\n",
       "   lift     seria      house_type                 facilities        len  \\\n",
       "0     0  LT proj.            Mūra                    Balkons  56.956893   \n",
       "1     0   P. kara            Koka                             56.938993   \n",
       "2     1     Jaun.  Ķieģeļu-paneļu           Parkošanas vieta  56.959620   \n",
       "3     0     Jaun.          Paneļu  Balkons, Parkošanas vieta  56.970370   \n",
       "4     0     Jaun.            Mūra   Terase, Parkošanas vieta  56.965000   \n",
       "\n",
       "         lon  \n",
       "0  24.033608  \n",
       "1  24.077897  \n",
       "2  24.107779  \n",
       "3  24.128580  \n",
       "4  24.098444  "
      ]
     },
     "execution_count": 145,
     "metadata": {},
     "output_type": "execute_result"
    }
   ],
   "source": [
    "df.head()"
   ]
  },
  {
   "cell_type": "code",
   "execution_count": null,
   "id": "83be652c-d5bb-482b-bbcb-ab3b437b5cec",
   "metadata": {},
   "outputs": [],
   "source": []
  }
 ],
 "metadata": {
  "kernelspec": {
   "display_name": "Python 3 (ipykernel)",
   "language": "python",
   "name": "python3"
  },
  "language_info": {
   "codemirror_mode": {
    "name": "ipython",
    "version": 3
   },
   "file_extension": ".py",
   "mimetype": "text/x-python",
   "name": "python",
   "nbconvert_exporter": "python",
   "pygments_lexer": "ipython3",
   "version": "3.9.12"
  },
  "toc-autonumbering": true
 },
 "nbformat": 4,
 "nbformat_minor": 5
}
