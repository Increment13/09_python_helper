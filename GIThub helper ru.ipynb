{
 "cells": [
  {
   "cell_type": "markdown",
   "id": "fa24f770-12f5-4446-a767-220df5e9e847",
   "metadata": {},
   "source": [
    "# Шпаргалка: командная строка"
   ]
  },
  {
   "cell_type": "markdown",
   "id": "bce8aa4b-becd-4ff7-8342-f3ae12039219",
   "metadata": {},
   "source": [
    "- `pwd` — покажи в какой я папке;\n",
    "- `ls` — покажи файлы в папке, где я сейчас;\n",
    "- `cd project` — перейди в папку project;\n",
    "- `cd project/data` — перейди в папку data, находящуюся в папке first;\n",
    "- `cd ..` — перейди на уровень выше в родительскую папку;\n",
    "- `cd ~` — перейди в домашнюю директорию (у нас это /Users/MSI);\n",
    "- `mkdir result` — в текущей папке создай папку с именем result;\n",
    "- `rm Untitled.ipynb` — удали файл Untitled.ipynb;\n",
    "- `rmdir result` — удали папку images;\n",
    "- `rm -r project` — удали папку second-project и всё, что она содержит;\n",
    "- `touch report_WL.py` — создай файл report_WL.py в текущей папке;\n",
    "- `touch report_WL.py ldr_data.py lib.py` — если нужно создать несколько файлов, их имена можно вводить через пробел."
   ]
  },
  {
   "cell_type": "markdown",
   "id": "671d95f4-2d88-48a0-8ab3-9d851552cdba",
   "metadata": {},
   "source": [
    "Чтобы не вводить названия файлов и папок полностью, можно начать вводить их имя и нажать клавишу `Tab`. Командная строка допишет путь сама, если соответствующий файл или папка есть в текущей директории. "
   ]
  },
  {
   "cell_type": "markdown",
   "id": "49a716ca-4e1e-4f24-b779-22fcf05dedb7",
   "metadata": {},
   "source": [
    "# Шпаргалка: Git "
   ]
  },
  {
   "cell_type": "markdown",
   "id": "250e0fa8-e8d8-414e-bc5d-94200c401b22",
   "metadata": {},
   "source": [
    "## Команды для синхронизации локального репозитория с удалённым."
   ]
  },
  {
   "cell_type": "markdown",
   "id": "7bd8d3fb-737c-478f-921c-e95cca2cec5d",
   "metadata": {},
   "source": [
    "- `git remote add origin git@github.com:Increment13/kaggle_riga.git` — находясь в папке с локальным репозиторием, привязываем его к удалённому (SSH или URL у вас будет свой);\n",
    "- `git push -u origin main` — заливаем все файлы из локального репозитория в удалённый, который уже привязали."
   ]
  },
  {
   "cell_type": "markdown",
   "id": "1a1be9cf-9f72-4e94-b6b3-5e29bd6e0f84",
   "metadata": {},
   "source": [
    "## Команды для того чтобы сделать сохранение — коммит."
   ]
  },
  {
   "cell_type": "markdown",
   "id": "aee29fd5-013f-4324-aaf8-e79ed42c2009",
   "metadata": {},
   "source": [
    "- `git add` название_файла — готовим выбранный файл к коммиту;\n",
    "- `git add -A` — чтобы ничего не потерять, можно подготовить к коммиту сразу все файлы, в которых были изменения;\n",
    "- `git commit -m \"комментарий к коммиту\"` — делаем коммит. К сохранённым файлам оставляем комментарий для того, чтобы проще было понять, какие сделаны изменения."
   ]
  },
  {
   "cell_type": "markdown",
   "id": "4cff5670-0ffa-4f8f-8310-61f64651544a",
   "metadata": {},
   "source": [
    "## Команды для публикации изменений:"
   ]
  },
  {
   "cell_type": "markdown",
   "id": "89509299-a206-4741-b09d-52a70588fb5b",
   "metadata": {},
   "source": [
    "- `git pull` — забрать изменения, сделанные другими разработчиками;\n",
    "- `git push` — опубликовать изменения в удалённый репозиторий."
   ]
  }
 ],
 "metadata": {
  "kernelspec": {
   "display_name": "Python 3 (ipykernel)",
   "language": "python",
   "name": "python3"
  },
  "language_info": {
   "codemirror_mode": {
    "name": "ipython",
    "version": 3
   },
   "file_extension": ".py",
   "mimetype": "text/x-python",
   "name": "python",
   "nbconvert_exporter": "python",
   "pygments_lexer": "ipython3",
   "version": "3.10.9"
  }
 },
 "nbformat": 4,
 "nbformat_minor": 5
}
