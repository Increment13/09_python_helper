{
 "cells": [
  {
   "cell_type": "code",
   "execution_count": 3,
   "id": "344ce285-57db-4666-88d6-ab16634a8771",
   "metadata": {},
   "outputs": [],
   "source": [
    "import pandas as pd\n",
    "import numpy as np\n",
    "\n",
    "import warnings\n",
    "from pandas.core.common import SettingWithCopyWarning\n",
    "warnings.simplefilter(action='ignore', category=SettingWithCopyWarning)\n",
    "warnings.filterwarnings('ignore')"
   ]
  },
  {
   "cell_type": "markdown",
   "id": "80152a1d-854b-4d2d-af4d-417496a2b9d8",
   "metadata": {},
   "source": [
    "# work with date pandas"
   ]
  },
  {
   "cell_type": "code",
   "execution_count": 5,
   "id": "4719d084-ca9b-4ad7-b46e-0e59b522c500",
   "metadata": {},
   "outputs": [],
   "source": [
    "df = pd.read_excel('./data/date_tr.xlsx')"
   ]
  },
  {
   "cell_type": "code",
   "execution_count": 7,
   "id": "6e74a6a3-78ca-4c92-bfed-de5d07cac02e",
   "metadata": {},
   "outputs": [
    {
     "name": "stdout",
     "output_type": "stream",
     "text": [
      "<class 'pandas.core.frame.DataFrame'>\n",
      "RangeIndex: 399 entries, 0 to 398\n",
      "Data columns (total 1 columns):\n",
      " #   Column        Non-Null Count  Dtype         \n",
      "---  ------        --------------  -----         \n",
      " 0   opening_date  399 non-null    datetime64[ns]\n",
      "dtypes: datetime64[ns](1)\n",
      "memory usage: 3.2 KB\n"
     ]
    },
    {
     "data": {
      "text/plain": [
       "None"
      ]
     },
     "metadata": {},
     "output_type": "display_data"
    },
    {
     "data": {
      "text/html": [
       "<div>\n",
       "<style scoped>\n",
       "    .dataframe tbody tr th:only-of-type {\n",
       "        vertical-align: middle;\n",
       "    }\n",
       "\n",
       "    .dataframe tbody tr th {\n",
       "        vertical-align: top;\n",
       "    }\n",
       "\n",
       "    .dataframe thead th {\n",
       "        text-align: right;\n",
       "    }\n",
       "</style>\n",
       "<table border=\"1\" class=\"dataframe\">\n",
       "  <thead>\n",
       "    <tr style=\"text-align: right;\">\n",
       "      <th></th>\n",
       "      <th>opening_date</th>\n",
       "    </tr>\n",
       "  </thead>\n",
       "  <tbody>\n",
       "    <tr>\n",
       "      <th>159</th>\n",
       "      <td>2022-06-14</td>\n",
       "    </tr>\n",
       "  </tbody>\n",
       "</table>\n",
       "</div>"
      ],
      "text/plain": [
       "    opening_date\n",
       "159   2022-06-14"
      ]
     },
     "execution_count": 7,
     "metadata": {},
     "output_type": "execute_result"
    }
   ],
   "source": [
    "display(df.info())\n",
    "df.sample()"
   ]
  },
  {
   "cell_type": "code",
   "execution_count": 8,
   "id": "0f286bdb-341e-48c2-947e-c3e9d105bf3c",
   "metadata": {},
   "outputs": [
    {
     "name": "stdout",
     "output_type": "stream",
     "text": [
      "<class 'pandas.core.frame.DataFrame'>\n",
      "RangeIndex: 399 entries, 0 to 398\n",
      "Data columns (total 1 columns):\n",
      " #   Column        Non-Null Count  Dtype \n",
      "---  ------        --------------  ----- \n",
      " 0   opening_date  399 non-null    object\n",
      "dtypes: object(1)\n",
      "memory usage: 3.2+ KB\n"
     ]
    },
    {
     "data": {
      "text/plain": [
       "None"
      ]
     },
     "metadata": {},
     "output_type": "display_data"
    },
    {
     "data": {
      "text/html": [
       "<div>\n",
       "<style scoped>\n",
       "    .dataframe tbody tr th:only-of-type {\n",
       "        vertical-align: middle;\n",
       "    }\n",
       "\n",
       "    .dataframe tbody tr th {\n",
       "        vertical-align: top;\n",
       "    }\n",
       "\n",
       "    .dataframe thead th {\n",
       "        text-align: right;\n",
       "    }\n",
       "</style>\n",
       "<table border=\"1\" class=\"dataframe\">\n",
       "  <thead>\n",
       "    <tr style=\"text-align: right;\">\n",
       "      <th></th>\n",
       "      <th>opening_date</th>\n",
       "    </tr>\n",
       "  </thead>\n",
       "  <tbody>\n",
       "    <tr>\n",
       "      <th>38</th>\n",
       "      <td>2017-10-11</td>\n",
       "    </tr>\n",
       "  </tbody>\n",
       "</table>\n",
       "</div>"
      ],
      "text/plain": [
       "   opening_date\n",
       "38   2017-10-11"
      ]
     },
     "execution_count": 8,
     "metadata": {},
     "output_type": "execute_result"
    }
   ],
   "source": [
    "df['opening_date'] = df['opening_date'].astype('U')\n",
    "display(df.info())\n",
    "df.sample()"
   ]
  },
  {
   "cell_type": "code",
   "execution_count": 10,
   "id": "7f91982c-6c4a-4919-a7e2-dc27abeb5a0f",
   "metadata": {},
   "outputs": [
    {
     "name": "stdout",
     "output_type": "stream",
     "text": [
      "<class 'pandas.core.frame.DataFrame'>\n",
      "RangeIndex: 399 entries, 0 to 398\n",
      "Data columns (total 1 columns):\n",
      " #   Column        Non-Null Count  Dtype         \n",
      "---  ------        --------------  -----         \n",
      " 0   opening_date  399 non-null    datetime64[ns]\n",
      "dtypes: datetime64[ns](1)\n",
      "memory usage: 3.2 KB\n"
     ]
    }
   ],
   "source": [
    "# %Y\n",
    "# %m\n",
    "# %d\n",
    "# %H\n",
    "# %M\n",
    "# %S\n",
    "# %f\n",
    "df['opening_date'] = pd.to_datetime(df['opening_date'], format='%Y-%m-%d')\n",
    "df.info()"
   ]
  },
  {
   "cell_type": "markdown",
   "id": "59612c29-cc97-494b-a925-554eaafc892b",
   "metadata": {},
   "source": [
    "## What if the date is not in the standard format?"
   ]
  },
  {
   "cell_type": "markdown",
   "id": "20905491-cd72-421c-881a-ea5c9121d444",
   "metadata": {},
   "source": [
    "- What is your favorite dating format?\n",
    "- YYYY MM DD"
   ]
  },
  {
   "cell_type": "code",
   "execution_count": 11,
   "id": "9e830de7-0554-4d28-8f85-174bd2b466c6",
   "metadata": {},
   "outputs": [],
   "source": [
    "df['opening_date'] = df['opening_date'].astype('U')\n",
    "\n",
    "df['opening_date'] = np.where(1==1,\n",
    "                              df['opening_date'].str.replace('-',''),\n",
    "                              1)"
   ]
  },
  {
   "cell_type": "code",
   "execution_count": 12,
   "id": "8c597f4c-fd83-471f-a768-ab37a3e2ddef",
   "metadata": {},
   "outputs": [
    {
     "data": {
      "text/html": [
       "<div>\n",
       "<style scoped>\n",
       "    .dataframe tbody tr th:only-of-type {\n",
       "        vertical-align: middle;\n",
       "    }\n",
       "\n",
       "    .dataframe tbody tr th {\n",
       "        vertical-align: top;\n",
       "    }\n",
       "\n",
       "    .dataframe thead th {\n",
       "        text-align: right;\n",
       "    }\n",
       "</style>\n",
       "<table border=\"1\" class=\"dataframe\">\n",
       "  <thead>\n",
       "    <tr style=\"text-align: right;\">\n",
       "      <th></th>\n",
       "      <th>opening_date</th>\n",
       "    </tr>\n",
       "  </thead>\n",
       "  <tbody>\n",
       "    <tr>\n",
       "      <th>11</th>\n",
       "      <td>20180220</td>\n",
       "    </tr>\n",
       "  </tbody>\n",
       "</table>\n",
       "</div>"
      ],
      "text/plain": [
       "   opening_date\n",
       "11     20180220"
      ]
     },
     "execution_count": 12,
     "metadata": {},
     "output_type": "execute_result"
    }
   ],
   "source": [
    "df.sample()"
   ]
  },
  {
   "cell_type": "code",
   "execution_count": 13,
   "id": "44b8a57c-7975-471e-9013-fb76f227716f",
   "metadata": {},
   "outputs": [
    {
     "data": {
      "text/html": [
       "<div>\n",
       "<style scoped>\n",
       "    .dataframe tbody tr th:only-of-type {\n",
       "        vertical-align: middle;\n",
       "    }\n",
       "\n",
       "    .dataframe tbody tr th {\n",
       "        vertical-align: top;\n",
       "    }\n",
       "\n",
       "    .dataframe thead th {\n",
       "        text-align: right;\n",
       "    }\n",
       "</style>\n",
       "<table border=\"1\" class=\"dataframe\">\n",
       "  <thead>\n",
       "    <tr style=\"text-align: right;\">\n",
       "      <th></th>\n",
       "      <th>opening_date</th>\n",
       "    </tr>\n",
       "  </thead>\n",
       "  <tbody>\n",
       "    <tr>\n",
       "      <th>204</th>\n",
       "      <td>2016-05-06</td>\n",
       "    </tr>\n",
       "  </tbody>\n",
       "</table>\n",
       "</div>"
      ],
      "text/plain": [
       "    opening_date\n",
       "204   2016-05-06"
      ]
     },
     "execution_count": 13,
     "metadata": {},
     "output_type": "execute_result"
    }
   ],
   "source": [
    "df['opening_date'] = pd.to_datetime(df['opening_date'], format='%Y%m%d')\n",
    "df.sample()"
   ]
  },
  {
   "cell_type": "markdown",
   "id": "24becfc0-c5de-4850-8cfe-562a5b7b7d8d",
   "metadata": {},
   "source": [
    "## How to extract information from a date"
   ]
  },
  {
   "cell_type": "code",
   "execution_count": 14,
   "id": "71d56c50-675d-4b06-a1a7-89de57aef110",
   "metadata": {},
   "outputs": [],
   "source": [
    "df['Y'] = df['opening_date'].dt.year\n",
    "df['M'] = df['opening_date'].dt.month\n",
    "df['D'] = df['opening_date'].dt.day\n",
    "\n",
    "df['WOF'] = df['opening_date'].dt.weekofyear\n",
    "df['DOW'] = df['opening_date'].dt.dayofweek # don't forget to count from zero\n",
    "\n",
    "df['is_weekend'] = df['opening_date'].dt.dayofweek.isin([5,6])*1\n",
    "\n",
    "\n",
    "df['year_month'] = df['opening_date'].dt.to_period('M')\n",
    "# B    business day frequency\n",
    "# D    calendar day frequency\n",
    "# W    weekly frequency\n",
    "# M    monthly frequency\n",
    "# Q    quarterly frequency\n",
    "# A, Y    yearly frequency\n",
    "# H    hourly frequency\n",
    "# T, min    minutely frequency\n",
    "# S    secondly frequency\n",
    "# L, ms\t    milliseconds\n",
    "# U, us    microseconds\n",
    "# N    nanoseconds\n"
   ]
  },
  {
   "cell_type": "code",
   "execution_count": 15,
   "id": "f78129bd-7cc4-4945-bf51-80ead1485346",
   "metadata": {},
   "outputs": [
    {
     "data": {
      "text/html": [
       "<div>\n",
       "<style scoped>\n",
       "    .dataframe tbody tr th:only-of-type {\n",
       "        vertical-align: middle;\n",
       "    }\n",
       "\n",
       "    .dataframe tbody tr th {\n",
       "        vertical-align: top;\n",
       "    }\n",
       "\n",
       "    .dataframe thead th {\n",
       "        text-align: right;\n",
       "    }\n",
       "</style>\n",
       "<table border=\"1\" class=\"dataframe\">\n",
       "  <thead>\n",
       "    <tr style=\"text-align: right;\">\n",
       "      <th></th>\n",
       "      <th>opening_date</th>\n",
       "      <th>Y</th>\n",
       "      <th>M</th>\n",
       "      <th>D</th>\n",
       "      <th>WOF</th>\n",
       "      <th>DOW</th>\n",
       "      <th>is_weekend</th>\n",
       "      <th>year_month</th>\n",
       "    </tr>\n",
       "  </thead>\n",
       "  <tbody>\n",
       "    <tr>\n",
       "      <th>161</th>\n",
       "      <td>2022-08-22</td>\n",
       "      <td>2022</td>\n",
       "      <td>8</td>\n",
       "      <td>22</td>\n",
       "      <td>34</td>\n",
       "      <td>0</td>\n",
       "      <td>0</td>\n",
       "      <td>2022-08</td>\n",
       "    </tr>\n",
       "    <tr>\n",
       "      <th>358</th>\n",
       "      <td>2021-10-07</td>\n",
       "      <td>2021</td>\n",
       "      <td>10</td>\n",
       "      <td>7</td>\n",
       "      <td>40</td>\n",
       "      <td>3</td>\n",
       "      <td>0</td>\n",
       "      <td>2021-10</td>\n",
       "    </tr>\n",
       "    <tr>\n",
       "      <th>381</th>\n",
       "      <td>2018-07-26</td>\n",
       "      <td>2018</td>\n",
       "      <td>7</td>\n",
       "      <td>26</td>\n",
       "      <td>30</td>\n",
       "      <td>3</td>\n",
       "      <td>0</td>\n",
       "      <td>2018-07</td>\n",
       "    </tr>\n",
       "    <tr>\n",
       "      <th>110</th>\n",
       "      <td>2019-10-07</td>\n",
       "      <td>2019</td>\n",
       "      <td>10</td>\n",
       "      <td>7</td>\n",
       "      <td>41</td>\n",
       "      <td>0</td>\n",
       "      <td>0</td>\n",
       "      <td>2019-10</td>\n",
       "    </tr>\n",
       "    <tr>\n",
       "      <th>77</th>\n",
       "      <td>2016-01-06</td>\n",
       "      <td>2016</td>\n",
       "      <td>1</td>\n",
       "      <td>6</td>\n",
       "      <td>1</td>\n",
       "      <td>2</td>\n",
       "      <td>0</td>\n",
       "      <td>2016-01</td>\n",
       "    </tr>\n",
       "  </tbody>\n",
       "</table>\n",
       "</div>"
      ],
      "text/plain": [
       "    opening_date     Y   M   D  WOF  DOW  is_weekend year_month\n",
       "161   2022-08-22  2022   8  22   34    0           0    2022-08\n",
       "358   2021-10-07  2021  10   7   40    3           0    2021-10\n",
       "381   2018-07-26  2018   7  26   30    3           0    2018-07\n",
       "110   2019-10-07  2019  10   7   41    0           0    2019-10\n",
       "77    2016-01-06  2016   1   6    1    2           0    2016-01"
      ]
     },
     "execution_count": 15,
     "metadata": {},
     "output_type": "execute_result"
    }
   ],
   "source": [
    "df.sample(5)"
   ]
  },
  {
   "cell_type": "markdown",
   "id": "144e1243-756e-4a03-98d1-def8408b337d",
   "metadata": {},
   "source": [
    "## How to add a time interval to a date?"
   ]
  },
  {
   "cell_type": "code",
   "execution_count": 16,
   "id": "bb4e152a-f2aa-4d48-adff-5d7b8916bf68",
   "metadata": {},
   "outputs": [
    {
     "data": {
      "text/html": [
       "<div>\n",
       "<style scoped>\n",
       "    .dataframe tbody tr th:only-of-type {\n",
       "        vertical-align: middle;\n",
       "    }\n",
       "\n",
       "    .dataframe tbody tr th {\n",
       "        vertical-align: top;\n",
       "    }\n",
       "\n",
       "    .dataframe thead th {\n",
       "        text-align: right;\n",
       "    }\n",
       "</style>\n",
       "<table border=\"1\" class=\"dataframe\">\n",
       "  <thead>\n",
       "    <tr style=\"text-align: right;\">\n",
       "      <th></th>\n",
       "      <th>opening_date</th>\n",
       "      <th>Y</th>\n",
       "      <th>M</th>\n",
       "      <th>D</th>\n",
       "      <th>WOF</th>\n",
       "      <th>DOW</th>\n",
       "      <th>is_weekend</th>\n",
       "      <th>year_month</th>\n",
       "      <th>opening_date_plus_month</th>\n",
       "    </tr>\n",
       "  </thead>\n",
       "  <tbody>\n",
       "    <tr>\n",
       "      <th>318</th>\n",
       "      <td>2020-05-18</td>\n",
       "      <td>2020</td>\n",
       "      <td>5</td>\n",
       "      <td>18</td>\n",
       "      <td>21</td>\n",
       "      <td>0</td>\n",
       "      <td>0</td>\n",
       "      <td>2020-05</td>\n",
       "      <td>2020-06-18</td>\n",
       "    </tr>\n",
       "    <tr>\n",
       "      <th>131</th>\n",
       "      <td>2021-03-22</td>\n",
       "      <td>2021</td>\n",
       "      <td>3</td>\n",
       "      <td>22</td>\n",
       "      <td>12</td>\n",
       "      <td>0</td>\n",
       "      <td>0</td>\n",
       "      <td>2021-03</td>\n",
       "      <td>2021-04-22</td>\n",
       "    </tr>\n",
       "    <tr>\n",
       "      <th>145</th>\n",
       "      <td>2016-05-11</td>\n",
       "      <td>2016</td>\n",
       "      <td>5</td>\n",
       "      <td>11</td>\n",
       "      <td>19</td>\n",
       "      <td>2</td>\n",
       "      <td>0</td>\n",
       "      <td>2016-05</td>\n",
       "      <td>2016-06-11</td>\n",
       "    </tr>\n",
       "    <tr>\n",
       "      <th>299</th>\n",
       "      <td>2023-06-14</td>\n",
       "      <td>2023</td>\n",
       "      <td>6</td>\n",
       "      <td>14</td>\n",
       "      <td>24</td>\n",
       "      <td>2</td>\n",
       "      <td>0</td>\n",
       "      <td>2023-06</td>\n",
       "      <td>2023-07-14</td>\n",
       "    </tr>\n",
       "    <tr>\n",
       "      <th>23</th>\n",
       "      <td>2018-06-13</td>\n",
       "      <td>2018</td>\n",
       "      <td>6</td>\n",
       "      <td>13</td>\n",
       "      <td>24</td>\n",
       "      <td>2</td>\n",
       "      <td>0</td>\n",
       "      <td>2018-06</td>\n",
       "      <td>2018-07-13</td>\n",
       "    </tr>\n",
       "  </tbody>\n",
       "</table>\n",
       "</div>"
      ],
      "text/plain": [
       "    opening_date     Y  M   D  WOF  DOW  is_weekend year_month  \\\n",
       "318   2020-05-18  2020  5  18   21    0           0    2020-05   \n",
       "131   2021-03-22  2021  3  22   12    0           0    2021-03   \n",
       "145   2016-05-11  2016  5  11   19    2           0    2016-05   \n",
       "299   2023-06-14  2023  6  14   24    2           0    2023-06   \n",
       "23    2018-06-13  2018  6  13   24    2           0    2018-06   \n",
       "\n",
       "    opening_date_plus_month  \n",
       "318              2020-06-18  \n",
       "131              2021-04-22  \n",
       "145              2016-06-11  \n",
       "299              2023-07-14  \n",
       "23               2018-07-13  "
      ]
     },
     "execution_count": 16,
     "metadata": {},
     "output_type": "execute_result"
    }
   ],
   "source": [
    "# years\n",
    "# months\n",
    "# weeks\n",
    "# days\n",
    "# hours\n",
    "# minutes\n",
    "# seconds\n",
    "# milliseconds\n",
    "# microseconds\n",
    "# nanoseconds\n",
    "\n",
    "df['opening_date_plus_month'] = df['opening_date'] + pd.DateOffset(months=1)\n",
    "\n",
    "df.sample(5)"
   ]
  },
  {
   "cell_type": "markdown",
   "id": "3f5c1242-45fd-4c69-ac1c-388a2b5ae393",
   "metadata": {},
   "source": [
    "## How to find the interval in days between two dates"
   ]
  },
  {
   "cell_type": "code",
   "execution_count": 17,
   "id": "3b638047-c86e-4ea0-a7f7-4df0e90159a6",
   "metadata": {},
   "outputs": [
    {
     "data": {
      "text/html": [
       "<div>\n",
       "<style scoped>\n",
       "    .dataframe tbody tr th:only-of-type {\n",
       "        vertical-align: middle;\n",
       "    }\n",
       "\n",
       "    .dataframe tbody tr th {\n",
       "        vertical-align: top;\n",
       "    }\n",
       "\n",
       "    .dataframe thead th {\n",
       "        text-align: right;\n",
       "    }\n",
       "</style>\n",
       "<table border=\"1\" class=\"dataframe\">\n",
       "  <thead>\n",
       "    <tr style=\"text-align: right;\">\n",
       "      <th></th>\n",
       "      <th>opening_date</th>\n",
       "      <th>Y</th>\n",
       "      <th>M</th>\n",
       "      <th>D</th>\n",
       "      <th>WOF</th>\n",
       "      <th>DOW</th>\n",
       "      <th>is_weekend</th>\n",
       "      <th>year_month</th>\n",
       "      <th>opening_date_plus_month</th>\n",
       "      <th>days_diff</th>\n",
       "    </tr>\n",
       "  </thead>\n",
       "  <tbody>\n",
       "    <tr>\n",
       "      <th>234</th>\n",
       "      <td>2020-07-03</td>\n",
       "      <td>2020</td>\n",
       "      <td>7</td>\n",
       "      <td>3</td>\n",
       "      <td>27</td>\n",
       "      <td>4</td>\n",
       "      <td>0</td>\n",
       "      <td>2020-07</td>\n",
       "      <td>2020-08-03</td>\n",
       "      <td>31</td>\n",
       "    </tr>\n",
       "    <tr>\n",
       "      <th>142</th>\n",
       "      <td>2010-08-10</td>\n",
       "      <td>2010</td>\n",
       "      <td>8</td>\n",
       "      <td>10</td>\n",
       "      <td>32</td>\n",
       "      <td>1</td>\n",
       "      <td>0</td>\n",
       "      <td>2010-08</td>\n",
       "      <td>2010-09-10</td>\n",
       "      <td>31</td>\n",
       "    </tr>\n",
       "    <tr>\n",
       "      <th>87</th>\n",
       "      <td>2016-03-29</td>\n",
       "      <td>2016</td>\n",
       "      <td>3</td>\n",
       "      <td>29</td>\n",
       "      <td>13</td>\n",
       "      <td>1</td>\n",
       "      <td>0</td>\n",
       "      <td>2016-03</td>\n",
       "      <td>2016-04-29</td>\n",
       "      <td>31</td>\n",
       "    </tr>\n",
       "    <tr>\n",
       "      <th>280</th>\n",
       "      <td>2012-11-15</td>\n",
       "      <td>2012</td>\n",
       "      <td>11</td>\n",
       "      <td>15</td>\n",
       "      <td>46</td>\n",
       "      <td>3</td>\n",
       "      <td>0</td>\n",
       "      <td>2012-11</td>\n",
       "      <td>2012-12-15</td>\n",
       "      <td>30</td>\n",
       "    </tr>\n",
       "    <tr>\n",
       "      <th>1</th>\n",
       "      <td>2017-12-11</td>\n",
       "      <td>2017</td>\n",
       "      <td>12</td>\n",
       "      <td>11</td>\n",
       "      <td>50</td>\n",
       "      <td>0</td>\n",
       "      <td>0</td>\n",
       "      <td>2017-12</td>\n",
       "      <td>2018-01-11</td>\n",
       "      <td>31</td>\n",
       "    </tr>\n",
       "  </tbody>\n",
       "</table>\n",
       "</div>"
      ],
      "text/plain": [
       "    opening_date     Y   M   D  WOF  DOW  is_weekend year_month  \\\n",
       "234   2020-07-03  2020   7   3   27    4           0    2020-07   \n",
       "142   2010-08-10  2010   8  10   32    1           0    2010-08   \n",
       "87    2016-03-29  2016   3  29   13    1           0    2016-03   \n",
       "280   2012-11-15  2012  11  15   46    3           0    2012-11   \n",
       "1     2017-12-11  2017  12  11   50    0           0    2017-12   \n",
       "\n",
       "    opening_date_plus_month  days_diff  \n",
       "234              2020-08-03         31  \n",
       "142              2010-09-10         31  \n",
       "87               2016-04-29         31  \n",
       "280              2012-12-15         30  \n",
       "1                2018-01-11         31  "
      ]
     },
     "execution_count": 17,
     "metadata": {},
     "output_type": "execute_result"
    }
   ],
   "source": [
    "df[\"days_diff\"] = (df[\"opening_date_plus_month\"] - df[\"opening_date\"]).dt.days\n",
    "\n",
    "df.sample(5)"
   ]
  },
  {
   "cell_type": "markdown",
   "id": "06cf0124-e9e9-4c8f-b653-379b4745da33",
   "metadata": {},
   "source": [
    "# lambda функции"
   ]
  },
  {
   "cell_type": "markdown",
   "id": "76306f49-2d93-40f9-bbcb-3f149b8f8751",
   "metadata": {},
   "source": [
    "## number squared"
   ]
  },
  {
   "cell_type": "code",
   "execution_count": 18,
   "id": "472c6854-016f-44c6-9134-98cbfe87e6af",
   "metadata": {},
   "outputs": [
    {
     "name": "stdout",
     "output_type": "stream",
     "text": [
      "10\n"
     ]
    }
   ],
   "source": [
    "double = lambda x: x*2\n",
    "print(double(5))"
   ]
  },
  {
   "cell_type": "markdown",
   "id": "129065f2-56ed-490e-8043-6a5fa823928f",
   "metadata": {},
   "source": [
    "## lambda и map()"
   ]
  },
  {
   "cell_type": "markdown",
   "id": "ba133fba-5d37-420a-a89a-b567be752332",
   "metadata": {},
   "source": [
    "map() is a built-in Python function that takes a function and a sequence as an argument. It works in such a way that it applies the passed function to each element."
   ]
  },
  {
   "cell_type": "code",
   "execution_count": 20,
   "id": "42cbf852-2b09-49a2-a32e-f57e44327a70",
   "metadata": {},
   "outputs": [
    {
     "data": {
      "text/plain": [
       "[2, 4, 6, 8]"
      ]
     },
     "execution_count": 20,
     "metadata": {},
     "output_type": "execute_result"
    }
   ],
   "source": [
    "array = [1, 2, 3, 4]\n",
    "\n",
    "array_update = list(map(lambda x: x*2, array))\n",
    "\n",
    "array_update"
   ]
  },
  {
   "cell_type": "markdown",
   "id": "5b23fcaa-9fb6-4169-907f-a60316649a46",
   "metadata": {},
   "source": [
    "## lambda и filter()"
   ]
  },
  {
   "cell_type": "markdown",
   "id": "4ccd869b-3478-430a-9e0d-5d1bca8266ac",
   "metadata": {},
   "source": [
    "filter() is another built-in function that filters the sequence of an iterable."
   ]
  },
  {
   "cell_type": "code",
   "execution_count": 21,
   "id": "d5f9d6f2-a504-4cff-a665-1e7c0d9a1b02",
   "metadata": {},
   "outputs": [
    {
     "name": "stdout",
     "output_type": "stream",
     "text": [
      "[2, 20]\n"
     ]
    }
   ],
   "source": [
    "def even_fn(x):\n",
    "    if x % 2 == 0:\n",
    "        return True\n",
    "    return False\n",
    "\n",
    "print(list(filter(even_fn, [1, 3, 2, 5, 20, 21])))"
   ]
  },
  {
   "cell_type": "code",
   "execution_count": null,
   "id": "6d4a4d60-4d8f-4b94-905e-5730ca13a07c",
   "metadata": {},
   "outputs": [],
   "source": [
    "print(list(filter(lambda x: x % 2 == 0, [1, 3, 2, 5, 20, 21])))"
   ]
  },
  {
   "cell_type": "markdown",
   "id": "2d20dc49-ff5d-4ab6-b902-0832387c31ba",
   "metadata": {},
   "source": [
    "## Lambda with multiple arguments"
   ]
  },
  {
   "cell_type": "code",
   "execution_count": 22,
   "id": "c0368b12-1a90-4090-aa57-e88a966e52d3",
   "metadata": {},
   "outputs": [
    {
     "data": {
      "text/plain": [
       "10"
      ]
     },
     "execution_count": 22,
     "metadata": {},
     "output_type": "execute_result"
    }
   ],
   "source": [
    "multiplication = lambda x, y: x * y\n",
    "multiplication(5, 2)\n"
   ]
  },
  {
   "cell_type": "markdown",
   "id": "0cb1d4c1-d738-4cd5-9aaf-a25a5c39f9e8",
   "metadata": {},
   "source": [
    "## Lambda and listing"
   ]
  },
  {
   "cell_type": "code",
   "execution_count": 26,
   "id": "95febc00-7094-4927-a342-87d57ed435eb",
   "metadata": {},
   "outputs": [],
   "source": [
    "tables = [lambda x = x: x*10 for x in range(1, 10)]\n",
    "\n",
    "# for table in tables:\n",
    "#     print(table())"
   ]
  },
  {
   "cell_type": "code",
   "execution_count": 27,
   "id": "7891c137-d0ea-4aef-85a5-163f6b1740a0",
   "metadata": {},
   "outputs": [
    {
     "data": {
      "text/plain": [
       "[<function __main__.<listcomp>.<lambda>(x=1)>,\n",
       " <function __main__.<listcomp>.<lambda>(x=2)>,\n",
       " <function __main__.<listcomp>.<lambda>(x=3)>,\n",
       " <function __main__.<listcomp>.<lambda>(x=4)>,\n",
       " <function __main__.<listcomp>.<lambda>(x=5)>,\n",
       " <function __main__.<listcomp>.<lambda>(x=6)>,\n",
       " <function __main__.<listcomp>.<lambda>(x=7)>,\n",
       " <function __main__.<listcomp>.<lambda>(x=8)>,\n",
       " <function __main__.<listcomp>.<lambda>(x=9)>]"
      ]
     },
     "execution_count": 27,
     "metadata": {},
     "output_type": "execute_result"
    }
   ],
   "source": [
    "tables"
   ]
  },
  {
   "cell_type": "markdown",
   "id": "854e0fba-d5ac-49d2-b341-a2bfbda13682",
   "metadata": {},
   "source": [
    "## Lambda and conditional statements"
   ]
  },
  {
   "cell_type": "code",
   "execution_count": 28,
   "id": "44ad7b71-9e76-47e9-a4df-acc282d7cef6",
   "metadata": {},
   "outputs": [
    {
     "data": {
      "text/plain": [
       "5"
      ]
     },
     "execution_count": 28,
     "metadata": {},
     "output_type": "execute_result"
    }
   ],
   "source": [
    "max_number = lambda a, b: a if a > b else b\n",
    "\n",
    "max_number(3, 5)"
   ]
  },
  {
   "cell_type": "markdown",
   "id": "5b80be27-bdea-47ca-ab16-4ee858fa7e8c",
   "metadata": {},
   "source": [
    "# tqm library or look at query execution time"
   ]
  },
  {
   "cell_type": "code",
   "execution_count": 31,
   "id": "bc5760cf-a101-4e5e-99a5-0ceb9b140295",
   "metadata": {},
   "outputs": [],
   "source": [
    "from tqdm.notebook import tqdm\n",
    "import datetime\n",
    "\n",
    "import configparser\n",
    "config = configparser.ConfigParser()\n",
    "from sqlalchemy import create_engine\n",
    "\n",
    "config.read('../../config.ini')\n",
    "\n",
    "user = config.get('SYBASE_PROD', 'user')\n",
    "pwd = config.get('SYBASE_PROD', 'pwd')\n",
    "dns = config.get('SYBASE_PROD', 'dns')\n",
    "engine = create_engine(f\"sybase+pyodbc://{user}:{pwd}@{dns}\")"
   ]
  },
  {
   "cell_type": "code",
   "execution_count": 34,
   "id": "c4ea2707-a69c-4953-a1c6-471cabf07249",
   "metadata": {},
   "outputs": [],
   "source": [
    "contracts1 = ['elem1','elem2'....]"
   ]
  },
  {
   "cell_type": "code",
   "execution_count": 35,
   "id": "1881a853-7677-4d33-a1a1-ee12d265d385",
   "metadata": {},
   "outputs": [],
   "source": [
    "for contract in contracts1:\n",
    "\n",
    "    query = f'''select contract_id  from dwh_table\n",
    "              where d_date='2021-12-31'\n",
    "                and contract_id='{contract}'\n",
    "             '''\n",
    "\n",
    "    df1 = pd.read_sql(query, engine)"
   ]
  },
  {
   "cell_type": "markdown",
   "id": "e5846562-0707-4ba0-916f-813ec36e7679",
   "metadata": {},
   "source": [
    "## use TQM and see each iteration"
   ]
  },
  {
   "cell_type": "code",
   "execution_count": 37,
   "id": "b5359e0d-39d2-4907-90a1-349b3cd9f47f",
   "metadata": {},
   "outputs": [
    {
     "data": {
      "application/vnd.jupyter.widget-view+json": {
       "model_id": "43ce570b09164565a3109b46ff2335e4",
       "version_major": 2,
       "version_minor": 0
      },
      "text/plain": [
       "  0%|          | 0/36 [00:00<?, ?it/s]"
      ]
     },
     "metadata": {},
     "output_type": "display_data"
    }
   ],
   "source": [
    "for contract in tqdm(contracts1):\n",
    "\n",
    "    query = f'''select contract_id  from dwh_table\n",
    "              where d_date='2021-12-31'\n",
    "                and contract_id='{contract}'\n",
    "             '''\n",
    "\n",
    "    df1 = pd.read_sql(query, engine)"
   ]
  },
  {
   "cell_type": "markdown",
   "id": "6133c583-5882-43d7-9f7d-dc6a3570e48e",
   "metadata": {},
   "source": [
    "## Using datetime to keep track of total time"
   ]
  },
  {
   "cell_type": "code",
   "execution_count": 39,
   "id": "d4a791e6-9367-4079-a8d0-34e2f4b15e11",
   "metadata": {},
   "outputs": [
    {
     "name": "stdout",
     "output_type": "stream",
     "text": [
      "Data load finished after: 4 seconds\n"
     ]
    }
   ],
   "source": [
    "start_time = datetime.datetime.now()\n",
    "\n",
    "for contract in contracts1:\n",
    "    \n",
    "    query = f'''select contract_id  from dwh_table\n",
    "              where d_date='2021-12-31'\n",
    "                and contract_id='{contract}'\n",
    "             '''\n",
    "    \n",
    "    df1 = pd.read_sql(query, engine)\n",
    "    \n",
    "print(\"Data load finished after: \" + str((datetime.datetime.now() - start_time).seconds) + \" seconds\")"
   ]
  },
  {
   "cell_type": "code",
   "execution_count": null,
   "id": "3b441b69-7c62-47b9-a909-04f14d2354ee",
   "metadata": {},
   "outputs": [],
   "source": []
  }
 ],
 "metadata": {
  "kernelspec": {
   "display_name": "Python 3 (ipykernel)",
   "language": "python",
   "name": "python3"
  },
  "language_info": {
   "codemirror_mode": {
    "name": "ipython",
    "version": 3
   },
   "file_extension": ".py",
   "mimetype": "text/x-python",
   "name": "python",
   "nbconvert_exporter": "python",
   "pygments_lexer": "ipython3",
   "version": "3.10.9"
  }
 },
 "nbformat": 4,
 "nbformat_minor": 5
}
